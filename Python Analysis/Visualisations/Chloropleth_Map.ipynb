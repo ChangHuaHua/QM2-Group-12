{
  "nbformat": 4,
  "nbformat_minor": 0,
  "metadata": {
    "colab": {
      "name": "Chloropleth Map.ipynb",
      "provenance": [],
      "toc_visible": true,
      "authorship_tag": "ABX9TyP0rG3IGRE2bhCcWfT3zxkl",
      "include_colab_link": true
    },
    "kernelspec": {
      "name": "python3",
      "display_name": "Python 3"
    }
  },
  "cells": [
    {
      "cell_type": "markdown",
      "metadata": {
        "id": "view-in-github",
        "colab_type": "text"
      },
      "source": [
        "<a href=\"https://colab.research.google.com/github/ChangHuaHua/QM2-Group-12/blob/main/Chloropleth_Map.ipynb\" target=\"_parent\"><img src=\"https://colab.research.google.com/assets/colab-badge.svg\" alt=\"Open In Colab\"/></a>"
      ]
    },
    {
      "cell_type": "code",
      "metadata": {
        "colab": {
          "base_uri": "https://localhost:8080/"
        },
        "id": "yXlCJaGE0878",
        "outputId": "77de76ee-bfcd-4210-b607-5fd64e7f4001"
      },
      "source": [
        "#Install the geopandas module\n",
        "!pip install geopandas\n",
        "\n",
        "#Uninstall any existing version; forcing Yes\n",
        "!pip uninstall --yes pysal\n",
        "\n",
        "#Install newest branch\n",
        "!pip install pysal==2.0.0\n",
        "\n",
        "#install mapclassify\n",
        "!pip install mapclassify\n"
      ],
      "execution_count": 2,
      "outputs": [
        {
          "output_type": "stream",
          "text": [
            "Collecting geopandas\n",
            "\u001b[?25l  Downloading https://files.pythonhosted.org/packages/f7/a4/e66aafbefcbb717813bf3a355c8c4fc3ed04ea1dd7feb2920f2f4f868921/geopandas-0.8.1-py2.py3-none-any.whl (962kB)\n",
            "\u001b[K     |████████████████████████████████| 972kB 8.8MB/s \n",
            "\u001b[?25hRequirement already satisfied: shapely in /usr/local/lib/python3.6/dist-packages (from geopandas) (1.7.1)\n",
            "Collecting fiona\n",
            "\u001b[?25l  Downloading https://files.pythonhosted.org/packages/37/94/4910fd55246c1d963727b03885ead6ef1cd3748a465f7b0239ab25dfc9a3/Fiona-1.8.18-cp36-cp36m-manylinux1_x86_64.whl (14.8MB)\n",
            "\u001b[K     |████████████████████████████████| 14.8MB 241kB/s \n",
            "\u001b[?25hRequirement already satisfied: pandas>=0.23.0 in /usr/local/lib/python3.6/dist-packages (from geopandas) (1.1.5)\n",
            "Collecting pyproj>=2.2.0\n",
            "\u001b[?25l  Downloading https://files.pythonhosted.org/packages/e4/ab/280e80a67cfc109d15428c0ec56391fc03a65857b7727cf4e6e6f99a4204/pyproj-3.0.0.post1-cp36-cp36m-manylinux2010_x86_64.whl (6.4MB)\n",
            "\u001b[K     |████████████████████████████████| 6.5MB 38.8MB/s \n",
            "\u001b[?25hRequirement already satisfied: certifi in /usr/local/lib/python3.6/dist-packages (from fiona->geopandas) (2020.12.5)\n",
            "Collecting cligj>=0.5\n",
            "  Downloading https://files.pythonhosted.org/packages/42/1e/947eadf10d6804bf276eb8a038bd5307996dceaaa41cfd21b7a15ec62f5d/cligj-0.7.1-py3-none-any.whl\n",
            "Requirement already satisfied: six>=1.7 in /usr/local/lib/python3.6/dist-packages (from fiona->geopandas) (1.15.0)\n",
            "Collecting munch\n",
            "  Downloading https://files.pythonhosted.org/packages/cc/ab/85d8da5c9a45e072301beb37ad7f833cd344e04c817d97e0cc75681d248f/munch-2.5.0-py2.py3-none-any.whl\n",
            "Requirement already satisfied: attrs>=17 in /usr/local/lib/python3.6/dist-packages (from fiona->geopandas) (20.3.0)\n",
            "Requirement already satisfied: click<8,>=4.0 in /usr/local/lib/python3.6/dist-packages (from fiona->geopandas) (7.1.2)\n",
            "Collecting click-plugins>=1.0\n",
            "  Downloading https://files.pythonhosted.org/packages/e9/da/824b92d9942f4e472702488857914bdd50f73021efea15b4cad9aca8ecef/click_plugins-1.1.1-py2.py3-none-any.whl\n",
            "Requirement already satisfied: pytz>=2017.2 in /usr/local/lib/python3.6/dist-packages (from pandas>=0.23.0->geopandas) (2018.9)\n",
            "Requirement already satisfied: python-dateutil>=2.7.3 in /usr/local/lib/python3.6/dist-packages (from pandas>=0.23.0->geopandas) (2.8.1)\n",
            "Requirement already satisfied: numpy>=1.15.4 in /usr/local/lib/python3.6/dist-packages (from pandas>=0.23.0->geopandas) (1.18.5)\n",
            "Installing collected packages: cligj, munch, click-plugins, fiona, pyproj, geopandas\n",
            "Successfully installed click-plugins-1.1.1 cligj-0.7.1 fiona-1.8.18 geopandas-0.8.1 munch-2.5.0 pyproj-3.0.0.post1\n",
            "\u001b[33mWARNING: Skipping pysal as it is not installed.\u001b[0m\n",
            "Collecting pysal==2.0.0\n",
            "\u001b[?25l  Downloading https://files.pythonhosted.org/packages/83/7e/73a34dbe08c6a03e7e776f518cc2a681bdfa96b012adfb3b70375fc9966c/pysal-2.0.0.tar.gz (24.9MB)\n",
            "\u001b[K     |████████████████████████████████| 25.0MB 1.8MB/s \n",
            "\u001b[?25hRequirement already satisfied: scipy>=0.11 in /usr/local/lib/python3.6/dist-packages (from pysal==2.0.0) (1.4.1)\n",
            "Requirement already satisfied: pandas in /usr/local/lib/python3.6/dist-packages (from pysal==2.0.0) (1.1.5)\n",
            "Requirement already satisfied: seaborn in /usr/local/lib/python3.6/dist-packages (from pysal==2.0.0) (0.11.0)\n",
            "Requirement already satisfied: matplotlib in /usr/local/lib/python3.6/dist-packages (from pysal==2.0.0) (3.2.2)\n",
            "Requirement already satisfied: descartes in /usr/local/lib/python3.6/dist-packages (from pysal==2.0.0) (1.1.0)\n",
            "Requirement already satisfied: palettable in /usr/local/lib/python3.6/dist-packages (from pysal==2.0.0) (3.3.0)\n",
            "Requirement already satisfied: numpy>=1.13.3 in /usr/local/lib/python3.6/dist-packages (from scipy>=0.11->pysal==2.0.0) (1.18.5)\n",
            "Requirement already satisfied: python-dateutil>=2.7.3 in /usr/local/lib/python3.6/dist-packages (from pandas->pysal==2.0.0) (2.8.1)\n",
            "Requirement already satisfied: pytz>=2017.2 in /usr/local/lib/python3.6/dist-packages (from pandas->pysal==2.0.0) (2018.9)\n",
            "Requirement already satisfied: kiwisolver>=1.0.1 in /usr/local/lib/python3.6/dist-packages (from matplotlib->pysal==2.0.0) (1.3.1)\n",
            "Requirement already satisfied: pyparsing!=2.0.4,!=2.1.2,!=2.1.6,>=2.0.1 in /usr/local/lib/python3.6/dist-packages (from matplotlib->pysal==2.0.0) (2.4.7)\n",
            "Requirement already satisfied: cycler>=0.10 in /usr/local/lib/python3.6/dist-packages (from matplotlib->pysal==2.0.0) (0.10.0)\n",
            "Requirement already satisfied: six>=1.5 in /usr/local/lib/python3.6/dist-packages (from python-dateutil>=2.7.3->pandas->pysal==2.0.0) (1.15.0)\n",
            "Building wheels for collected packages: pysal\n",
            "  Building wheel for pysal (setup.py) ... \u001b[?25l\u001b[?25hdone\n",
            "  Created wheel for pysal: filename=pysal-2.0.0-cp36-none-any.whl size=25231752 sha256=0b637095ac45e4dedabb90dd8dea64d01ab1cffdf2249af08762e040ea94ec84\n",
            "  Stored in directory: /root/.cache/pip/wheels/ca/b9/69/49a64348ddb1feaf76b426c81c1db7275cfabacd8bf4ccd778\n",
            "Successfully built pysal\n",
            "Installing collected packages: pysal\n",
            "Successfully installed pysal-2.0.0\n",
            "Collecting mapclassify\n",
            "  Downloading https://files.pythonhosted.org/packages/11/80/cd58dc848a93bfb01c4b84f26e3d5d6c64266163ca1e2453c3f6fb291ef7/mapclassify-2.3.0-py3-none-any.whl\n",
            "Requirement already satisfied: scipy>=1.0 in /usr/local/lib/python3.6/dist-packages (from mapclassify) (1.4.1)\n",
            "Requirement already satisfied: networkx in /usr/local/lib/python3.6/dist-packages (from mapclassify) (2.5)\n",
            "Requirement already satisfied: numpy>=1.3 in /usr/local/lib/python3.6/dist-packages (from mapclassify) (1.18.5)\n",
            "Requirement already satisfied: scikit-learn in /usr/local/lib/python3.6/dist-packages (from mapclassify) (0.22.2.post1)\n",
            "Requirement already satisfied: pandas>=1.0 in /usr/local/lib/python3.6/dist-packages (from mapclassify) (1.1.5)\n",
            "Requirement already satisfied: decorator>=4.3.0 in /usr/local/lib/python3.6/dist-packages (from networkx->mapclassify) (4.4.2)\n",
            "Requirement already satisfied: joblib>=0.11 in /usr/local/lib/python3.6/dist-packages (from scikit-learn->mapclassify) (0.17.0)\n",
            "Requirement already satisfied: python-dateutil>=2.7.3 in /usr/local/lib/python3.6/dist-packages (from pandas>=1.0->mapclassify) (2.8.1)\n",
            "Requirement already satisfied: pytz>=2017.2 in /usr/local/lib/python3.6/dist-packages (from pandas>=1.0->mapclassify) (2018.9)\n",
            "Requirement already satisfied: six>=1.5 in /usr/local/lib/python3.6/dist-packages (from python-dateutil>=2.7.3->pandas>=1.0->mapclassify) (1.15.0)\n",
            "Installing collected packages: mapclassify\n",
            "Successfully installed mapclassify-2.3.0\n"
          ],
          "name": "stdout"
        }
      ]
    },
    {
      "cell_type": "code",
      "metadata": {
        "id": "FbBqwQp41wgM"
      },
      "source": [
        "#!pip install descartes\n",
        "\n"
      ],
      "execution_count": 3,
      "outputs": []
    },
    {
      "cell_type": "code",
      "metadata": {
        "id": "cAOrg6eL1wWj"
      },
      "source": [
        "import geopandas as gp\n",
        "import pandas as pd\n",
        "import matplotlib.pyplot as plt\n",
        "import matplotlib\n",
        "import pylab\n",
        "import descartes\n",
        "import mapclassify \n",
        "\n",
        "%matplotlib inline\n",
        "\n",
        "plt.style.use('ggplot')\n",
        "pylab.rcParams['figure.figsize'] = (20., 16.)"
      ],
      "execution_count": 4,
      "outputs": []
    },
    {
      "cell_type": "markdown",
      "metadata": {
        "id": "hxSGrZdy37iC"
      },
      "source": [
        "# Interactive Map "
      ]
    },
    {
      "cell_type": "code",
      "metadata": {
        "id": "I6Olx9QH1ymJ"
      },
      "source": [
        "# Import statements\n",
        "import geopandas as gp\n",
        "import json\n",
        "import altair as alt\n",
        "import pandas as pd"
      ],
      "execution_count": 5,
      "outputs": []
    },
    {
      "cell_type": "code",
      "metadata": {
        "id": "upVqJaMHA45c"
      },
      "source": [
        ""
      ],
      "execution_count": 5,
      "outputs": []
    },
    {
      "cell_type": "code",
      "metadata": {
        "colab": {
          "resources": {
            "http://localhost:8080/nbextensions/google.colab/files.js": {
              "data": "Ly8gQ29weXJpZ2h0IDIwMTcgR29vZ2xlIExMQwovLwovLyBMaWNlbnNlZCB1bmRlciB0aGUgQXBhY2hlIExpY2Vuc2UsIFZlcnNpb24gMi4wICh0aGUgIkxpY2Vuc2UiKTsKLy8geW91IG1heSBub3QgdXNlIHRoaXMgZmlsZSBleGNlcHQgaW4gY29tcGxpYW5jZSB3aXRoIHRoZSBMaWNlbnNlLgovLyBZb3UgbWF5IG9idGFpbiBhIGNvcHkgb2YgdGhlIExpY2Vuc2UgYXQKLy8KLy8gICAgICBodHRwOi8vd3d3LmFwYWNoZS5vcmcvbGljZW5zZXMvTElDRU5TRS0yLjAKLy8KLy8gVW5sZXNzIHJlcXVpcmVkIGJ5IGFwcGxpY2FibGUgbGF3IG9yIGFncmVlZCB0byBpbiB3cml0aW5nLCBzb2Z0d2FyZQovLyBkaXN0cmlidXRlZCB1bmRlciB0aGUgTGljZW5zZSBpcyBkaXN0cmlidXRlZCBvbiBhbiAiQVMgSVMiIEJBU0lTLAovLyBXSVRIT1VUIFdBUlJBTlRJRVMgT1IgQ09ORElUSU9OUyBPRiBBTlkgS0lORCwgZWl0aGVyIGV4cHJlc3Mgb3IgaW1wbGllZC4KLy8gU2VlIHRoZSBMaWNlbnNlIGZvciB0aGUgc3BlY2lmaWMgbGFuZ3VhZ2UgZ292ZXJuaW5nIHBlcm1pc3Npb25zIGFuZAovLyBsaW1pdGF0aW9ucyB1bmRlciB0aGUgTGljZW5zZS4KCi8qKgogKiBAZmlsZW92ZXJ2aWV3IEhlbHBlcnMgZm9yIGdvb2dsZS5jb2xhYiBQeXRob24gbW9kdWxlLgogKi8KKGZ1bmN0aW9uKHNjb3BlKSB7CmZ1bmN0aW9uIHNwYW4odGV4dCwgc3R5bGVBdHRyaWJ1dGVzID0ge30pIHsKICBjb25zdCBlbGVtZW50ID0gZG9jdW1lbnQuY3JlYXRlRWxlbWVudCgnc3BhbicpOwogIGVsZW1lbnQudGV4dENvbnRlbnQgPSB0ZXh0OwogIGZvciAoY29uc3Qga2V5IG9mIE9iamVjdC5rZXlzKHN0eWxlQXR0cmlidXRlcykpIHsKICAgIGVsZW1lbnQuc3R5bGVba2V5XSA9IHN0eWxlQXR0cmlidXRlc1trZXldOwogIH0KICByZXR1cm4gZWxlbWVudDsKfQoKLy8gTWF4IG51bWJlciBvZiBieXRlcyB3aGljaCB3aWxsIGJlIHVwbG9hZGVkIGF0IGEgdGltZS4KY29uc3QgTUFYX1BBWUxPQURfU0laRSA9IDEwMCAqIDEwMjQ7CgpmdW5jdGlvbiBfdXBsb2FkRmlsZXMoaW5wdXRJZCwgb3V0cHV0SWQpIHsKICBjb25zdCBzdGVwcyA9IHVwbG9hZEZpbGVzU3RlcChpbnB1dElkLCBvdXRwdXRJZCk7CiAgY29uc3Qgb3V0cHV0RWxlbWVudCA9IGRvY3VtZW50LmdldEVsZW1lbnRCeUlkKG91dHB1dElkKTsKICAvLyBDYWNoZSBzdGVwcyBvbiB0aGUgb3V0cHV0RWxlbWVudCB0byBtYWtlIGl0IGF2YWlsYWJsZSBmb3IgdGhlIG5leHQgY2FsbAogIC8vIHRvIHVwbG9hZEZpbGVzQ29udGludWUgZnJvbSBQeXRob24uCiAgb3V0cHV0RWxlbWVudC5zdGVwcyA9IHN0ZXBzOwoKICByZXR1cm4gX3VwbG9hZEZpbGVzQ29udGludWUob3V0cHV0SWQpOwp9CgovLyBUaGlzIGlzIHJvdWdobHkgYW4gYXN5bmMgZ2VuZXJhdG9yIChub3Qgc3VwcG9ydGVkIGluIHRoZSBicm93c2VyIHlldCksCi8vIHdoZXJlIHRoZXJlIGFyZSBtdWx0aXBsZSBhc3luY2hyb25vdXMgc3RlcHMgYW5kIHRoZSBQeXRob24gc2lkZSBpcyBnb2luZwovLyB0byBwb2xsIGZvciBjb21wbGV0aW9uIG9mIGVhY2ggc3RlcC4KLy8gVGhpcyB1c2VzIGEgUHJvbWlzZSB0byBibG9jayB0aGUgcHl0aG9uIHNpZGUgb24gY29tcGxldGlvbiBvZiBlYWNoIHN0ZXAsCi8vIHRoZW4gcGFzc2VzIHRoZSByZXN1bHQgb2YgdGhlIHByZXZpb3VzIHN0ZXAgYXMgdGhlIGlucHV0IHRvIHRoZSBuZXh0IHN0ZXAuCmZ1bmN0aW9uIF91cGxvYWRGaWxlc0NvbnRpbnVlKG91dHB1dElkKSB7CiAgY29uc3Qgb3V0cHV0RWxlbWVudCA9IGRvY3VtZW50LmdldEVsZW1lbnRCeUlkKG91dHB1dElkKTsKICBjb25zdCBzdGVwcyA9IG91dHB1dEVsZW1lbnQuc3RlcHM7CgogIGNvbnN0IG5leHQgPSBzdGVwcy5uZXh0KG91dHB1dEVsZW1lbnQubGFzdFByb21pc2VWYWx1ZSk7CiAgcmV0dXJuIFByb21pc2UucmVzb2x2ZShuZXh0LnZhbHVlLnByb21pc2UpLnRoZW4oKHZhbHVlKSA9PiB7CiAgICAvLyBDYWNoZSB0aGUgbGFzdCBwcm9taXNlIHZhbHVlIHRvIG1ha2UgaXQgYXZhaWxhYmxlIHRvIHRoZSBuZXh0CiAgICAvLyBzdGVwIG9mIHRoZSBnZW5lcmF0b3IuCiAgICBvdXRwdXRFbGVtZW50Lmxhc3RQcm9taXNlVmFsdWUgPSB2YWx1ZTsKICAgIHJldHVybiBuZXh0LnZhbHVlLnJlc3BvbnNlOwogIH0pOwp9CgovKioKICogR2VuZXJhdG9yIGZ1bmN0aW9uIHdoaWNoIGlzIGNhbGxlZCBiZXR3ZWVuIGVhY2ggYXN5bmMgc3RlcCBvZiB0aGUgdXBsb2FkCiAqIHByb2Nlc3MuCiAqIEBwYXJhbSB7c3RyaW5nfSBpbnB1dElkIEVsZW1lbnQgSUQgb2YgdGhlIGlucHV0IGZpbGUgcGlja2VyIGVsZW1lbnQuCiAqIEBwYXJhbSB7c3RyaW5nfSBvdXRwdXRJZCBFbGVtZW50IElEIG9mIHRoZSBvdXRwdXQgZGlzcGxheS4KICogQHJldHVybiB7IUl0ZXJhYmxlPCFPYmplY3Q+fSBJdGVyYWJsZSBvZiBuZXh0IHN0ZXBzLgogKi8KZnVuY3Rpb24qIHVwbG9hZEZpbGVzU3RlcChpbnB1dElkLCBvdXRwdXRJZCkgewogIGNvbnN0IGlucHV0RWxlbWVudCA9IGRvY3VtZW50LmdldEVsZW1lbnRCeUlkKGlucHV0SWQpOwogIGlucHV0RWxlbWVudC5kaXNhYmxlZCA9IGZhbHNlOwoKICBjb25zdCBvdXRwdXRFbGVtZW50ID0gZG9jdW1lbnQuZ2V0RWxlbWVudEJ5SWQob3V0cHV0SWQpOwogIG91dHB1dEVsZW1lbnQuaW5uZXJIVE1MID0gJyc7CgogIGNvbnN0IHBpY2tlZFByb21pc2UgPSBuZXcgUHJvbWlzZSgocmVzb2x2ZSkgPT4gewogICAgaW5wdXRFbGVtZW50LmFkZEV2ZW50TGlzdGVuZXIoJ2NoYW5nZScsIChlKSA9PiB7CiAgICAgIHJlc29sdmUoZS50YXJnZXQuZmlsZXMpOwogICAgfSk7CiAgfSk7CgogIGNvbnN0IGNhbmNlbCA9IGRvY3VtZW50LmNyZWF0ZUVsZW1lbnQoJ2J1dHRvbicpOwogIGlucHV0RWxlbWVudC5wYXJlbnRFbGVtZW50LmFwcGVuZENoaWxkKGNhbmNlbCk7CiAgY2FuY2VsLnRleHRDb250ZW50ID0gJ0NhbmNlbCB1cGxvYWQnOwogIGNvbnN0IGNhbmNlbFByb21pc2UgPSBuZXcgUHJvbWlzZSgocmVzb2x2ZSkgPT4gewogICAgY2FuY2VsLm9uY2xpY2sgPSAoKSA9PiB7CiAgICAgIHJlc29sdmUobnVsbCk7CiAgICB9OwogIH0pOwoKICAvLyBXYWl0IGZvciB0aGUgdXNlciB0byBwaWNrIHRoZSBmaWxlcy4KICBjb25zdCBmaWxlcyA9IHlpZWxkIHsKICAgIHByb21pc2U6IFByb21pc2UucmFjZShbcGlja2VkUHJvbWlzZSwgY2FuY2VsUHJvbWlzZV0pLAogICAgcmVzcG9uc2U6IHsKICAgICAgYWN0aW9uOiAnc3RhcnRpbmcnLAogICAgfQogIH07CgogIGNhbmNlbC5yZW1vdmUoKTsKCiAgLy8gRGlzYWJsZSB0aGUgaW5wdXQgZWxlbWVudCBzaW5jZSBmdXJ0aGVyIHBpY2tzIGFyZSBub3QgYWxsb3dlZC4KICBpbnB1dEVsZW1lbnQuZGlzYWJsZWQgPSB0cnVlOwoKICBpZiAoIWZpbGVzKSB7CiAgICByZXR1cm4gewogICAgICByZXNwb25zZTogewogICAgICAgIGFjdGlvbjogJ2NvbXBsZXRlJywKICAgICAgfQogICAgfTsKICB9CgogIGZvciAoY29uc3QgZmlsZSBvZiBmaWxlcykgewogICAgY29uc3QgbGkgPSBkb2N1bWVudC5jcmVhdGVFbGVtZW50KCdsaScpOwogICAgbGkuYXBwZW5kKHNwYW4oZmlsZS5uYW1lLCB7Zm9udFdlaWdodDogJ2JvbGQnfSkpOwogICAgbGkuYXBwZW5kKHNwYW4oCiAgICAgICAgYCgke2ZpbGUudHlwZSB8fCAnbi9hJ30pIC0gJHtmaWxlLnNpemV9IGJ5dGVzLCBgICsKICAgICAgICBgbGFzdCBtb2RpZmllZDogJHsKICAgICAgICAgICAgZmlsZS5sYXN0TW9kaWZpZWREYXRlID8gZmlsZS5sYXN0TW9kaWZpZWREYXRlLnRvTG9jYWxlRGF0ZVN0cmluZygpIDoKICAgICAgICAgICAgICAgICAgICAgICAgICAgICAgICAgICAgJ24vYSd9IC0gYCkpOwogICAgY29uc3QgcGVyY2VudCA9IHNwYW4oJzAlIGRvbmUnKTsKICAgIGxpLmFwcGVuZENoaWxkKHBlcmNlbnQpOwoKICAgIG91dHB1dEVsZW1lbnQuYXBwZW5kQ2hpbGQobGkpOwoKICAgIGNvbnN0IGZpbGVEYXRhUHJvbWlzZSA9IG5ldyBQcm9taXNlKChyZXNvbHZlKSA9PiB7CiAgICAgIGNvbnN0IHJlYWRlciA9IG5ldyBGaWxlUmVhZGVyKCk7CiAgICAgIHJlYWRlci5vbmxvYWQgPSAoZSkgPT4gewogICAgICAgIHJlc29sdmUoZS50YXJnZXQucmVzdWx0KTsKICAgICAgfTsKICAgICAgcmVhZGVyLnJlYWRBc0FycmF5QnVmZmVyKGZpbGUpOwogICAgfSk7CiAgICAvLyBXYWl0IGZvciB0aGUgZGF0YSB0byBiZSByZWFkeS4KICAgIGxldCBmaWxlRGF0YSA9IHlpZWxkIHsKICAgICAgcHJvbWlzZTogZmlsZURhdGFQcm9taXNlLAogICAgICByZXNwb25zZTogewogICAgICAgIGFjdGlvbjogJ2NvbnRpbnVlJywKICAgICAgfQogICAgfTsKCiAgICAvLyBVc2UgYSBjaHVua2VkIHNlbmRpbmcgdG8gYXZvaWQgbWVzc2FnZSBzaXplIGxpbWl0cy4gU2VlIGIvNjIxMTU2NjAuCiAgICBsZXQgcG9zaXRpb24gPSAwOwogICAgd2hpbGUgKHBvc2l0aW9uIDwgZmlsZURhdGEuYnl0ZUxlbmd0aCkgewogICAgICBjb25zdCBsZW5ndGggPSBNYXRoLm1pbihmaWxlRGF0YS5ieXRlTGVuZ3RoIC0gcG9zaXRpb24sIE1BWF9QQVlMT0FEX1NJWkUpOwogICAgICBjb25zdCBjaHVuayA9IG5ldyBVaW50OEFycmF5KGZpbGVEYXRhLCBwb3NpdGlvbiwgbGVuZ3RoKTsKICAgICAgcG9zaXRpb24gKz0gbGVuZ3RoOwoKICAgICAgY29uc3QgYmFzZTY0ID0gYnRvYShTdHJpbmcuZnJvbUNoYXJDb2RlLmFwcGx5KG51bGwsIGNodW5rKSk7CiAgICAgIHlpZWxkIHsKICAgICAgICByZXNwb25zZTogewogICAgICAgICAgYWN0aW9uOiAnYXBwZW5kJywKICAgICAgICAgIGZpbGU6IGZpbGUubmFtZSwKICAgICAgICAgIGRhdGE6IGJhc2U2NCwKICAgICAgICB9LAogICAgICB9OwogICAgICBwZXJjZW50LnRleHRDb250ZW50ID0KICAgICAgICAgIGAke01hdGgucm91bmQoKHBvc2l0aW9uIC8gZmlsZURhdGEuYnl0ZUxlbmd0aCkgKiAxMDApfSUgZG9uZWA7CiAgICB9CiAgfQoKICAvLyBBbGwgZG9uZS4KICB5aWVsZCB7CiAgICByZXNwb25zZTogewogICAgICBhY3Rpb246ICdjb21wbGV0ZScsCiAgICB9CiAgfTsKfQoKc2NvcGUuZ29vZ2xlID0gc2NvcGUuZ29vZ2xlIHx8IHt9OwpzY29wZS5nb29nbGUuY29sYWIgPSBzY29wZS5nb29nbGUuY29sYWIgfHwge307CnNjb3BlLmdvb2dsZS5jb2xhYi5fZmlsZXMgPSB7CiAgX3VwbG9hZEZpbGVzLAogIF91cGxvYWRGaWxlc0NvbnRpbnVlLAp9Owp9KShzZWxmKTsK",
              "ok": true,
              "headers": [
                [
                  "content-type",
                  "application/javascript"
                ]
              ],
              "status": 200,
              "status_text": ""
            }
          },
          "base_uri": "https://localhost:8080/",
          "height": 210
        },
        "id": "FeYCxBlc3_hp",
        "outputId": "32cecde8-a7c6-4212-d352-827d0256bd2b"
      },
      "source": [
        "#Download World_shapefile https://hub.arcgis.com/datasets/252471276c9941729543be8789e06e12_0 \n",
        "from google.colab import files\n",
        "uploaded = files.upload()\n"
      ],
      "execution_count": 6,
      "outputs": [
        {
          "output_type": "display_data",
          "data": {
            "text/html": [
              "\n",
              "     <input type=\"file\" id=\"files-e3360b0b-3dc4-4213-8c64-2ea999c3c523\" name=\"files[]\" multiple disabled\n",
              "        style=\"border:none\" />\n",
              "     <output id=\"result-e3360b0b-3dc4-4213-8c64-2ea999c3c523\">\n",
              "      Upload widget is only available when the cell has been executed in the\n",
              "      current browser session. Please rerun this cell to enable.\n",
              "      </output>\n",
              "      <script src=\"/nbextensions/google.colab/files.js\"></script> "
            ],
            "text/plain": [
              "<IPython.core.display.HTML object>"
            ]
          },
          "metadata": {
            "tags": []
          }
        },
        {
          "output_type": "stream",
          "text": [
            "Saving World_Countries__Generalized_.cpg to World_Countries__Generalized_.cpg\n",
            "Saving World_Countries__Generalized_.dbf to World_Countries__Generalized_.dbf\n",
            "Saving World_Countries__Generalized_.prj to World_Countries__Generalized_.prj\n",
            "Saving World_Countries__Generalized_.shp to World_Countries__Generalized_.shp\n",
            "Saving World_Countries__Generalized_.shx to World_Countries__Generalized_.shx\n"
          ],
          "name": "stdout"
        }
      ]
    },
    {
      "cell_type": "code",
      "metadata": {
        "id": "HfRmKSCsA_Yp",
        "colab": {
          "base_uri": "https://localhost:8080/"
        },
        "outputId": "8c1b632b-fed4-478d-c7d1-ccde1ecd0085"
      },
      "source": [
        "# Add all files to one folder\n",
        "!mkdir data\n",
        "!mkdir data/shp"
      ],
      "execution_count": 9,
      "outputs": [
        {
          "output_type": "stream",
          "text": [
            "mkdir: cannot create directory ‘data’: File exists\n",
            "mkdir: cannot create directory ‘data/shp’: File exists\n"
          ],
          "name": "stdout"
        }
      ]
    },
    {
      "cell_type": "code",
      "metadata": {
        "colab": {
          "base_uri": "https://localhost:8080/",
          "height": 202
        },
        "id": "m-mSpHTr_-Na",
        "outputId": "09e3eb1a-4c39-487f-804f-e530f6b7cd8e"
      },
      "source": [
        "datapath = '/content/data/shp/World_Countries__Generalized_.shp'\n",
        "world= gp.read_file(datapath)\n",
        "world['COUNTRY'].replace({\"Congo DRC\": \"Democratic Republic of Congo\",\"Côte d'Ivoire\": \"Cote d'Ivoire\"}, inplace=True)\n",
        "\n",
        "world.head()"
      ],
      "execution_count": 10,
      "outputs": [
        {
          "output_type": "execute_result",
          "data": {
            "text/html": [
              "<div>\n",
              "<style scoped>\n",
              "    .dataframe tbody tr th:only-of-type {\n",
              "        vertical-align: middle;\n",
              "    }\n",
              "\n",
              "    .dataframe tbody tr th {\n",
              "        vertical-align: top;\n",
              "    }\n",
              "\n",
              "    .dataframe thead th {\n",
              "        text-align: right;\n",
              "    }\n",
              "</style>\n",
              "<table border=\"1\" class=\"dataframe\">\n",
              "  <thead>\n",
              "    <tr style=\"text-align: right;\">\n",
              "      <th></th>\n",
              "      <th>FID</th>\n",
              "      <th>COUNTRY</th>\n",
              "      <th>ISO</th>\n",
              "      <th>COUNTRYAFF</th>\n",
              "      <th>AFF_ISO</th>\n",
              "      <th>SHAPE_Leng</th>\n",
              "      <th>SHAPE_Area</th>\n",
              "      <th>geometry</th>\n",
              "    </tr>\n",
              "  </thead>\n",
              "  <tbody>\n",
              "    <tr>\n",
              "      <th>0</th>\n",
              "      <td>1</td>\n",
              "      <td>American Samoa</td>\n",
              "      <td>AS</td>\n",
              "      <td>United States</td>\n",
              "      <td>US</td>\n",
              "      <td>0.600124</td>\n",
              "      <td>0.013720</td>\n",
              "      <td>POLYGON ((-170.74390 -14.37555, -170.74942 -14...</td>\n",
              "    </tr>\n",
              "    <tr>\n",
              "      <th>1</th>\n",
              "      <td>2</td>\n",
              "      <td>United States Minor Outlying Islands</td>\n",
              "      <td>UM</td>\n",
              "      <td>United States</td>\n",
              "      <td>US</td>\n",
              "      <td>0.480216</td>\n",
              "      <td>0.003216</td>\n",
              "      <td>MULTIPOLYGON (((-160.02114 -0.39805, -160.0281...</td>\n",
              "    </tr>\n",
              "    <tr>\n",
              "      <th>2</th>\n",
              "      <td>3</td>\n",
              "      <td>Cook Islands</td>\n",
              "      <td>CK</td>\n",
              "      <td>New Zealand</td>\n",
              "      <td>NZ</td>\n",
              "      <td>0.980664</td>\n",
              "      <td>0.013073</td>\n",
              "      <td>MULTIPOLYGON (((-159.74698 -21.25667, -159.793...</td>\n",
              "    </tr>\n",
              "    <tr>\n",
              "      <th>3</th>\n",
              "      <td>4</td>\n",
              "      <td>French Polynesia</td>\n",
              "      <td>PF</td>\n",
              "      <td>France</td>\n",
              "      <td>FR</td>\n",
              "      <td>3.930211</td>\n",
              "      <td>0.175332</td>\n",
              "      <td>MULTIPOLYGON (((-149.17920 -17.87084, -149.258...</td>\n",
              "    </tr>\n",
              "    <tr>\n",
              "      <th>4</th>\n",
              "      <td>5</td>\n",
              "      <td>Niue</td>\n",
              "      <td>NU</td>\n",
              "      <td>New Zealand</td>\n",
              "      <td>NZ</td>\n",
              "      <td>0.541413</td>\n",
              "      <td>0.021414</td>\n",
              "      <td>POLYGON ((-169.89389 -19.14556, -169.93088 -19...</td>\n",
              "    </tr>\n",
              "  </tbody>\n",
              "</table>\n",
              "</div>"
            ],
            "text/plain": [
              "   FID  ...                                           geometry\n",
              "0    1  ...  POLYGON ((-170.74390 -14.37555, -170.74942 -14...\n",
              "1    2  ...  MULTIPOLYGON (((-160.02114 -0.39805, -160.0281...\n",
              "2    3  ...  MULTIPOLYGON (((-159.74698 -21.25667, -159.793...\n",
              "3    4  ...  MULTIPOLYGON (((-149.17920 -17.87084, -149.258...\n",
              "4    5  ...  POLYGON ((-169.89389 -19.14556, -169.93088 -19...\n",
              "\n",
              "[5 rows x 8 columns]"
            ]
          },
          "metadata": {
            "tags": []
          },
          "execution_count": 10
        }
      ]
    },
    {
      "cell_type": "code",
      "metadata": {
        "id": "HsjGbtOJBKC_"
      },
      "source": [
        "#Isolate only for Africa data\n",
        "#Merge geo data country  with africa data only"
      ],
      "execution_count": null,
      "outputs": []
    },
    {
      "cell_type": "code",
      "metadata": {
        "colab": {
          "resources": {
            "http://localhost:8080/nbextensions/google.colab/files.js": {
              "data": "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",
              "ok": true,
              "headers": [
                [
                  "content-type",
                  "application/javascript"
                ]
              ],
              "status": 200,
              "status_text": ""
            }
          },
          "base_uri": "https://localhost:8080/",
          "height": 72
        },
        "id": "rnPIn7d1NI5u",
        "outputId": "6169cc1d-c32f-419d-f806-f042e6be8115"
      },
      "source": [
        "#Download Africa_Full_Merge data\n",
        "from google.colab import files\n",
        "uploaded = files.upload()"
      ],
      "execution_count": 13,
      "outputs": [
        {
          "output_type": "display_data",
          "data": {
            "text/html": [
              "\n",
              "     <input type=\"file\" id=\"files-f396888b-02a7-42d3-8ba6-ecb0ba03a384\" name=\"files[]\" multiple disabled\n",
              "        style=\"border:none\" />\n",
              "     <output id=\"result-f396888b-02a7-42d3-8ba6-ecb0ba03a384\">\n",
              "      Upload widget is only available when the cell has been executed in the\n",
              "      current browser session. Please rerun this cell to enable.\n",
              "      </output>\n",
              "      <script src=\"/nbextensions/google.colab/files.js\"></script> "
            ],
            "text/plain": [
              "<IPython.core.display.HTML object>"
            ]
          },
          "metadata": {
            "tags": []
          }
        },
        {
          "output_type": "stream",
          "text": [
            "Saving 2a. Africa_FULL_MERGE.csv to 2a. Africa_FULL_MERGE.csv\n"
          ],
          "name": "stdout"
        }
      ]
    },
    {
      "cell_type": "code",
      "metadata": {
        "id": "_IPBpnXqOdy7"
      },
      "source": [
        "datapath = '/content/2a. Africa_FULL_MERGE.csv'\n",
        "df = pd.read_csv(datapath, encoding = 'latin1')\n",
        "df.rename(columns={'Country':'COUNTRY'}, inplace=True)\n",
        "\n",
        "df = df[['COUNTRY']]\n"
      ],
      "execution_count": 15,
      "outputs": []
    },
    {
      "cell_type": "code",
      "metadata": {
        "id": "crO4YgwFOtXa"
      },
      "source": [
        "df"
      ],
      "execution_count": null,
      "outputs": []
    },
    {
      "cell_type": "code",
      "metadata": {
        "colab": {
          "base_uri": "https://localhost:8080/",
          "height": 416
        },
        "id": "1KVCKE-VPbYV",
        "outputId": "65fe37d5-9b4c-485a-9ec5-2a109e561132"
      },
      "source": [
        "africa = world.merge(df, left_on = 'COUNTRY', right_on = 'COUNTRY')\n",
        "africa"
      ],
      "execution_count": 17,
      "outputs": [
        {
          "output_type": "execute_result",
          "data": {
            "text/html": [
              "<div>\n",
              "<style scoped>\n",
              "    .dataframe tbody tr th:only-of-type {\n",
              "        vertical-align: middle;\n",
              "    }\n",
              "\n",
              "    .dataframe tbody tr th {\n",
              "        vertical-align: top;\n",
              "    }\n",
              "\n",
              "    .dataframe thead th {\n",
              "        text-align: right;\n",
              "    }\n",
              "</style>\n",
              "<table border=\"1\" class=\"dataframe\">\n",
              "  <thead>\n",
              "    <tr style=\"text-align: right;\">\n",
              "      <th></th>\n",
              "      <th>FID</th>\n",
              "      <th>COUNTRY</th>\n",
              "      <th>ISO</th>\n",
              "      <th>COUNTRYAFF</th>\n",
              "      <th>AFF_ISO</th>\n",
              "      <th>SHAPE_Leng</th>\n",
              "      <th>SHAPE_Area</th>\n",
              "      <th>geometry</th>\n",
              "    </tr>\n",
              "  </thead>\n",
              "  <tbody>\n",
              "    <tr>\n",
              "      <th>0</th>\n",
              "      <td>70</td>\n",
              "      <td>Burkina Faso</td>\n",
              "      <td>BF</td>\n",
              "      <td>Burkina Faso</td>\n",
              "      <td>BF</td>\n",
              "      <td>27.007423</td>\n",
              "      <td>22.634154</td>\n",
              "      <td>POLYGON ((0.91797 10.99640, 0.81195 10.99694, ...</td>\n",
              "    </tr>\n",
              "    <tr>\n",
              "      <th>1</th>\n",
              "      <td>70</td>\n",
              "      <td>Burkina Faso</td>\n",
              "      <td>BF</td>\n",
              "      <td>Burkina Faso</td>\n",
              "      <td>BF</td>\n",
              "      <td>27.007423</td>\n",
              "      <td>22.634154</td>\n",
              "      <td>POLYGON ((0.91797 10.99640, 0.81195 10.99694, ...</td>\n",
              "    </tr>\n",
              "    <tr>\n",
              "      <th>2</th>\n",
              "      <td>70</td>\n",
              "      <td>Burkina Faso</td>\n",
              "      <td>BF</td>\n",
              "      <td>Burkina Faso</td>\n",
              "      <td>BF</td>\n",
              "      <td>27.007423</td>\n",
              "      <td>22.634154</td>\n",
              "      <td>POLYGON ((0.91797 10.99640, 0.81195 10.99694, ...</td>\n",
              "    </tr>\n",
              "    <tr>\n",
              "      <th>3</th>\n",
              "      <td>70</td>\n",
              "      <td>Burkina Faso</td>\n",
              "      <td>BF</td>\n",
              "      <td>Burkina Faso</td>\n",
              "      <td>BF</td>\n",
              "      <td>27.007423</td>\n",
              "      <td>22.634154</td>\n",
              "      <td>POLYGON ((0.91797 10.99640, 0.81195 10.99694, ...</td>\n",
              "    </tr>\n",
              "    <tr>\n",
              "      <th>4</th>\n",
              "      <td>70</td>\n",
              "      <td>Burkina Faso</td>\n",
              "      <td>BF</td>\n",
              "      <td>Burkina Faso</td>\n",
              "      <td>BF</td>\n",
              "      <td>27.007423</td>\n",
              "      <td>22.634154</td>\n",
              "      <td>POLYGON ((0.91797 10.99640, 0.81195 10.99694, ...</td>\n",
              "    </tr>\n",
              "    <tr>\n",
              "      <th>...</th>\n",
              "      <td>...</td>\n",
              "      <td>...</td>\n",
              "      <td>...</td>\n",
              "      <td>...</td>\n",
              "      <td>...</td>\n",
              "      <td>...</td>\n",
              "      <td>...</td>\n",
              "      <td>...</td>\n",
              "    </tr>\n",
              "    <tr>\n",
              "      <th>3181</th>\n",
              "      <td>203</td>\n",
              "      <td>Somalia</td>\n",
              "      <td>SO</td>\n",
              "      <td>Somalia</td>\n",
              "      <td>SO</td>\n",
              "      <td>48.995362</td>\n",
              "      <td>52.070402</td>\n",
              "      <td>POLYGON ((45.86945 10.84416, 45.89750 10.83027...</td>\n",
              "    </tr>\n",
              "    <tr>\n",
              "      <th>3182</th>\n",
              "      <td>203</td>\n",
              "      <td>Somalia</td>\n",
              "      <td>SO</td>\n",
              "      <td>Somalia</td>\n",
              "      <td>SO</td>\n",
              "      <td>48.995362</td>\n",
              "      <td>52.070402</td>\n",
              "      <td>POLYGON ((45.86945 10.84416, 45.89750 10.83027...</td>\n",
              "    </tr>\n",
              "    <tr>\n",
              "      <th>3183</th>\n",
              "      <td>203</td>\n",
              "      <td>Somalia</td>\n",
              "      <td>SO</td>\n",
              "      <td>Somalia</td>\n",
              "      <td>SO</td>\n",
              "      <td>48.995362</td>\n",
              "      <td>52.070402</td>\n",
              "      <td>POLYGON ((45.86945 10.84416, 45.89750 10.83027...</td>\n",
              "    </tr>\n",
              "    <tr>\n",
              "      <th>3184</th>\n",
              "      <td>203</td>\n",
              "      <td>Somalia</td>\n",
              "      <td>SO</td>\n",
              "      <td>Somalia</td>\n",
              "      <td>SO</td>\n",
              "      <td>48.995362</td>\n",
              "      <td>52.070402</td>\n",
              "      <td>POLYGON ((45.86945 10.84416, 45.89750 10.83027...</td>\n",
              "    </tr>\n",
              "    <tr>\n",
              "      <th>3185</th>\n",
              "      <td>203</td>\n",
              "      <td>Somalia</td>\n",
              "      <td>SO</td>\n",
              "      <td>Somalia</td>\n",
              "      <td>SO</td>\n",
              "      <td>48.995362</td>\n",
              "      <td>52.070402</td>\n",
              "      <td>POLYGON ((45.86945 10.84416, 45.89750 10.83027...</td>\n",
              "    </tr>\n",
              "  </tbody>\n",
              "</table>\n",
              "<p>3186 rows × 8 columns</p>\n",
              "</div>"
            ],
            "text/plain": [
              "      FID  ...                                           geometry\n",
              "0      70  ...  POLYGON ((0.91797 10.99640, 0.81195 10.99694, ...\n",
              "1      70  ...  POLYGON ((0.91797 10.99640, 0.81195 10.99694, ...\n",
              "2      70  ...  POLYGON ((0.91797 10.99640, 0.81195 10.99694, ...\n",
              "3      70  ...  POLYGON ((0.91797 10.99640, 0.81195 10.99694, ...\n",
              "4      70  ...  POLYGON ((0.91797 10.99640, 0.81195 10.99694, ...\n",
              "...   ...  ...                                                ...\n",
              "3181  203  ...  POLYGON ((45.86945 10.84416, 45.89750 10.83027...\n",
              "3182  203  ...  POLYGON ((45.86945 10.84416, 45.89750 10.83027...\n",
              "3183  203  ...  POLYGON ((45.86945 10.84416, 45.89750 10.83027...\n",
              "3184  203  ...  POLYGON ((45.86945 10.84416, 45.89750 10.83027...\n",
              "3185  203  ...  POLYGON ((45.86945 10.84416, 45.89750 10.83027...\n",
              "\n",
              "[3186 rows x 8 columns]"
            ]
          },
          "metadata": {
            "tags": []
          },
          "execution_count": 17
        }
      ]
    },
    {
      "cell_type": "code",
      "metadata": {
        "colab": {
          "base_uri": "https://localhost:8080/"
        },
        "id": "4JLvyCD4QoDi",
        "outputId": "6209f216-0bae-4956-83b0-5a9a1847deba"
      },
      "source": [
        "africa.crs"
      ],
      "execution_count": 18,
      "outputs": [
        {
          "output_type": "execute_result",
          "data": {
            "text/plain": [
              "<Geographic 2D CRS: EPSG:4326>\n",
              "Name: WGS 84\n",
              "Axis Info [ellipsoidal]:\n",
              "- Lat[north]: Geodetic latitude (degree)\n",
              "- Lon[east]: Geodetic longitude (degree)\n",
              "Area of Use:\n",
              "- name: World.\n",
              "- bounds: (-180.0, -90.0, 180.0, 90.0)\n",
              "Datum: World Geodetic System 1984\n",
              "- Ellipsoid: WGS 84\n",
              "- Prime Meridian: Greenwich"
            ]
          },
          "metadata": {
            "tags": []
          },
          "execution_count": 18
        }
      ]
    },
    {
      "cell_type": "code",
      "metadata": {
        "colab": {
          "base_uri": "https://localhost:8080/"
        },
        "id": "w3UQ_vS9TSL1",
        "outputId": "262d13a4-9731-4ea3-d803-cf6bf0e0c895"
      },
      "source": [
        "africa['geometry'].head()"
      ],
      "execution_count": 19,
      "outputs": [
        {
          "output_type": "execute_result",
          "data": {
            "text/plain": [
              "0    POLYGON ((0.91797 10.99640, 0.81195 10.99694, ...\n",
              "1    POLYGON ((0.91797 10.99640, 0.81195 10.99694, ...\n",
              "2    POLYGON ((0.91797 10.99640, 0.81195 10.99694, ...\n",
              "3    POLYGON ((0.91797 10.99640, 0.81195 10.99694, ...\n",
              "4    POLYGON ((0.91797 10.99640, 0.81195 10.99694, ...\n",
              "Name: geometry, dtype: geometry"
            ]
          },
          "metadata": {
            "tags": []
          },
          "execution_count": 19
        }
      ]
    },
    {
      "cell_type": "code",
      "metadata": {
        "colab": {
          "base_uri": "https://localhost:8080/"
        },
        "id": "ZyLa6LGwTXm7",
        "outputId": "fb8b6200-1253-4d78-879c-ed77a4af00e0"
      },
      "source": [
        "africa.crs = {'init': u'epsg:4326'}\n",
        "target_crs = {'datum':'WGS84', 'no_defs':True, 'proj':'merc'}\n",
        "projected_africa = africa.to_crs(crs=target_crs)"
      ],
      "execution_count": 20,
      "outputs": [
        {
          "output_type": "stream",
          "text": [
            "/usr/local/lib/python3.6/dist-packages/pyproj/crs/crs.py:53: FutureWarning: '+init=<authority>:<code>' syntax is deprecated. '<authority>:<code>' is the preferred initialization method. When making the change, be mindful of axis order changes: https://pyproj4.github.io/pyproj/stable/gotchas.html#axis-order-changes-in-proj-6\n",
            "  return _prepare_from_string(\" \".join(pjargs))\n"
          ],
          "name": "stderr"
        }
      ]
    },
    {
      "cell_type": "code",
      "metadata": {
        "colab": {
          "base_uri": "https://localhost:8080/"
        },
        "id": "dBMv1W1OTg7G",
        "outputId": "f05ca711-38c7-4b9b-fb76-077d6bc0ad4c"
      },
      "source": [
        "projected_africa['geometry'].head()"
      ],
      "execution_count": 21,
      "outputs": [
        {
          "output_type": "execute_result",
          "data": {
            "text/plain": [
              "0    POLYGON ((102188.311 1223553.442, 90385.321 12...\n",
              "1    POLYGON ((102188.311 1223553.442, 90385.321 12...\n",
              "2    POLYGON ((102188.311 1223553.442, 90385.321 12...\n",
              "3    POLYGON ((102188.311 1223553.442, 90385.321 12...\n",
              "4    POLYGON ((102188.311 1223553.442, 90385.321 12...\n",
              "Name: geometry, dtype: geometry"
            ]
          },
          "metadata": {
            "tags": []
          },
          "execution_count": 21
        }
      ]
    },
    {
      "cell_type": "code",
      "metadata": {
        "colab": {
          "base_uri": "https://localhost:8080/",
          "height": 960
        },
        "id": "8_5Iqh0hTsXi",
        "outputId": "77a09111-155c-4f59-cc36-95c5efc6d306"
      },
      "source": [
        "projected_africa.plot()"
      ],
      "execution_count": 22,
      "outputs": [
        {
          "output_type": "execute_result",
          "data": {
            "text/plain": [
              "<matplotlib.axes._subplots.AxesSubplot at 0x7f69080fedd8>"
            ]
          },
          "metadata": {
            "tags": []
          },
          "execution_count": 22
        },
        {
          "output_type": "display_data",
          "data": {
            "image/png": "[encoded data removed]",
            "text/plain": [
              "<Figure size 1440x1152 with 1 Axes>"
            ]
          },
          "metadata": {
            "tags": []
          }
        }
      ]
    },
    {
      "cell_type": "code",
      "metadata": {
        "id": "iWIP6qQYWmaH"
      },
      "source": [
        "#projected_africa.plot(column='FID', cmap='rainbow', scheme='quantiles')"
      ],
      "execution_count": null,
      "outputs": []
    },
    {
      "cell_type": "code",
      "metadata": {
        "id": "N_39QgNRXa9k"
      },
      "source": [
        "# Merge geodata frame with full_merge dataframe "
      ],
      "execution_count": 25,
      "outputs": []
    },
    {
      "cell_type": "code",
      "metadata": {
        "colab": {
          "base_uri": "https://localhost:8080/",
          "height": 202
        },
        "id": "Bh7_Pi1rXMIN",
        "outputId": "d16835c9-fa0e-4f07-c56f-c247fd9cc00e"
      },
      "source": [
        "#must merge ON persons, otherwise get pandas dataframe object, however we want geodataframe\n",
        "geoafrica = africa.merge(df, left_on='COUNTRY', right_on = 'COUNTRY')\n",
        "geoafrica.head()\n"
      ],
      "execution_count": 26,
      "outputs": [
        {
          "output_type": "execute_result",
          "data": {
            "text/html": [
              "<div>\n",
              "<style scoped>\n",
              "    .dataframe tbody tr th:only-of-type {\n",
              "        vertical-align: middle;\n",
              "    }\n",
              "\n",
              "    .dataframe tbody tr th {\n",
              "        vertical-align: top;\n",
              "    }\n",
              "\n",
              "    .dataframe thead th {\n",
              "        text-align: right;\n",
              "    }\n",
              "</style>\n",
              "<table border=\"1\" class=\"dataframe\">\n",
              "  <thead>\n",
              "    <tr style=\"text-align: right;\">\n",
              "      <th></th>\n",
              "      <th>FID</th>\n",
              "      <th>COUNTRY</th>\n",
              "      <th>ISO</th>\n",
              "      <th>COUNTRYAFF</th>\n",
              "      <th>AFF_ISO</th>\n",
              "      <th>SHAPE_Leng</th>\n",
              "      <th>SHAPE_Area</th>\n",
              "      <th>geometry</th>\n",
              "    </tr>\n",
              "  </thead>\n",
              "  <tbody>\n",
              "    <tr>\n",
              "      <th>0</th>\n",
              "      <td>70</td>\n",
              "      <td>Burkina Faso</td>\n",
              "      <td>BF</td>\n",
              "      <td>Burkina Faso</td>\n",
              "      <td>BF</td>\n",
              "      <td>27.007423</td>\n",
              "      <td>22.634154</td>\n",
              "      <td>POLYGON ((0.91797 10.99640, 0.81195 10.99694, ...</td>\n",
              "    </tr>\n",
              "    <tr>\n",
              "      <th>1</th>\n",
              "      <td>70</td>\n",
              "      <td>Burkina Faso</td>\n",
              "      <td>BF</td>\n",
              "      <td>Burkina Faso</td>\n",
              "      <td>BF</td>\n",
              "      <td>27.007423</td>\n",
              "      <td>22.634154</td>\n",
              "      <td>POLYGON ((0.91797 10.99640, 0.81195 10.99694, ...</td>\n",
              "    </tr>\n",
              "    <tr>\n",
              "      <th>2</th>\n",
              "      <td>70</td>\n",
              "      <td>Burkina Faso</td>\n",
              "      <td>BF</td>\n",
              "      <td>Burkina Faso</td>\n",
              "      <td>BF</td>\n",
              "      <td>27.007423</td>\n",
              "      <td>22.634154</td>\n",
              "      <td>POLYGON ((0.91797 10.99640, 0.81195 10.99694, ...</td>\n",
              "    </tr>\n",
              "    <tr>\n",
              "      <th>3</th>\n",
              "      <td>70</td>\n",
              "      <td>Burkina Faso</td>\n",
              "      <td>BF</td>\n",
              "      <td>Burkina Faso</td>\n",
              "      <td>BF</td>\n",
              "      <td>27.007423</td>\n",
              "      <td>22.634154</td>\n",
              "      <td>POLYGON ((0.91797 10.99640, 0.81195 10.99694, ...</td>\n",
              "    </tr>\n",
              "    <tr>\n",
              "      <th>4</th>\n",
              "      <td>70</td>\n",
              "      <td>Burkina Faso</td>\n",
              "      <td>BF</td>\n",
              "      <td>Burkina Faso</td>\n",
              "      <td>BF</td>\n",
              "      <td>27.007423</td>\n",
              "      <td>22.634154</td>\n",
              "      <td>POLYGON ((0.91797 10.99640, 0.81195 10.99694, ...</td>\n",
              "    </tr>\n",
              "  </tbody>\n",
              "</table>\n",
              "</div>"
            ],
            "text/plain": [
              "   FID  ...                                           geometry\n",
              "0   70  ...  POLYGON ((0.91797 10.99640, 0.81195 10.99694, ...\n",
              "1   70  ...  POLYGON ((0.91797 10.99640, 0.81195 10.99694, ...\n",
              "2   70  ...  POLYGON ((0.91797 10.99640, 0.81195 10.99694, ...\n",
              "3   70  ...  POLYGON ((0.91797 10.99640, 0.81195 10.99694, ...\n",
              "4   70  ...  POLYGON ((0.91797 10.99640, 0.81195 10.99694, ...\n",
              "\n",
              "[5 rows x 8 columns]"
            ]
          },
          "metadata": {
            "tags": []
          },
          "execution_count": 26
        }
      ]
    },
    {
      "cell_type": "code",
      "metadata": {
        "colab": {
          "base_uri": "https://localhost:8080/"
        },
        "id": "6ZorPP1iZXk0",
        "outputId": "f768fbf3-b11a-4218-dca5-5713dffc80d4"
      },
      "source": [
        "type(geoafrica) #ensures type is geodataframe"
      ],
      "execution_count": 29,
      "outputs": [
        {
          "output_type": "execute_result",
          "data": {
            "text/plain": [
              "geopandas.geodataframe.GeoDataFrame"
            ]
          },
          "metadata": {
            "tags": []
          },
          "execution_count": 29
        }
      ]
    },
    {
      "cell_type": "code",
      "metadata": {
        "colab": {
          "base_uri": "https://localhost:8080/"
        },
        "id": "A9oH761BZaLe",
        "outputId": "30899aca-c905-4b81-ca75-effa8508134b"
      },
      "source": [
        "geoafrica.to_csv('geodata_africa.csv')"
      ],
      "execution_count": 28,
      "outputs": [
        {
          "output_type": "stream",
          "text": [
            "Exception ignored in: <bound method WKTWriter.__del__ of <shapely.geos.WKTWriter object at 0x7f6907cbb400>>\n",
            "Traceback (most recent call last):\n",
            "  File \"/usr/local/lib/python3.6/dist-packages/shapely/geos.py\", line 391, in __del__\n",
            "    self._lgeos.GEOSWKTWriter_destroy(self._writer)\n",
            "KeyboardInterrupt\n"
          ],
          "name": "stderr"
        }
      ]
    },
    {
      "cell_type": "markdown",
      "metadata": {
        "id": "PQW6dKgdZPvJ"
      },
      "source": [
        "# Plot TFR Chloropleth Map for 2018 "
      ]
    },
    {
      "cell_type": "code",
      "metadata": {
        "id": "Cwv9DaygYPu3"
      },
      "source": [
        "# Create dataframe for 2018 \n",
        "year_2018= geoafrica['Year']==2018"
      ],
      "execution_count": null,
      "outputs": []
    },
    {
      "cell_type": "code",
      "metadata": {
        "id": "NqFAByeHgTCR"
      },
      "source": [
        "geo18= geoafrica[year_2018]"
      ],
      "execution_count": null,
      "outputs": []
    },
    {
      "cell_type": "code",
      "metadata": {
        "id": "o3mE1DlVfjhE"
      },
      "source": [
        "geo18.head()"
      ],
      "execution_count": null,
      "outputs": []
    },
    {
      "cell_type": "code",
      "metadata": {
        "id": "X96HZ7QbYnso"
      },
      "source": [
        "original_crs = geo18.crs\n",
        "target_crs = {'datum':'WGS84', 'no_defs':True, 'proj':'merc'}\n",
        "projected_geo18 = geo18.to_crs(crs=target_crs)"
      ],
      "execution_count": null,
      "outputs": []
    },
    {
      "cell_type": "code",
      "metadata": {
        "id": "AufhqmwXYvmo"
      },
      "source": [
        "projected_geo18.plot(column='TFR')\n",
        "plt.title('2018 TFR by Country')\n",
        "#plt.savefig('./data/wk9/Wards.png')"
      ],
      "execution_count": null,
      "outputs": []
    },
    {
      "cell_type": "markdown",
      "metadata": {
        "id": "lvEVN44hjfkj"
      },
      "source": [
        "# Creating map with key "
      ]
    },
    {
      "cell_type": "code",
      "metadata": {
        "id": "N3apvTn5kPvv"
      },
      "source": [
        "import numpy as np\n",
        "import matplotlib\n",
        "\n"
      ],
      "execution_count": null,
      "outputs": []
    },
    {
      "cell_type": "code",
      "metadata": {
        "id": "JZbChNI3kfm9"
      },
      "source": [
        "\n",
        "# Convenience functions for working with colour ramps and bars\n",
        "def colorbar_index(ncolors, cmap, labels=None, **kwargs):\n",
        "    \"\"\"\n",
        "    This is a convenience function to stop you making off-by-one errors\n",
        "    Takes a standard colour ramp, and discretizes it,\n",
        "    then draws a colour bar with correctly aligned labels\n",
        "    \"\"\"\n",
        "    cmap = cmap_discretize(cmap, ncolors)\n",
        "    mappable = plt.cm.ScalarMappable(cmap=cmap)\n",
        "    mappable.set_array([])\n",
        "    mappable.set_clim(-0.5, ncolors+0.5)\n",
        "    colorbar = matplotlib.pyplot.colorbar(mappable, **kwargs)\n",
        "    colorbar.set_ticks(np.linspace(0, ncolors, ncolors))\n",
        "    colorbar.set_ticklabels(range(ncolors))\n",
        "    if labels:\n",
        "        colorbar.set_ticklabels(labels)\n",
        "    return colorbar\n",
        "\n",
        "def cmap_discretize(cmap, N):\n",
        "    \"\"\"\n",
        "    Return a discrete colormap from the continuous colormap cmap.\n",
        "\n",
        "        cmap: colormap instance, eg. cm.jet. \n",
        "        N: number of colors.\n",
        "\n",
        "    Example\n",
        "        x = resize(arange(100), (5,100))\n",
        "        djet = cmap_discretize(cm.jet, 5)\n",
        "        imshow(x, cmap=djet)\n",
        "\n",
        "    \"\"\"\n",
        "    if type(cmap) == str:\n",
        "        cmap = get_cmap(cmap)\n",
        "    colors_i = np.concatenate((np.linspace(0, 1., N), (0., 0., 0., 0.)))\n",
        "    colors_rgba = cmap(colors_i)\n",
        "    indices = np.linspace(0, 1., N + 1)\n",
        "    cdict = {}\n",
        "    for ki, key in enumerate(('red', 'green', 'blue')):\n",
        "        cdict[key] = [(indices[i], colors_rgba[i - 1, ki], colors_rgba[i, ki]) for i in range(N+1)]\n",
        "    return matplotlib.colors.LinearSegmentedColormap(cmap.name + \"_%d\" % N, cdict, 1024)"
      ],
      "execution_count": null,
      "outputs": []
    },
    {
      "cell_type": "code",
      "metadata": {
        "id": "0Q3vLtCdklGd"
      },
      "source": [
        "from pysal.viz.mapclassify import Quantiles"
      ],
      "execution_count": null,
      "outputs": []
    },
    {
      "cell_type": "code",
      "metadata": {
        "id": "BpYXaV_yjLpt"
      },
      "source": [
        "breaks = Quantiles(\n",
        "    geo18['TFR'].values,\n",
        "    k=5)\n",
        "print(breaks)"
      ],
      "execution_count": null,
      "outputs": []
    },
    {
      "cell_type": "code",
      "metadata": {
        "id": "RULLyUlUkyui"
      },
      "source": [
        "print(breaks.bins)"
      ],
      "execution_count": null,
      "outputs": []
    },
    {
      "cell_type": "code",
      "metadata": {
        "id": "1YKuA4wAk4BZ"
      },
      "source": [
        "bar_labels = ['<=%i'% b for b in breaks.bins]\n",
        "print(bar_labels)"
      ],
      "execution_count": null,
      "outputs": []
    },
    {
      "cell_type": "code",
      "metadata": {
        "id": "nKyvqYxPk_ns"
      },
      "source": [
        "!pip install mapclassify\n"
      ],
      "execution_count": null,
      "outputs": []
    },
    {
      "cell_type": "code",
      "metadata": {
        "id": "sF0Xelc6lBcb"
      },
      "source": [
        "import mapclassify "
      ],
      "execution_count": null,
      "outputs": []
    },
    {
      "cell_type": "code",
      "metadata": {
        "id": "uDzwxHNNlETb"
      },
      "source": [
        "projected_geo18.plot(column='TFR', cmap='Greens', scheme='quantiles', k=5)\n",
        "plt.title('2018 TFR by Country')\n",
        "\n",
        "cmap = plt.get_cmap('Greens')\n",
        "colorbar_index(ncolors=5, cmap=cmap, shrink=0.5, labels=bar_labels)"
      ],
      "execution_count": null,
      "outputs": []
    },
    {
      "cell_type": "markdown",
      "metadata": {
        "id": "ZLxxc6pvn5-E"
      },
      "source": [
        "#Using plotly to create map with time sliders\n",
        "https://support.sisense.com/hc/en-us/community/posts/360038301533-Plotly-Choropleth-With-Slider-Map-Charts-Over-Time-"
      ]
    },
    {
      "cell_type": "code",
      "metadata": {
        "id": "UXtWJ-dUn-Fr"
      },
      "source": [
        "import numpy as np\n",
        "import pandas as pd\n",
        "import plotly.graph_objs as go\n",
        "import plotly as py\n",
        "\n",
        "# min year in your dataset\n",
        "year = 1960\n"
      ],
      "execution_count": null,
      "outputs": []
    },
    {
      "cell_type": "code",
      "metadata": {
        "id": "HiOKq3bAopzU"
      },
      "source": [
        "# your color-scale\n",
        "scl = [[0.0, '#ffffff'],[0.2, '#b4a8ce'],[0.4, '#8573a9'],\n",
        "       [0.6, '#7159a3'],[0.8, '#5732a1'],[1.0, '#2c0579']] # purples\n",
        "\n",
        "data_slider = []\n",
        "for year in geoafrica['Year'].unique():\n",
        "    geoafrica_segmented =  geoafrica[(geoafrica['Year']== year)]\n",
        "\n",
        "    for col in geoafrica_segmented.columns:\n",
        "        geoafrica_segmented[col] = geoafrica_segmented[col].astype(str)\n",
        "\n",
        "    data_each_yr = dict(\n",
        "                        type='choropleth',\n",
        "                        locations = geoafrica_segmented['state'], #need to fix this \n",
        "                        z=geoafrica_segmented['sightings'].astype(float),\n",
        "                        locationmode='USA-states', #need to fix this \n",
        "                        colorscale = scl,\n",
        "                        colorbar= {'title':'TFR'})\n",
        "\n",
        "    data_slider.append(data_each_yr)\n",
        "\n",
        "steps = []\n",
        "for i in range(len(data_slider)):\n",
        "    step = dict(method='restyle',\n",
        "                args=['visible', [False] * len(data_slider)],\n",
        "                label='Year {}'.format(i + 1960))\n",
        "    step['args'][1][i] = True\n",
        "    steps.append(step)\n",
        "\n",
        "sliders = [dict(active=0, pad={\"t\": 1}, steps=steps)]\n",
        "\n",
        "layout = dict(title ='UFO Sightings by State Since 1998', geo=dict(scope='usa',\n",
        "                       projection={'type': 'albers usa'}),\n",
        "              sliders=sliders)\n",
        "\n",
        "fig = dict(data=data_slider, layout=layout)\n",
        "periscope.plotly(fig)"
      ],
      "execution_count": null,
      "outputs": []
    },
    {
      "cell_type": "code",
      "metadata": {
        "id": "MrJSup0csf12"
      },
      "source": [
        ""
      ],
      "execution_count": null,
      "outputs": []
    },
    {
      "cell_type": "markdown",
      "metadata": {
        "id": "tBHGR2tWsgtG"
      },
      "source": [
        "# Interactive map with sliders diff source \n",
        "https://towardsdatascience.com/a-complete-guide-to-an-interactive-geographical-map-using-python-f4c5197e23e0"
      ]
    },
    {
      "cell_type": "code",
      "metadata": {
        "id": "g3uU6eeosi6-"
      },
      "source": [
        "import json\n",
        "#Read data to json.\n",
        "merged_json = json.loads(geo18.to_json())\n",
        "#Convert to String like object.\n",
        "json_data = json.dumps(merged_json)"
      ],
      "execution_count": null,
      "outputs": []
    },
    {
      "cell_type": "code",
      "metadata": {
        "id": "nlAa8z7etTYp"
      },
      "source": [
        "from bokeh.io import output_notebook, show, output_file\n",
        "from bokeh.plotting import figure\n",
        "from bokeh.models import GeoJSONDataSource, LinearColorMapper, ColorBar\n",
        "from bokeh.palettes import brewer\n",
        "#Input GeoJSON source that contains features for plotting.\n",
        "geosource = GeoJSONDataSource(geojson = json_data)\n",
        "#Define a sequential multi-hue color palette.\n",
        "palette = brewer['YlGnBu'][6]\n",
        "#Reverse color order so that dark blue is highest obesity.\n",
        "palette = palette[::-1]\n",
        "#Instantiate LinearColorMapper that linearly maps numbers in a range, into a sequence of colors.\n",
        "color_mapper = LinearColorMapper(palette = palette, low = 0, high = 8)\n",
        "#Define custom tick labels for color bar.\n",
        "    #tick_labels = {'0': '0%', '5': '5%', '10':'10%', '15':'15%', '20':'20%', '25':'25%', '30':'30%','35':'35%', '40': '>40%'}\n",
        "#Create color bar. \n",
        "color_bar = ColorBar(color_mapper=color_mapper, label_standoff=8,width = 500, height = 20,\n",
        "border_line_color=None,location = (0,0), orientation = 'horizontal', major_label_overrides = tick_labels)\n",
        "#Create figure object.\n",
        "p = figure(title = 'TFR by Country, 2018') # plot_height = 40 , plot_width = 40, toolbar_location = None)\n",
        "p.xgrid.grid_line_color = None\n",
        "p.ygrid.grid_line_color = None\n",
        "#Add patch renderer to figure. \n",
        "p.patches('xs','ys', source = geosource,fill_color = {'field' :'TFR', 'transform' : color_mapper},\n",
        "          line_color = 'black', line_width = 0.25, fill_alpha = 1)\n",
        "#Specify figure layout.\n",
        "p.add_layout(color_bar, 'below')\n",
        "\n",
        "#Display figure.\n",
        "show(p)"
      ],
      "execution_count": null,
      "outputs": []
    },
    {
      "cell_type": "markdown",
      "metadata": {
        "id": "WizhxzwRz-Uj"
      },
      "source": [
        "Making map interactive now"
      ]
    },
    {
      "cell_type": "code",
      "metadata": {
        "id": "HAowUearzByY"
      },
      "source": [
        "from bokeh.io import curdoc, output_notebook\n",
        "\n",
        "from bokeh.models import Slider, HoverTool\n",
        "from bokeh.layouts import widgetbox, row, column\n",
        "\n",
        "#Define function that returns json_data for year selected by user.\n",
        "def json_data(selectedYear):\n",
        "    yr = selectedYear\n",
        "    data_yr = data[data['Year'] == yr]\n",
        "    merged = africa.merge(data_yr, left_on = 'COUNTRY', right_on = 'COUNTRY', how = 'left') #check the how\n",
        "    merged.fillna('No data', inplace = True)\n",
        "    merged_json = json.loads(merged.to_json())\n",
        "    json_data = json.dumps(merged_json)\n",
        "    return json_data\n",
        "\n",
        "#Input GeoJSON source that contains features for plotting.\n",
        "geosource = GeoJSONDataSource(geojson = json_data(2016))\n",
        "#Define a sequential multi-hue color palette.\n",
        "palette = brewer['YlGnBu'][8]\n",
        "#Reverse color order so that dark blue is highest obesity.\n",
        "palette = palette[::-1]\n",
        "#Instantiate LinearColorMapper that linearly maps numbers in a range, into a sequence of colors. Input nan_color.\n",
        "color_mapper = LinearColorMapper(palette = palette, low = 0, high = 8, nan_color = '#d9d9d9')\n",
        "#Define custom tick labels for color bar.\n",
        "    #tick_labels = {'0': '0%', '5': '5%', '10':'10%', '15':'15%', '20':'20%', '25':'25%', '30':'30%','35':'35%', '40': '>40%'}\n",
        "#Add hover tool\n",
        "hover = HoverTool(tooltips = [ ('Country','@COUNTRY'),('TFR', '@TFR')])\n",
        "#Create color bar. \n",
        "color_bar = ColorBar(color_mapper=color_mapper, label_standoff=8,width = 500, height = 20,\n",
        "                     border_line_color=None,location = (0,0), orientation = 'horizontal', major_label_overrides = tick_labels)\n",
        "#Create figure object.\n",
        "p = figure(title = 'TFR by Country', toolbar_location = None, tools = [hover]) #, plot_height = 600 , plot_width = 950,\n",
        "p.xgrid.grid_line_color = None\n",
        "p.ygrid.grid_line_color = None\n",
        "#Add patch renderer to figure. \n",
        "p.patches('xs','ys', source = geosource,fill_color = {'field' :'TFR', 'transform' : color_mapper},\n",
        "          line_color = 'black', line_width = 0.25, fill_alpha = 1)\n",
        "#Specify layout\n",
        "p.add_layout(color_bar, 'below')\n",
        "# Define the callback function: update_plot\n",
        "def update_plot(attr, old, new):\n",
        "    yr = slider.value\n",
        "    new_data = json_data(yr)\n",
        "    geosource.geojson = new_data\n",
        "    p.title.text = 'TFR, %d' %yr\n",
        "    \n",
        "# Make a slider object: slider \n",
        "slider = Slider(title = 'Year',start = 1960, end = 2018, step = 1, value = 2018)\n",
        "slider.on_change('value', update_plot)\n",
        "# Make a column layout of widgetbox(slider) and plot, and add it to the current document\n",
        "layout = column(p,widgetbox(slider))\n",
        "curdoc().add_root(layout)\n",
        "#Display plot inline in Jupyter notebook\n",
        "output_notebook()\n",
        "#Display plot\n",
        "show(layout)\n",
        "\n"
      ],
      "execution_count": null,
      "outputs": []
    },
    {
      "cell_type": "code",
      "metadata": {
        "id": "c4PtsRnt5o09"
      },
      "source": [
        "bokeh json myapp.py "
      ],
      "execution_count": null,
      "outputs": []
    },
    {
      "cell_type": "markdown",
      "metadata": {
        "id": "9N8t39lx7pQR"
      },
      "source": [
        "\"Note that the plot does not update when you change slider value in your Jupyter Notebook. To view this application in interactive mode you need to set up a local Bokeh server. Open a command line window in your current directory and executebokeh serve --show filename.ipynb command.\" - from source\n",
        "\n"
      ]
    },
    {
      "cell_type": "code",
      "metadata": {
        "id": "w-Q-Sim670Zi"
      },
      "source": [
        "bokeh serve --show filename.ipynb"
      ],
      "execution_count": null,
      "outputs": []
    },
    {
      "cell_type": "markdown",
      "metadata": {
        "id": "ioKolxysiUNx"
      },
      "source": [
        "# Using folium to create interactive map "
      ]
    },
    {
      "cell_type": "markdown",
      "metadata": {
        "id": "LGLHcRAXjLCM"
      },
      "source": [
        "https://towardsdatascience.com/a-step-by-step-guide-to-interactive-choropleth-map-in-python-681f6bd853ce"
      ]
    },
    {
      "cell_type": "code",
      "metadata": {
        "colab": {
          "base_uri": "https://localhost:8080/",
          "height": 786
        },
        "id": "LOuoGsxfiWOL",
        "outputId": "bb309251-40d6-4014-9a0a-2b689b70522a"
      },
      "source": [
        "import folium\n",
        "world = folium.Map(location=[0,0], zoom_start=2)\n",
        "world"
      ],
      "execution_count": 1,
      "outputs": [
        {
          "output_type": "execute_result",
          "data": {
            "text/html": [
              "<div style=\"width:100%;\"><div style=\"position:relative;width:100%;height:0;padding-bottom:60%;\"><span style=\"color:#565656\">Make this Notebook Trusted to load map: File -> Trust Notebook</span><iframe src=\"about:blank\" style=\"position:absolute;width:100%;height:100%;left:0;top:0;border:none !important;\" data-html=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 onload=\"this.contentDocument.open();this.contentDocument.write(atob(this.getAttribute('data-html')));this.contentDocument.close();\" allowfullscreen webkitallowfullscreen mozallowfullscreen></iframe></div></div>"
            ],
            "text/plain": [
              "<folium.folium.Map at 0x7f6925f916d8>"
            ]
          },
          "metadata": {
            "tags": []
          },
          "execution_count": 1
        }
      ]
    },
    {
      "cell_type": "code",
      "metadata": {
        "id": "2PVkwIPnjMLb"
      },
      "source": [
        "wc = r'examples/data/world-countries.json'"
      ],
      "execution_count": null,
      "outputs": []
    },
    {
      "cell_type": "code",
      "metadata": {
        "id": "WgsDSiBXE4j8"
      },
      "source": [
        "world.choropleth(geo_data=wc,\n",
        "                data=geo18,\n",
        "                columns=['COUNTRY', 'TFR'],\n",
        "                key_on='feature.properties.name',\n",
        "                fill_color='YlOrRd',\n",
        "                fill_opacity=0.8,\n",
        "                line_opacity=0.2,\n",
        "                legend_name='TFR'\n",
        "                )\n",
        "world"
      ],
      "execution_count": null,
      "outputs": []
    }
  ]
}
