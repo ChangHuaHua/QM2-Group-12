{
  "nbformat": 4,
  "nbformat_minor": 0,
  "metadata": {
    "colab": {
      "name": "Visualisation TFR and FLPR of Highest and Lowest HDI countries",
      "provenance": [],
      "collapsed_sections": [],
      "authorship_tag": "ABX9TyNS4o0bCY9uYIDV1mHfLL3Y",
      "include_colab_link": true
    },
    "kernelspec": {
      "name": "python3",
      "display_name": "Python 3"
    }
  },
  "cells": [
    {
      "cell_type": "markdown",
      "metadata": {
        "id": "view-in-github",
        "colab_type": "text"
      },
      "source": [
        "<a href=\"https://colab.research.google.com/github/ChangHuaHua/QM2-Group-12/blob/main/Visualisation_TFR_and_FLPR_of_Highest_and_Lowest_HDI_countries.ipynb\" target=\"_parent\"><img src=\"https://colab.research.google.com/assets/colab-badge.svg\" alt=\"Open In Colab\"/></a>"
      ]
    },
    {
      "cell_type": "markdown",
      "metadata": {
        "id": "FsbsKqEuQ7wz"
      },
      "source": [
        "Creating two graphs including the trends of TFR and FLPR. One graph includes 3 countries with the highest current HDI and the other graph includes 3 with the lowest current HDI."
      ]
    },
    {
      "cell_type": "markdown",
      "metadata": {
        "id": "aajUWTP2Z7G3"
      },
      "source": [
        "**Importing Libraries and Uploading Files**"
      ]
    },
    {
      "cell_type": "code",
      "metadata": {
        "id": "kqEt7I9AL4NG"
      },
      "source": [
        "import matplotlib.pyplot as plt\r\n",
        "import pandas as pd\r\n",
        "import pylab\r\n",
        "%matplotlib inline\r\n",
        "pylab.rcParams['figure.figsize'] = (10., 8.)"
      ],
      "execution_count": 2,
      "outputs": []
    },
    {
      "cell_type": "code",
      "metadata": {
        "colab": {
          "resources": {
            "http://localhost:8080/nbextensions/google.colab/files.js": {
              "data": "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",
              "ok": true,
              "headers": [
                [
                  "content-type",
                  "application/javascript"
                ]
              ],
              "status": 200,
              "status_text": ""
            }
          },
          "base_uri": "https://localhost:8080/",
          "height": 73
        },
        "id": "nD8-80OWMo4T",
        "outputId": "3d9566ab-6fd8-463b-b226-b7293d0c74f0"
      },
      "source": [
        "from google.colab import files\r\n",
        "uploaded = files.upload()\r\n",
        "#upload Africa_FULL_MERGE.csv file"
      ],
      "execution_count": 3,
      "outputs": [
        {
          "output_type": "display_data",
          "data": {
            "text/html": [
              "\n",
              "     <input type=\"file\" id=\"files-e2bbdd61-c88a-416b-ab7f-e1373f81431a\" name=\"files[]\" multiple disabled\n",
              "        style=\"border:none\" />\n",
              "     <output id=\"result-e2bbdd61-c88a-416b-ab7f-e1373f81431a\">\n",
              "      Upload widget is only available when the cell has been executed in the\n",
              "      current browser session. Please rerun this cell to enable.\n",
              "      </output>\n",
              "      <script src=\"/nbextensions/google.colab/files.js\"></script> "
            ],
            "text/plain": [
              "<IPython.core.display.HTML object>"
            ]
          },
          "metadata": {
            "tags": []
          }
        },
        {
          "output_type": "stream",
          "text": [
            "Saving Africa_FULL_MERGE.csv to Africa_FULL_MERGE.csv\n"
          ],
          "name": "stdout"
        }
      ]
    },
    {
      "cell_type": "code",
      "metadata": {
        "colab": {
          "base_uri": "https://localhost:8080/",
          "height": 586
        },
        "id": "lBuvbl5qSP7k",
        "outputId": "0b0bc686-6697-457d-892e-d7c32fd418e6"
      },
      "source": [
        "data = 'Africa_FULL_MERGE.csv'\r\n",
        "africa = pd.read_csv(data)\r\n",
        "africa"
      ],
      "execution_count": 4,
      "outputs": [
        {
          "output_type": "execute_result",
          "data": {
            "text/html": [
              "<div>\n",
              "<style scoped>\n",
              "    .dataframe tbody tr th:only-of-type {\n",
              "        vertical-align: middle;\n",
              "    }\n",
              "\n",
              "    .dataframe tbody tr th {\n",
              "        vertical-align: top;\n",
              "    }\n",
              "\n",
              "    .dataframe thead th {\n",
              "        text-align: right;\n",
              "    }\n",
              "</style>\n",
              "<table border=\"1\" class=\"dataframe\">\n",
              "  <thead>\n",
              "    <tr style=\"text-align: right;\">\n",
              "      <th></th>\n",
              "      <th>Unnamed: 0</th>\n",
              "      <th>Country</th>\n",
              "      <th>Year</th>\n",
              "      <th>Region</th>\n",
              "      <th>IncomeGroup</th>\n",
              "      <th>Country Code</th>\n",
              "      <th>TFR</th>\n",
              "      <th>HDI Rank (2018)</th>\n",
              "      <th>HDI</th>\n",
              "      <th>Females in secondary education (%)</th>\n",
              "      <th>Labor force participation rate, female (% of female population ages 15+) (modeled ILO estimate)</th>\n",
              "    </tr>\n",
              "  </thead>\n",
              "  <tbody>\n",
              "    <tr>\n",
              "      <th>0</th>\n",
              "      <td>0</td>\n",
              "      <td>Egypt</td>\n",
              "      <td>1960</td>\n",
              "      <td>Middle East &amp; North Africa</td>\n",
              "      <td>Lower middle income</td>\n",
              "      <td>EGY</td>\n",
              "      <td>6.716</td>\n",
              "      <td>NaN</td>\n",
              "      <td>NaN</td>\n",
              "      <td>NaN</td>\n",
              "      <td>NaN</td>\n",
              "    </tr>\n",
              "    <tr>\n",
              "      <th>1</th>\n",
              "      <td>1</td>\n",
              "      <td>Egypt</td>\n",
              "      <td>1961</td>\n",
              "      <td>Middle East &amp; North Africa</td>\n",
              "      <td>Lower middle income</td>\n",
              "      <td>EGY</td>\n",
              "      <td>6.696</td>\n",
              "      <td>NaN</td>\n",
              "      <td>NaN</td>\n",
              "      <td>NaN</td>\n",
              "      <td>NaN</td>\n",
              "    </tr>\n",
              "    <tr>\n",
              "      <th>2</th>\n",
              "      <td>2</td>\n",
              "      <td>Egypt</td>\n",
              "      <td>1962</td>\n",
              "      <td>Middle East &amp; North Africa</td>\n",
              "      <td>Lower middle income</td>\n",
              "      <td>EGY</td>\n",
              "      <td>6.673</td>\n",
              "      <td>NaN</td>\n",
              "      <td>NaN</td>\n",
              "      <td>NaN</td>\n",
              "      <td>NaN</td>\n",
              "    </tr>\n",
              "    <tr>\n",
              "      <th>3</th>\n",
              "      <td>3</td>\n",
              "      <td>Egypt</td>\n",
              "      <td>1963</td>\n",
              "      <td>Middle East &amp; North Africa</td>\n",
              "      <td>Lower middle income</td>\n",
              "      <td>EGY</td>\n",
              "      <td>6.646</td>\n",
              "      <td>NaN</td>\n",
              "      <td>NaN</td>\n",
              "      <td>NaN</td>\n",
              "      <td>NaN</td>\n",
              "    </tr>\n",
              "    <tr>\n",
              "      <th>4</th>\n",
              "      <td>4</td>\n",
              "      <td>Egypt</td>\n",
              "      <td>1964</td>\n",
              "      <td>Middle East &amp; North Africa</td>\n",
              "      <td>Lower middle income</td>\n",
              "      <td>EGY</td>\n",
              "      <td>6.615</td>\n",
              "      <td>NaN</td>\n",
              "      <td>NaN</td>\n",
              "      <td>NaN</td>\n",
              "      <td>NaN</td>\n",
              "    </tr>\n",
              "    <tr>\n",
              "      <th>...</th>\n",
              "      <td>...</td>\n",
              "      <td>...</td>\n",
              "      <td>...</td>\n",
              "      <td>...</td>\n",
              "      <td>...</td>\n",
              "      <td>...</td>\n",
              "      <td>...</td>\n",
              "      <td>...</td>\n",
              "      <td>...</td>\n",
              "      <td>...</td>\n",
              "      <td>...</td>\n",
              "    </tr>\n",
              "    <tr>\n",
              "      <th>3181</th>\n",
              "      <td>3181</td>\n",
              "      <td>Zimbabwe</td>\n",
              "      <td>2014</td>\n",
              "      <td>Sub-Saharan Africa</td>\n",
              "      <td>Lower middle income</td>\n",
              "      <td>ZWE</td>\n",
              "      <td>3.974</td>\n",
              "      <td>150.0</td>\n",
              "      <td>0.537</td>\n",
              "      <td>NaN</td>\n",
              "      <td>78.010002</td>\n",
              "    </tr>\n",
              "    <tr>\n",
              "      <th>3182</th>\n",
              "      <td>3182</td>\n",
              "      <td>Zimbabwe</td>\n",
              "      <td>2015</td>\n",
              "      <td>Sub-Saharan Africa</td>\n",
              "      <td>Lower middle income</td>\n",
              "      <td>ZWE</td>\n",
              "      <td>3.896</td>\n",
              "      <td>150.0</td>\n",
              "      <td>0.544</td>\n",
              "      <td>NaN</td>\n",
              "      <td>78.113998</td>\n",
              "    </tr>\n",
              "    <tr>\n",
              "      <th>3183</th>\n",
              "      <td>3183</td>\n",
              "      <td>Zimbabwe</td>\n",
              "      <td>2016</td>\n",
              "      <td>Sub-Saharan Africa</td>\n",
              "      <td>Lower middle income</td>\n",
              "      <td>ZWE</td>\n",
              "      <td>3.804</td>\n",
              "      <td>150.0</td>\n",
              "      <td>0.549</td>\n",
              "      <td>NaN</td>\n",
              "      <td>78.209000</td>\n",
              "    </tr>\n",
              "    <tr>\n",
              "      <th>3184</th>\n",
              "      <td>3184</td>\n",
              "      <td>Zimbabwe</td>\n",
              "      <td>2017</td>\n",
              "      <td>Sub-Saharan Africa</td>\n",
              "      <td>Lower middle income</td>\n",
              "      <td>ZWE</td>\n",
              "      <td>3.707</td>\n",
              "      <td>150.0</td>\n",
              "      <td>0.553</td>\n",
              "      <td>NaN</td>\n",
              "      <td>78.542000</td>\n",
              "    </tr>\n",
              "    <tr>\n",
              "      <th>3185</th>\n",
              "      <td>3185</td>\n",
              "      <td>Zimbabwe</td>\n",
              "      <td>2018</td>\n",
              "      <td>Sub-Saharan Africa</td>\n",
              "      <td>Lower middle income</td>\n",
              "      <td>ZWE</td>\n",
              "      <td>3.615</td>\n",
              "      <td>150.0</td>\n",
              "      <td>0.563</td>\n",
              "      <td>NaN</td>\n",
              "      <td>NaN</td>\n",
              "    </tr>\n",
              "  </tbody>\n",
              "</table>\n",
              "<p>3186 rows × 11 columns</p>\n",
              "</div>"
            ],
            "text/plain": [
              "      Unnamed: 0  ... Labor force participation rate, female (% of female population ages 15+) (modeled ILO estimate)\n",
              "0              0  ...                                                NaN                                             \n",
              "1              1  ...                                                NaN                                             \n",
              "2              2  ...                                                NaN                                             \n",
              "3              3  ...                                                NaN                                             \n",
              "4              4  ...                                                NaN                                             \n",
              "...          ...  ...                                                ...                                             \n",
              "3181        3181  ...                                          78.010002                                             \n",
              "3182        3182  ...                                          78.113998                                             \n",
              "3183        3183  ...                                          78.209000                                             \n",
              "3184        3184  ...                                          78.542000                                             \n",
              "3185        3185  ...                                                NaN                                             \n",
              "\n",
              "[3186 rows x 11 columns]"
            ]
          },
          "metadata": {
            "tags": []
          },
          "execution_count": 4
        }
      ]
    },
    {
      "cell_type": "code",
      "metadata": {
        "id": "xNLlxYfG0RZ8"
      },
      "source": [
        "africa['HDI'] = pd.to_numeric(africa['HDI'], errors = 'coerce')\r\n",
        "africa['HDI Rank (2018)'] = pd.to_numeric(africa['HDI Rank (2018)'], errors = 'coerce')"
      ],
      "execution_count": 5,
      "outputs": []
    },
    {
      "cell_type": "markdown",
      "metadata": {
        "id": "sJI5jXYPZ1en"
      },
      "source": [
        "**3 Highest and Lowest HDI**"
      ]
    },
    {
      "cell_type": "code",
      "metadata": {
        "colab": {
          "base_uri": "https://localhost:8080/",
          "height": 1000
        },
        "id": "Io8PZEJ7SyHB",
        "outputId": "26d724d8-b501-4b0b-ad4c-5585e16ea4f0"
      },
      "source": [
        "africa_2018 = africa[africa['Year'] == 2018]\r\n",
        "africa_2018 = africa_2018.reset_index(drop=True)\r\n",
        "africa_2018"
      ],
      "execution_count": 6,
      "outputs": [
        {
          "output_type": "execute_result",
          "data": {
            "text/html": [
              "<div>\n",
              "<style scoped>\n",
              "    .dataframe tbody tr th:only-of-type {\n",
              "        vertical-align: middle;\n",
              "    }\n",
              "\n",
              "    .dataframe tbody tr th {\n",
              "        vertical-align: top;\n",
              "    }\n",
              "\n",
              "    .dataframe thead th {\n",
              "        text-align: right;\n",
              "    }\n",
              "</style>\n",
              "<table border=\"1\" class=\"dataframe\">\n",
              "  <thead>\n",
              "    <tr style=\"text-align: right;\">\n",
              "      <th></th>\n",
              "      <th>Unnamed: 0</th>\n",
              "      <th>Country</th>\n",
              "      <th>Year</th>\n",
              "      <th>Region</th>\n",
              "      <th>IncomeGroup</th>\n",
              "      <th>Country Code</th>\n",
              "      <th>TFR</th>\n",
              "      <th>HDI Rank (2018)</th>\n",
              "      <th>HDI</th>\n",
              "      <th>Females in secondary education (%)</th>\n",
              "      <th>Labor force participation rate, female (% of female population ages 15+) (modeled ILO estimate)</th>\n",
              "    </tr>\n",
              "  </thead>\n",
              "  <tbody>\n",
              "    <tr>\n",
              "      <th>0</th>\n",
              "      <td>58</td>\n",
              "      <td>Egypt</td>\n",
              "      <td>2018</td>\n",
              "      <td>Middle East &amp; North Africa</td>\n",
              "      <td>Lower middle income</td>\n",
              "      <td>EGY</td>\n",
              "      <td>3.326</td>\n",
              "      <td>116.0</td>\n",
              "      <td>0.700</td>\n",
              "      <td>NaN</td>\n",
              "      <td>NaN</td>\n",
              "    </tr>\n",
              "    <tr>\n",
              "      <th>1</th>\n",
              "      <td>117</td>\n",
              "      <td>Libya</td>\n",
              "      <td>2018</td>\n",
              "      <td>Middle East &amp; North Africa</td>\n",
              "      <td>Upper middle income</td>\n",
              "      <td>LBY</td>\n",
              "      <td>2.240</td>\n",
              "      <td>110.0</td>\n",
              "      <td>0.708</td>\n",
              "      <td>NaN</td>\n",
              "      <td>NaN</td>\n",
              "    </tr>\n",
              "    <tr>\n",
              "      <th>2</th>\n",
              "      <td>176</td>\n",
              "      <td>Tunisia</td>\n",
              "      <td>2018</td>\n",
              "      <td>Middle East &amp; North Africa</td>\n",
              "      <td>Lower middle income</td>\n",
              "      <td>TUN</td>\n",
              "      <td>2.197</td>\n",
              "      <td>91.0</td>\n",
              "      <td>0.739</td>\n",
              "      <td>NaN</td>\n",
              "      <td>NaN</td>\n",
              "    </tr>\n",
              "    <tr>\n",
              "      <th>3</th>\n",
              "      <td>235</td>\n",
              "      <td>Algeria</td>\n",
              "      <td>2018</td>\n",
              "      <td>Middle East &amp; North Africa</td>\n",
              "      <td>Lower middle income</td>\n",
              "      <td>DZA</td>\n",
              "      <td>3.023</td>\n",
              "      <td>82.0</td>\n",
              "      <td>0.759</td>\n",
              "      <td>NaN</td>\n",
              "      <td>NaN</td>\n",
              "    </tr>\n",
              "    <tr>\n",
              "      <th>4</th>\n",
              "      <td>294</td>\n",
              "      <td>Morocco</td>\n",
              "      <td>2018</td>\n",
              "      <td>Middle East &amp; North Africa</td>\n",
              "      <td>Lower middle income</td>\n",
              "      <td>MAR</td>\n",
              "      <td>2.415</td>\n",
              "      <td>121.0</td>\n",
              "      <td>0.676</td>\n",
              "      <td>NaN</td>\n",
              "      <td>NaN</td>\n",
              "    </tr>\n",
              "    <tr>\n",
              "      <th>5</th>\n",
              "      <td>353</td>\n",
              "      <td>Djibouti</td>\n",
              "      <td>2018</td>\n",
              "      <td>Middle East &amp; North Africa</td>\n",
              "      <td>Lower middle income</td>\n",
              "      <td>DJI</td>\n",
              "      <td>2.728</td>\n",
              "      <td>171.0</td>\n",
              "      <td>0.495</td>\n",
              "      <td>NaN</td>\n",
              "      <td>NaN</td>\n",
              "    </tr>\n",
              "    <tr>\n",
              "      <th>6</th>\n",
              "      <td>412</td>\n",
              "      <td>Angola</td>\n",
              "      <td>2018</td>\n",
              "      <td>Sub-Saharan Africa</td>\n",
              "      <td>Lower middle income</td>\n",
              "      <td>AGO</td>\n",
              "      <td>5.519</td>\n",
              "      <td>149.0</td>\n",
              "      <td>0.574</td>\n",
              "      <td>NaN</td>\n",
              "      <td>NaN</td>\n",
              "    </tr>\n",
              "    <tr>\n",
              "      <th>7</th>\n",
              "      <td>471</td>\n",
              "      <td>Benin</td>\n",
              "      <td>2018</td>\n",
              "      <td>Sub-Saharan Africa</td>\n",
              "      <td>Lower middle income</td>\n",
              "      <td>BEN</td>\n",
              "      <td>4.836</td>\n",
              "      <td>163.0</td>\n",
              "      <td>0.520</td>\n",
              "      <td>NaN</td>\n",
              "      <td>NaN</td>\n",
              "    </tr>\n",
              "    <tr>\n",
              "      <th>8</th>\n",
              "      <td>530</td>\n",
              "      <td>Botswana</td>\n",
              "      <td>2018</td>\n",
              "      <td>Sub-Saharan Africa</td>\n",
              "      <td>Upper middle income</td>\n",
              "      <td>BWA</td>\n",
              "      <td>2.874</td>\n",
              "      <td>94.0</td>\n",
              "      <td>0.728</td>\n",
              "      <td>NaN</td>\n",
              "      <td>NaN</td>\n",
              "    </tr>\n",
              "    <tr>\n",
              "      <th>9</th>\n",
              "      <td>589</td>\n",
              "      <td>Burkina Faso</td>\n",
              "      <td>2018</td>\n",
              "      <td>Sub-Saharan Africa</td>\n",
              "      <td>Low income</td>\n",
              "      <td>BFA</td>\n",
              "      <td>5.189</td>\n",
              "      <td>182.0</td>\n",
              "      <td>0.434</td>\n",
              "      <td>NaN</td>\n",
              "      <td>NaN</td>\n",
              "    </tr>\n",
              "    <tr>\n",
              "      <th>10</th>\n",
              "      <td>648</td>\n",
              "      <td>Burundi</td>\n",
              "      <td>2018</td>\n",
              "      <td>Sub-Saharan Africa</td>\n",
              "      <td>Low income</td>\n",
              "      <td>BDI</td>\n",
              "      <td>5.410</td>\n",
              "      <td>185.0</td>\n",
              "      <td>0.423</td>\n",
              "      <td>NaN</td>\n",
              "      <td>NaN</td>\n",
              "    </tr>\n",
              "    <tr>\n",
              "      <th>11</th>\n",
              "      <td>707</td>\n",
              "      <td>Cabo Verde</td>\n",
              "      <td>2018</td>\n",
              "      <td>Sub-Saharan Africa</td>\n",
              "      <td>Lower middle income</td>\n",
              "      <td>CPV</td>\n",
              "      <td>2.274</td>\n",
              "      <td>126.0</td>\n",
              "      <td>0.651</td>\n",
              "      <td>NaN</td>\n",
              "      <td>NaN</td>\n",
              "    </tr>\n",
              "    <tr>\n",
              "      <th>12</th>\n",
              "      <td>766</td>\n",
              "      <td>Cameroon</td>\n",
              "      <td>2018</td>\n",
              "      <td>Sub-Saharan Africa</td>\n",
              "      <td>Lower middle income</td>\n",
              "      <td>CMR</td>\n",
              "      <td>4.572</td>\n",
              "      <td>150.0</td>\n",
              "      <td>0.563</td>\n",
              "      <td>NaN</td>\n",
              "      <td>NaN</td>\n",
              "    </tr>\n",
              "    <tr>\n",
              "      <th>13</th>\n",
              "      <td>825</td>\n",
              "      <td>Central African Republic</td>\n",
              "      <td>2018</td>\n",
              "      <td>Sub-Saharan Africa</td>\n",
              "      <td>Low income</td>\n",
              "      <td>CAF</td>\n",
              "      <td>4.721</td>\n",
              "      <td>188.0</td>\n",
              "      <td>0.381</td>\n",
              "      <td>NaN</td>\n",
              "      <td>NaN</td>\n",
              "    </tr>\n",
              "    <tr>\n",
              "      <th>14</th>\n",
              "      <td>884</td>\n",
              "      <td>Chad</td>\n",
              "      <td>2018</td>\n",
              "      <td>Sub-Saharan Africa</td>\n",
              "      <td>Low income</td>\n",
              "      <td>TCD</td>\n",
              "      <td>5.747</td>\n",
              "      <td>187.0</td>\n",
              "      <td>0.401</td>\n",
              "      <td>NaN</td>\n",
              "      <td>NaN</td>\n",
              "    </tr>\n",
              "    <tr>\n",
              "      <th>15</th>\n",
              "      <td>943</td>\n",
              "      <td>Comoros</td>\n",
              "      <td>2018</td>\n",
              "      <td>Sub-Saharan Africa</td>\n",
              "      <td>Lower middle income</td>\n",
              "      <td>COM</td>\n",
              "      <td>4.205</td>\n",
              "      <td>156.0</td>\n",
              "      <td>0.538</td>\n",
              "      <td>NaN</td>\n",
              "      <td>NaN</td>\n",
              "    </tr>\n",
              "    <tr>\n",
              "      <th>16</th>\n",
              "      <td>1002</td>\n",
              "      <td>Congo</td>\n",
              "      <td>2018</td>\n",
              "      <td>Sub-Saharan Africa</td>\n",
              "      <td>Lower middle income</td>\n",
              "      <td>COG</td>\n",
              "      <td>4.428</td>\n",
              "      <td>138.0</td>\n",
              "      <td>0.609</td>\n",
              "      <td>NaN</td>\n",
              "      <td>NaN</td>\n",
              "    </tr>\n",
              "    <tr>\n",
              "      <th>17</th>\n",
              "      <td>1061</td>\n",
              "      <td>Cote d'Ivoire</td>\n",
              "      <td>2018</td>\n",
              "      <td>Sub-Saharan Africa</td>\n",
              "      <td>Lower middle income</td>\n",
              "      <td>CIV</td>\n",
              "      <td>4.649</td>\n",
              "      <td>NaN</td>\n",
              "      <td>NaN</td>\n",
              "      <td>NaN</td>\n",
              "      <td>NaN</td>\n",
              "    </tr>\n",
              "    <tr>\n",
              "      <th>18</th>\n",
              "      <td>1120</td>\n",
              "      <td>Democratic Republic of Congo</td>\n",
              "      <td>2018</td>\n",
              "      <td>Sub-Saharan Africa</td>\n",
              "      <td>Low income</td>\n",
              "      <td>COD</td>\n",
              "      <td>5.919</td>\n",
              "      <td>179.0</td>\n",
              "      <td>0.459</td>\n",
              "      <td>NaN</td>\n",
              "      <td>NaN</td>\n",
              "    </tr>\n",
              "    <tr>\n",
              "      <th>19</th>\n",
              "      <td>1179</td>\n",
              "      <td>Equatorial Guinea</td>\n",
              "      <td>2018</td>\n",
              "      <td>Sub-Saharan Africa</td>\n",
              "      <td>Upper middle income</td>\n",
              "      <td>GNQ</td>\n",
              "      <td>4.513</td>\n",
              "      <td>144.0</td>\n",
              "      <td>0.588</td>\n",
              "      <td>NaN</td>\n",
              "      <td>NaN</td>\n",
              "    </tr>\n",
              "    <tr>\n",
              "      <th>20</th>\n",
              "      <td>1238</td>\n",
              "      <td>Eritrea</td>\n",
              "      <td>2018</td>\n",
              "      <td>Sub-Saharan Africa</td>\n",
              "      <td>Low income</td>\n",
              "      <td>ERI</td>\n",
              "      <td>4.056</td>\n",
              "      <td>182.0</td>\n",
              "      <td>0.434</td>\n",
              "      <td>NaN</td>\n",
              "      <td>NaN</td>\n",
              "    </tr>\n",
              "    <tr>\n",
              "      <th>21</th>\n",
              "      <td>1297</td>\n",
              "      <td>Eswatini</td>\n",
              "      <td>2018</td>\n",
              "      <td>Sub-Saharan Africa</td>\n",
              "      <td>Lower middle income</td>\n",
              "      <td>SWZ</td>\n",
              "      <td>2.990</td>\n",
              "      <td>138.0</td>\n",
              "      <td>0.608</td>\n",
              "      <td>NaN</td>\n",
              "      <td>NaN</td>\n",
              "    </tr>\n",
              "    <tr>\n",
              "      <th>22</th>\n",
              "      <td>1356</td>\n",
              "      <td>Ethiopia</td>\n",
              "      <td>2018</td>\n",
              "      <td>Sub-Saharan Africa</td>\n",
              "      <td>Low income</td>\n",
              "      <td>ETH</td>\n",
              "      <td>4.247</td>\n",
              "      <td>173.0</td>\n",
              "      <td>0.470</td>\n",
              "      <td>NaN</td>\n",
              "      <td>NaN</td>\n",
              "    </tr>\n",
              "    <tr>\n",
              "      <th>23</th>\n",
              "      <td>1415</td>\n",
              "      <td>Gabon</td>\n",
              "      <td>2018</td>\n",
              "      <td>Sub-Saharan Africa</td>\n",
              "      <td>Upper middle income</td>\n",
              "      <td>GAB</td>\n",
              "      <td>3.969</td>\n",
              "      <td>115.0</td>\n",
              "      <td>0.702</td>\n",
              "      <td>NaN</td>\n",
              "      <td>NaN</td>\n",
              "    </tr>\n",
              "    <tr>\n",
              "      <th>24</th>\n",
              "      <td>1474</td>\n",
              "      <td>Gambia</td>\n",
              "      <td>2018</td>\n",
              "      <td>Sub-Saharan Africa</td>\n",
              "      <td>Low income</td>\n",
              "      <td>GMB</td>\n",
              "      <td>5.219</td>\n",
              "      <td>174.0</td>\n",
              "      <td>0.466</td>\n",
              "      <td>NaN</td>\n",
              "      <td>NaN</td>\n",
              "    </tr>\n",
              "    <tr>\n",
              "      <th>25</th>\n",
              "      <td>1533</td>\n",
              "      <td>Ghana</td>\n",
              "      <td>2018</td>\n",
              "      <td>Sub-Saharan Africa</td>\n",
              "      <td>Lower middle income</td>\n",
              "      <td>GHA</td>\n",
              "      <td>3.870</td>\n",
              "      <td>142.0</td>\n",
              "      <td>0.596</td>\n",
              "      <td>NaN</td>\n",
              "      <td>NaN</td>\n",
              "    </tr>\n",
              "    <tr>\n",
              "      <th>26</th>\n",
              "      <td>1592</td>\n",
              "      <td>Guinea</td>\n",
              "      <td>2018</td>\n",
              "      <td>Sub-Saharan Africa</td>\n",
              "      <td>Low income</td>\n",
              "      <td>GIN</td>\n",
              "      <td>4.700</td>\n",
              "      <td>174.0</td>\n",
              "      <td>0.466</td>\n",
              "      <td>NaN</td>\n",
              "      <td>NaN</td>\n",
              "    </tr>\n",
              "    <tr>\n",
              "      <th>27</th>\n",
              "      <td>1651</td>\n",
              "      <td>Guinea-Bissau</td>\n",
              "      <td>2018</td>\n",
              "      <td>Sub-Saharan Africa</td>\n",
              "      <td>Low income</td>\n",
              "      <td>GNB</td>\n",
              "      <td>4.476</td>\n",
              "      <td>178.0</td>\n",
              "      <td>0.461</td>\n",
              "      <td>NaN</td>\n",
              "      <td>NaN</td>\n",
              "    </tr>\n",
              "    <tr>\n",
              "      <th>28</th>\n",
              "      <td>1710</td>\n",
              "      <td>Kenya</td>\n",
              "      <td>2018</td>\n",
              "      <td>Sub-Saharan Africa</td>\n",
              "      <td>Lower middle income</td>\n",
              "      <td>KEN</td>\n",
              "      <td>3.492</td>\n",
              "      <td>147.0</td>\n",
              "      <td>0.579</td>\n",
              "      <td>NaN</td>\n",
              "      <td>NaN</td>\n",
              "    </tr>\n",
              "    <tr>\n",
              "      <th>29</th>\n",
              "      <td>1769</td>\n",
              "      <td>Lesotho</td>\n",
              "      <td>2018</td>\n",
              "      <td>Sub-Saharan Africa</td>\n",
              "      <td>Lower middle income</td>\n",
              "      <td>LSO</td>\n",
              "      <td>3.141</td>\n",
              "      <td>164.0</td>\n",
              "      <td>0.518</td>\n",
              "      <td>NaN</td>\n",
              "      <td>NaN</td>\n",
              "    </tr>\n",
              "    <tr>\n",
              "      <th>30</th>\n",
              "      <td>1828</td>\n",
              "      <td>Liberia</td>\n",
              "      <td>2018</td>\n",
              "      <td>Sub-Saharan Africa</td>\n",
              "      <td>Low income</td>\n",
              "      <td>LBR</td>\n",
              "      <td>4.315</td>\n",
              "      <td>176.0</td>\n",
              "      <td>0.465</td>\n",
              "      <td>NaN</td>\n",
              "      <td>NaN</td>\n",
              "    </tr>\n",
              "    <tr>\n",
              "      <th>31</th>\n",
              "      <td>1887</td>\n",
              "      <td>Madagascar</td>\n",
              "      <td>2018</td>\n",
              "      <td>Sub-Saharan Africa</td>\n",
              "      <td>Low income</td>\n",
              "      <td>MDG</td>\n",
              "      <td>4.077</td>\n",
              "      <td>162.0</td>\n",
              "      <td>0.521</td>\n",
              "      <td>NaN</td>\n",
              "      <td>NaN</td>\n",
              "    </tr>\n",
              "    <tr>\n",
              "      <th>32</th>\n",
              "      <td>1946</td>\n",
              "      <td>Malawi</td>\n",
              "      <td>2018</td>\n",
              "      <td>Sub-Saharan Africa</td>\n",
              "      <td>Low income</td>\n",
              "      <td>MWI</td>\n",
              "      <td>4.209</td>\n",
              "      <td>172.0</td>\n",
              "      <td>0.485</td>\n",
              "      <td>NaN</td>\n",
              "      <td>NaN</td>\n",
              "    </tr>\n",
              "    <tr>\n",
              "      <th>33</th>\n",
              "      <td>2005</td>\n",
              "      <td>Mali</td>\n",
              "      <td>2018</td>\n",
              "      <td>Sub-Saharan Africa</td>\n",
              "      <td>Low income</td>\n",
              "      <td>MLI</td>\n",
              "      <td>5.877</td>\n",
              "      <td>184.0</td>\n",
              "      <td>0.427</td>\n",
              "      <td>NaN</td>\n",
              "      <td>NaN</td>\n",
              "    </tr>\n",
              "    <tr>\n",
              "      <th>34</th>\n",
              "      <td>2064</td>\n",
              "      <td>Mauritania</td>\n",
              "      <td>2018</td>\n",
              "      <td>Sub-Saharan Africa</td>\n",
              "      <td>Lower middle income</td>\n",
              "      <td>MRT</td>\n",
              "      <td>4.561</td>\n",
              "      <td>161.0</td>\n",
              "      <td>0.527</td>\n",
              "      <td>NaN</td>\n",
              "      <td>NaN</td>\n",
              "    </tr>\n",
              "    <tr>\n",
              "      <th>35</th>\n",
              "      <td>2123</td>\n",
              "      <td>Mauritius</td>\n",
              "      <td>2018</td>\n",
              "      <td>Sub-Saharan Africa</td>\n",
              "      <td>High income</td>\n",
              "      <td>MUS</td>\n",
              "      <td>1.410</td>\n",
              "      <td>66.0</td>\n",
              "      <td>0.796</td>\n",
              "      <td>NaN</td>\n",
              "      <td>NaN</td>\n",
              "    </tr>\n",
              "    <tr>\n",
              "      <th>36</th>\n",
              "      <td>2182</td>\n",
              "      <td>Mozambique</td>\n",
              "      <td>2018</td>\n",
              "      <td>Sub-Saharan Africa</td>\n",
              "      <td>Low income</td>\n",
              "      <td>MOZ</td>\n",
              "      <td>4.852</td>\n",
              "      <td>180.0</td>\n",
              "      <td>0.446</td>\n",
              "      <td>NaN</td>\n",
              "      <td>NaN</td>\n",
              "    </tr>\n",
              "    <tr>\n",
              "      <th>37</th>\n",
              "      <td>2241</td>\n",
              "      <td>Namibia</td>\n",
              "      <td>2018</td>\n",
              "      <td>Sub-Saharan Africa</td>\n",
              "      <td>Upper middle income</td>\n",
              "      <td>NAM</td>\n",
              "      <td>3.396</td>\n",
              "      <td>130.0</td>\n",
              "      <td>0.645</td>\n",
              "      <td>NaN</td>\n",
              "      <td>NaN</td>\n",
              "    </tr>\n",
              "    <tr>\n",
              "      <th>38</th>\n",
              "      <td>2300</td>\n",
              "      <td>Niger</td>\n",
              "      <td>2018</td>\n",
              "      <td>Sub-Saharan Africa</td>\n",
              "      <td>Low income</td>\n",
              "      <td>NER</td>\n",
              "      <td>6.913</td>\n",
              "      <td>189.0</td>\n",
              "      <td>0.377</td>\n",
              "      <td>NaN</td>\n",
              "      <td>NaN</td>\n",
              "    </tr>\n",
              "    <tr>\n",
              "      <th>39</th>\n",
              "      <td>2359</td>\n",
              "      <td>Nigeria</td>\n",
              "      <td>2018</td>\n",
              "      <td>Sub-Saharan Africa</td>\n",
              "      <td>Lower middle income</td>\n",
              "      <td>NGA</td>\n",
              "      <td>5.387</td>\n",
              "      <td>158.0</td>\n",
              "      <td>0.534</td>\n",
              "      <td>NaN</td>\n",
              "      <td>NaN</td>\n",
              "    </tr>\n",
              "    <tr>\n",
              "      <th>40</th>\n",
              "      <td>2418</td>\n",
              "      <td>Rwanda</td>\n",
              "      <td>2018</td>\n",
              "      <td>Sub-Saharan Africa</td>\n",
              "      <td>Low income</td>\n",
              "      <td>RWA</td>\n",
              "      <td>4.044</td>\n",
              "      <td>157.0</td>\n",
              "      <td>0.536</td>\n",
              "      <td>NaN</td>\n",
              "      <td>NaN</td>\n",
              "    </tr>\n",
              "    <tr>\n",
              "      <th>41</th>\n",
              "      <td>2477</td>\n",
              "      <td>Sao Tome and Principe</td>\n",
              "      <td>2018</td>\n",
              "      <td>Sub-Saharan Africa</td>\n",
              "      <td>Lower middle income</td>\n",
              "      <td>STP</td>\n",
              "      <td>4.321</td>\n",
              "      <td>137.0</td>\n",
              "      <td>0.609</td>\n",
              "      <td>NaN</td>\n",
              "      <td>NaN</td>\n",
              "    </tr>\n",
              "    <tr>\n",
              "      <th>42</th>\n",
              "      <td>2536</td>\n",
              "      <td>Senegal</td>\n",
              "      <td>2018</td>\n",
              "      <td>Sub-Saharan Africa</td>\n",
              "      <td>Lower middle income</td>\n",
              "      <td>SEN</td>\n",
              "      <td>4.625</td>\n",
              "      <td>166.0</td>\n",
              "      <td>0.514</td>\n",
              "      <td>NaN</td>\n",
              "      <td>NaN</td>\n",
              "    </tr>\n",
              "    <tr>\n",
              "      <th>43</th>\n",
              "      <td>2595</td>\n",
              "      <td>Seychelles</td>\n",
              "      <td>2018</td>\n",
              "      <td>Sub-Saharan Africa</td>\n",
              "      <td>High income</td>\n",
              "      <td>SYC</td>\n",
              "      <td>2.410</td>\n",
              "      <td>62.0</td>\n",
              "      <td>0.801</td>\n",
              "      <td>NaN</td>\n",
              "      <td>NaN</td>\n",
              "    </tr>\n",
              "    <tr>\n",
              "      <th>44</th>\n",
              "      <td>2654</td>\n",
              "      <td>Sierra Leone</td>\n",
              "      <td>2018</td>\n",
              "      <td>Sub-Saharan Africa</td>\n",
              "      <td>Low income</td>\n",
              "      <td>SLE</td>\n",
              "      <td>4.263</td>\n",
              "      <td>181.0</td>\n",
              "      <td>0.438</td>\n",
              "      <td>NaN</td>\n",
              "      <td>NaN</td>\n",
              "    </tr>\n",
              "    <tr>\n",
              "      <th>45</th>\n",
              "      <td>2713</td>\n",
              "      <td>Somalia</td>\n",
              "      <td>2018</td>\n",
              "      <td>Sub-Saharan Africa</td>\n",
              "      <td>Low income</td>\n",
              "      <td>SOM</td>\n",
              "      <td>6.072</td>\n",
              "      <td>NaN</td>\n",
              "      <td>NaN</td>\n",
              "      <td>NaN</td>\n",
              "      <td>NaN</td>\n",
              "    </tr>\n",
              "    <tr>\n",
              "      <th>46</th>\n",
              "      <td>2772</td>\n",
              "      <td>South Africa</td>\n",
              "      <td>2018</td>\n",
              "      <td>Sub-Saharan Africa</td>\n",
              "      <td>Upper middle income</td>\n",
              "      <td>ZAF</td>\n",
              "      <td>2.405</td>\n",
              "      <td>113.0</td>\n",
              "      <td>0.705</td>\n",
              "      <td>NaN</td>\n",
              "      <td>NaN</td>\n",
              "    </tr>\n",
              "    <tr>\n",
              "      <th>47</th>\n",
              "      <td>2831</td>\n",
              "      <td>South Sudan</td>\n",
              "      <td>2018</td>\n",
              "      <td>Sub-Saharan Africa</td>\n",
              "      <td>Low income</td>\n",
              "      <td>SSD</td>\n",
              "      <td>4.696</td>\n",
              "      <td>186.0</td>\n",
              "      <td>0.413</td>\n",
              "      <td>NaN</td>\n",
              "      <td>NaN</td>\n",
              "    </tr>\n",
              "    <tr>\n",
              "      <th>48</th>\n",
              "      <td>2890</td>\n",
              "      <td>Sudan</td>\n",
              "      <td>2018</td>\n",
              "      <td>Sub-Saharan Africa</td>\n",
              "      <td>Low income</td>\n",
              "      <td>SDN</td>\n",
              "      <td>4.407</td>\n",
              "      <td>168.0</td>\n",
              "      <td>0.508</td>\n",
              "      <td>NaN</td>\n",
              "      <td>NaN</td>\n",
              "    </tr>\n",
              "    <tr>\n",
              "      <th>49</th>\n",
              "      <td>2949</td>\n",
              "      <td>Tanzania</td>\n",
              "      <td>2018</td>\n",
              "      <td>Sub-Saharan Africa</td>\n",
              "      <td>Lower middle income</td>\n",
              "      <td>TZA</td>\n",
              "      <td>4.892</td>\n",
              "      <td>159.0</td>\n",
              "      <td>0.528</td>\n",
              "      <td>NaN</td>\n",
              "      <td>NaN</td>\n",
              "    </tr>\n",
              "    <tr>\n",
              "      <th>50</th>\n",
              "      <td>3008</td>\n",
              "      <td>Togo</td>\n",
              "      <td>2018</td>\n",
              "      <td>Sub-Saharan Africa</td>\n",
              "      <td>Low income</td>\n",
              "      <td>TGO</td>\n",
              "      <td>4.320</td>\n",
              "      <td>167.0</td>\n",
              "      <td>0.513</td>\n",
              "      <td>NaN</td>\n",
              "      <td>NaN</td>\n",
              "    </tr>\n",
              "    <tr>\n",
              "      <th>51</th>\n",
              "      <td>3067</td>\n",
              "      <td>Uganda</td>\n",
              "      <td>2018</td>\n",
              "      <td>Sub-Saharan Africa</td>\n",
              "      <td>Low income</td>\n",
              "      <td>UGA</td>\n",
              "      <td>4.955</td>\n",
              "      <td>159.0</td>\n",
              "      <td>0.528</td>\n",
              "      <td>NaN</td>\n",
              "      <td>NaN</td>\n",
              "    </tr>\n",
              "    <tr>\n",
              "      <th>52</th>\n",
              "      <td>3126</td>\n",
              "      <td>Zambia</td>\n",
              "      <td>2018</td>\n",
              "      <td>Sub-Saharan Africa</td>\n",
              "      <td>Lower middle income</td>\n",
              "      <td>ZMB</td>\n",
              "      <td>4.633</td>\n",
              "      <td>143.0</td>\n",
              "      <td>0.591</td>\n",
              "      <td>NaN</td>\n",
              "      <td>NaN</td>\n",
              "    </tr>\n",
              "    <tr>\n",
              "      <th>53</th>\n",
              "      <td>3185</td>\n",
              "      <td>Zimbabwe</td>\n",
              "      <td>2018</td>\n",
              "      <td>Sub-Saharan Africa</td>\n",
              "      <td>Lower middle income</td>\n",
              "      <td>ZWE</td>\n",
              "      <td>3.615</td>\n",
              "      <td>150.0</td>\n",
              "      <td>0.563</td>\n",
              "      <td>NaN</td>\n",
              "      <td>NaN</td>\n",
              "    </tr>\n",
              "  </tbody>\n",
              "</table>\n",
              "</div>"
            ],
            "text/plain": [
              "    Unnamed: 0  ... Labor force participation rate, female (% of female population ages 15+) (modeled ILO estimate)\n",
              "0           58  ...                                                NaN                                             \n",
              "1          117  ...                                                NaN                                             \n",
              "2          176  ...                                                NaN                                             \n",
              "3          235  ...                                                NaN                                             \n",
              "4          294  ...                                                NaN                                             \n",
              "5          353  ...                                                NaN                                             \n",
              "6          412  ...                                                NaN                                             \n",
              "7          471  ...                                                NaN                                             \n",
              "8          530  ...                                                NaN                                             \n",
              "9          589  ...                                                NaN                                             \n",
              "10         648  ...                                                NaN                                             \n",
              "11         707  ...                                                NaN                                             \n",
              "12         766  ...                                                NaN                                             \n",
              "13         825  ...                                                NaN                                             \n",
              "14         884  ...                                                NaN                                             \n",
              "15         943  ...                                                NaN                                             \n",
              "16        1002  ...                                                NaN                                             \n",
              "17        1061  ...                                                NaN                                             \n",
              "18        1120  ...                                                NaN                                             \n",
              "19        1179  ...                                                NaN                                             \n",
              "20        1238  ...                                                NaN                                             \n",
              "21        1297  ...                                                NaN                                             \n",
              "22        1356  ...                                                NaN                                             \n",
              "23        1415  ...                                                NaN                                             \n",
              "24        1474  ...                                                NaN                                             \n",
              "25        1533  ...                                                NaN                                             \n",
              "26        1592  ...                                                NaN                                             \n",
              "27        1651  ...                                                NaN                                             \n",
              "28        1710  ...                                                NaN                                             \n",
              "29        1769  ...                                                NaN                                             \n",
              "30        1828  ...                                                NaN                                             \n",
              "31        1887  ...                                                NaN                                             \n",
              "32        1946  ...                                                NaN                                             \n",
              "33        2005  ...                                                NaN                                             \n",
              "34        2064  ...                                                NaN                                             \n",
              "35        2123  ...                                                NaN                                             \n",
              "36        2182  ...                                                NaN                                             \n",
              "37        2241  ...                                                NaN                                             \n",
              "38        2300  ...                                                NaN                                             \n",
              "39        2359  ...                                                NaN                                             \n",
              "40        2418  ...                                                NaN                                             \n",
              "41        2477  ...                                                NaN                                             \n",
              "42        2536  ...                                                NaN                                             \n",
              "43        2595  ...                                                NaN                                             \n",
              "44        2654  ...                                                NaN                                             \n",
              "45        2713  ...                                                NaN                                             \n",
              "46        2772  ...                                                NaN                                             \n",
              "47        2831  ...                                                NaN                                             \n",
              "48        2890  ...                                                NaN                                             \n",
              "49        2949  ...                                                NaN                                             \n",
              "50        3008  ...                                                NaN                                             \n",
              "51        3067  ...                                                NaN                                             \n",
              "52        3126  ...                                                NaN                                             \n",
              "53        3185  ...                                                NaN                                             \n",
              "\n",
              "[54 rows x 11 columns]"
            ]
          },
          "metadata": {
            "tags": []
          },
          "execution_count": 6
        }
      ]
    },
    {
      "cell_type": "code",
      "metadata": {
        "colab": {
          "base_uri": "https://localhost:8080/"
        },
        "id": "wo9uBDt_YwBe",
        "outputId": "5218d065-9673-4ff3-e8ea-ec1eb8e4d5b0"
      },
      "source": [
        "africa_string = africa_2018['HDI'].astype(float)\r\n",
        "africa_string.nlargest(3)"
      ],
      "execution_count": 7,
      "outputs": [
        {
          "output_type": "execute_result",
          "data": {
            "text/plain": [
              "43    0.801\n",
              "35    0.796\n",
              "3     0.759\n",
              "Name: HDI, dtype: float64"
            ]
          },
          "metadata": {
            "tags": []
          },
          "execution_count": 7
        }
      ]
    },
    {
      "cell_type": "code",
      "metadata": {
        "id": "uQPB3sdkZBGv"
      },
      "source": [
        "# corresponding countries to index numbers 43, 35, and 3 are:\r\n",
        "# 43  Seychelles 0.801\r\n",
        "# 35  Mauritius  0.796\r\n",
        "# 3   Algeria    0.759"
      ],
      "execution_count": 8,
      "outputs": []
    },
    {
      "cell_type": "code",
      "metadata": {
        "colab": {
          "base_uri": "https://localhost:8080/"
        },
        "id": "AlPSObwAZYmu",
        "outputId": "b49ed7ac-8bff-4c11-e919-6b6dcd68bee8"
      },
      "source": [
        "africa_string.nsmallest(3)"
      ],
      "execution_count": 9,
      "outputs": [
        {
          "output_type": "execute_result",
          "data": {
            "text/plain": [
              "38    0.377\n",
              "13    0.381\n",
              "14    0.401\n",
              "Name: HDI, dtype: float64"
            ]
          },
          "metadata": {
            "tags": []
          },
          "execution_count": 9
        }
      ]
    },
    {
      "cell_type": "code",
      "metadata": {
        "id": "Hjc3nbGTZdRu"
      },
      "source": [
        "# corresponding countries to index numbers 38, 13, and 14 are:\r\n",
        "# 38  Niger                     0.377\r\n",
        "# 13  Central African Republic  0.381\r\n",
        "# 14  Chad                      0.401"
      ],
      "execution_count": 10,
      "outputs": []
    },
    {
      "cell_type": "markdown",
      "metadata": {
        "id": "Zobk-OsQaPpl"
      },
      "source": [
        "**Segregating Dataframe**"
      ]
    },
    {
      "cell_type": "code",
      "metadata": {
        "id": "7O_OnoAnaUGm"
      },
      "source": [
        "africa_seychelles = africa[africa['Country'] == 'Seychelles']\r\n",
        "africa_mauritius = africa[africa['Country'] == 'Mauritius']\r\n",
        "africa_algeria = africa[africa['Country'] == 'Algeria']\r\n",
        "africa_niger = africa[africa['Country'] == 'Niger']\r\n",
        "africa_CAR = africa[africa['Country'] == 'Central African Republic']\r\n",
        "africa_chad = africa[africa['Country'] == 'Chad']"
      ],
      "execution_count": 11,
      "outputs": []
    },
    {
      "cell_type": "code",
      "metadata": {
        "colab": {
          "base_uri": "https://localhost:8080/",
          "height": 586
        },
        "id": "Pr0QT4lLeU5x",
        "outputId": "7bf0e709-cfef-4622-d0cc-d7748e421f39"
      },
      "source": [
        "frames = [africa_seychelles, africa_mauritius, africa_algeria]\r\n",
        "africa_high = pd.concat(frames)\r\n",
        "africa_high.reset_index(drop=True)"
      ],
      "execution_count": 12,
      "outputs": [
        {
          "output_type": "execute_result",
          "data": {
            "text/html": [
              "<div>\n",
              "<style scoped>\n",
              "    .dataframe tbody tr th:only-of-type {\n",
              "        vertical-align: middle;\n",
              "    }\n",
              "\n",
              "    .dataframe tbody tr th {\n",
              "        vertical-align: top;\n",
              "    }\n",
              "\n",
              "    .dataframe thead th {\n",
              "        text-align: right;\n",
              "    }\n",
              "</style>\n",
              "<table border=\"1\" class=\"dataframe\">\n",
              "  <thead>\n",
              "    <tr style=\"text-align: right;\">\n",
              "      <th></th>\n",
              "      <th>Unnamed: 0</th>\n",
              "      <th>Country</th>\n",
              "      <th>Year</th>\n",
              "      <th>Region</th>\n",
              "      <th>IncomeGroup</th>\n",
              "      <th>Country Code</th>\n",
              "      <th>TFR</th>\n",
              "      <th>HDI Rank (2018)</th>\n",
              "      <th>HDI</th>\n",
              "      <th>Females in secondary education (%)</th>\n",
              "      <th>Labor force participation rate, female (% of female population ages 15+) (modeled ILO estimate)</th>\n",
              "    </tr>\n",
              "  </thead>\n",
              "  <tbody>\n",
              "    <tr>\n",
              "      <th>0</th>\n",
              "      <td>2537</td>\n",
              "      <td>Seychelles</td>\n",
              "      <td>1960</td>\n",
              "      <td>Sub-Saharan Africa</td>\n",
              "      <td>High income</td>\n",
              "      <td>SYC</td>\n",
              "      <td>NaN</td>\n",
              "      <td>NaN</td>\n",
              "      <td>NaN</td>\n",
              "      <td>NaN</td>\n",
              "      <td>NaN</td>\n",
              "    </tr>\n",
              "    <tr>\n",
              "      <th>1</th>\n",
              "      <td>2538</td>\n",
              "      <td>Seychelles</td>\n",
              "      <td>1961</td>\n",
              "      <td>Sub-Saharan Africa</td>\n",
              "      <td>High income</td>\n",
              "      <td>SYC</td>\n",
              "      <td>NaN</td>\n",
              "      <td>NaN</td>\n",
              "      <td>NaN</td>\n",
              "      <td>NaN</td>\n",
              "      <td>NaN</td>\n",
              "    </tr>\n",
              "    <tr>\n",
              "      <th>2</th>\n",
              "      <td>2539</td>\n",
              "      <td>Seychelles</td>\n",
              "      <td>1962</td>\n",
              "      <td>Sub-Saharan Africa</td>\n",
              "      <td>High income</td>\n",
              "      <td>SYC</td>\n",
              "      <td>NaN</td>\n",
              "      <td>NaN</td>\n",
              "      <td>NaN</td>\n",
              "      <td>NaN</td>\n",
              "      <td>NaN</td>\n",
              "    </tr>\n",
              "    <tr>\n",
              "      <th>3</th>\n",
              "      <td>2540</td>\n",
              "      <td>Seychelles</td>\n",
              "      <td>1963</td>\n",
              "      <td>Sub-Saharan Africa</td>\n",
              "      <td>High income</td>\n",
              "      <td>SYC</td>\n",
              "      <td>NaN</td>\n",
              "      <td>NaN</td>\n",
              "      <td>NaN</td>\n",
              "      <td>NaN</td>\n",
              "      <td>NaN</td>\n",
              "    </tr>\n",
              "    <tr>\n",
              "      <th>4</th>\n",
              "      <td>2541</td>\n",
              "      <td>Seychelles</td>\n",
              "      <td>1964</td>\n",
              "      <td>Sub-Saharan Africa</td>\n",
              "      <td>High income</td>\n",
              "      <td>SYC</td>\n",
              "      <td>NaN</td>\n",
              "      <td>NaN</td>\n",
              "      <td>NaN</td>\n",
              "      <td>NaN</td>\n",
              "      <td>NaN</td>\n",
              "    </tr>\n",
              "    <tr>\n",
              "      <th>...</th>\n",
              "      <td>...</td>\n",
              "      <td>...</td>\n",
              "      <td>...</td>\n",
              "      <td>...</td>\n",
              "      <td>...</td>\n",
              "      <td>...</td>\n",
              "      <td>...</td>\n",
              "      <td>...</td>\n",
              "      <td>...</td>\n",
              "      <td>...</td>\n",
              "      <td>...</td>\n",
              "    </tr>\n",
              "    <tr>\n",
              "      <th>172</th>\n",
              "      <td>231</td>\n",
              "      <td>Algeria</td>\n",
              "      <td>2014</td>\n",
              "      <td>Middle East &amp; North Africa</td>\n",
              "      <td>Lower middle income</td>\n",
              "      <td>DZA</td>\n",
              "      <td>3.022</td>\n",
              "      <td>82.0</td>\n",
              "      <td>0.749</td>\n",
              "      <td>NaN</td>\n",
              "      <td>15.340</td>\n",
              "    </tr>\n",
              "    <tr>\n",
              "      <th>173</th>\n",
              "      <td>232</td>\n",
              "      <td>Algeria</td>\n",
              "      <td>2015</td>\n",
              "      <td>Middle East &amp; North Africa</td>\n",
              "      <td>Lower middle income</td>\n",
              "      <td>DZA</td>\n",
              "      <td>3.043</td>\n",
              "      <td>82.0</td>\n",
              "      <td>0.751</td>\n",
              "      <td>NaN</td>\n",
              "      <td>15.237</td>\n",
              "    </tr>\n",
              "    <tr>\n",
              "      <th>174</th>\n",
              "      <td>233</td>\n",
              "      <td>Algeria</td>\n",
              "      <td>2016</td>\n",
              "      <td>Middle East &amp; North Africa</td>\n",
              "      <td>Lower middle income</td>\n",
              "      <td>DZA</td>\n",
              "      <td>3.052</td>\n",
              "      <td>82.0</td>\n",
              "      <td>0.755</td>\n",
              "      <td>NaN</td>\n",
              "      <td>15.125</td>\n",
              "    </tr>\n",
              "    <tr>\n",
              "      <th>175</th>\n",
              "      <td>234</td>\n",
              "      <td>Algeria</td>\n",
              "      <td>2017</td>\n",
              "      <td>Middle East &amp; North Africa</td>\n",
              "      <td>Lower middle income</td>\n",
              "      <td>DZA</td>\n",
              "      <td>3.045</td>\n",
              "      <td>82.0</td>\n",
              "      <td>0.758</td>\n",
              "      <td>NaN</td>\n",
              "      <td>15.232</td>\n",
              "    </tr>\n",
              "    <tr>\n",
              "      <th>176</th>\n",
              "      <td>235</td>\n",
              "      <td>Algeria</td>\n",
              "      <td>2018</td>\n",
              "      <td>Middle East &amp; North Africa</td>\n",
              "      <td>Lower middle income</td>\n",
              "      <td>DZA</td>\n",
              "      <td>3.023</td>\n",
              "      <td>82.0</td>\n",
              "      <td>0.759</td>\n",
              "      <td>NaN</td>\n",
              "      <td>NaN</td>\n",
              "    </tr>\n",
              "  </tbody>\n",
              "</table>\n",
              "<p>177 rows × 11 columns</p>\n",
              "</div>"
            ],
            "text/plain": [
              "     Unnamed: 0  ... Labor force participation rate, female (% of female population ages 15+) (modeled ILO estimate)\n",
              "0          2537  ...                                                NaN                                             \n",
              "1          2538  ...                                                NaN                                             \n",
              "2          2539  ...                                                NaN                                             \n",
              "3          2540  ...                                                NaN                                             \n",
              "4          2541  ...                                                NaN                                             \n",
              "..          ...  ...                                                ...                                             \n",
              "172         231  ...                                             15.340                                             \n",
              "173         232  ...                                             15.237                                             \n",
              "174         233  ...                                             15.125                                             \n",
              "175         234  ...                                             15.232                                             \n",
              "176         235  ...                                                NaN                                             \n",
              "\n",
              "[177 rows x 11 columns]"
            ]
          },
          "metadata": {
            "tags": []
          },
          "execution_count": 12
        }
      ]
    },
    {
      "cell_type": "code",
      "metadata": {
        "colab": {
          "base_uri": "https://localhost:8080/",
          "height": 586
        },
        "id": "tFCfqu3Te50I",
        "outputId": "42365311-8afe-4cb5-d65a-2fb094525389"
      },
      "source": [
        "frames_2 = [africa_niger, africa_CAR, africa_chad]\r\n",
        "africa_low = pd.concat(frames_2)\r\n",
        "africa_low.reset_index(drop=True)"
      ],
      "execution_count": 13,
      "outputs": [
        {
          "output_type": "execute_result",
          "data": {
            "text/html": [
              "<div>\n",
              "<style scoped>\n",
              "    .dataframe tbody tr th:only-of-type {\n",
              "        vertical-align: middle;\n",
              "    }\n",
              "\n",
              "    .dataframe tbody tr th {\n",
              "        vertical-align: top;\n",
              "    }\n",
              "\n",
              "    .dataframe thead th {\n",
              "        text-align: right;\n",
              "    }\n",
              "</style>\n",
              "<table border=\"1\" class=\"dataframe\">\n",
              "  <thead>\n",
              "    <tr style=\"text-align: right;\">\n",
              "      <th></th>\n",
              "      <th>Unnamed: 0</th>\n",
              "      <th>Country</th>\n",
              "      <th>Year</th>\n",
              "      <th>Region</th>\n",
              "      <th>IncomeGroup</th>\n",
              "      <th>Country Code</th>\n",
              "      <th>TFR</th>\n",
              "      <th>HDI Rank (2018)</th>\n",
              "      <th>HDI</th>\n",
              "      <th>Females in secondary education (%)</th>\n",
              "      <th>Labor force participation rate, female (% of female population ages 15+) (modeled ILO estimate)</th>\n",
              "    </tr>\n",
              "  </thead>\n",
              "  <tbody>\n",
              "    <tr>\n",
              "      <th>0</th>\n",
              "      <td>2242</td>\n",
              "      <td>Niger</td>\n",
              "      <td>1960</td>\n",
              "      <td>Sub-Saharan Africa</td>\n",
              "      <td>Low income</td>\n",
              "      <td>NER</td>\n",
              "      <td>7.454</td>\n",
              "      <td>NaN</td>\n",
              "      <td>NaN</td>\n",
              "      <td>NaN</td>\n",
              "      <td>NaN</td>\n",
              "    </tr>\n",
              "    <tr>\n",
              "      <th>1</th>\n",
              "      <td>2243</td>\n",
              "      <td>Niger</td>\n",
              "      <td>1961</td>\n",
              "      <td>Sub-Saharan Africa</td>\n",
              "      <td>Low income</td>\n",
              "      <td>NER</td>\n",
              "      <td>7.473</td>\n",
              "      <td>NaN</td>\n",
              "      <td>NaN</td>\n",
              "      <td>NaN</td>\n",
              "      <td>NaN</td>\n",
              "    </tr>\n",
              "    <tr>\n",
              "      <th>2</th>\n",
              "      <td>2244</td>\n",
              "      <td>Niger</td>\n",
              "      <td>1962</td>\n",
              "      <td>Sub-Saharan Africa</td>\n",
              "      <td>Low income</td>\n",
              "      <td>NER</td>\n",
              "      <td>7.490</td>\n",
              "      <td>NaN</td>\n",
              "      <td>NaN</td>\n",
              "      <td>NaN</td>\n",
              "      <td>NaN</td>\n",
              "    </tr>\n",
              "    <tr>\n",
              "      <th>3</th>\n",
              "      <td>2245</td>\n",
              "      <td>Niger</td>\n",
              "      <td>1963</td>\n",
              "      <td>Sub-Saharan Africa</td>\n",
              "      <td>Low income</td>\n",
              "      <td>NER</td>\n",
              "      <td>7.505</td>\n",
              "      <td>NaN</td>\n",
              "      <td>NaN</td>\n",
              "      <td>NaN</td>\n",
              "      <td>NaN</td>\n",
              "    </tr>\n",
              "    <tr>\n",
              "      <th>4</th>\n",
              "      <td>2246</td>\n",
              "      <td>Niger</td>\n",
              "      <td>1964</td>\n",
              "      <td>Sub-Saharan Africa</td>\n",
              "      <td>Low income</td>\n",
              "      <td>NER</td>\n",
              "      <td>7.518</td>\n",
              "      <td>NaN</td>\n",
              "      <td>NaN</td>\n",
              "      <td>NaN</td>\n",
              "      <td>NaN</td>\n",
              "    </tr>\n",
              "    <tr>\n",
              "      <th>...</th>\n",
              "      <td>...</td>\n",
              "      <td>...</td>\n",
              "      <td>...</td>\n",
              "      <td>...</td>\n",
              "      <td>...</td>\n",
              "      <td>...</td>\n",
              "      <td>...</td>\n",
              "      <td>...</td>\n",
              "      <td>...</td>\n",
              "      <td>...</td>\n",
              "      <td>...</td>\n",
              "    </tr>\n",
              "    <tr>\n",
              "      <th>172</th>\n",
              "      <td>880</td>\n",
              "      <td>Chad</td>\n",
              "      <td>2014</td>\n",
              "      <td>Sub-Saharan Africa</td>\n",
              "      <td>Low income</td>\n",
              "      <td>TCD</td>\n",
              "      <td>6.154</td>\n",
              "      <td>187.0</td>\n",
              "      <td>0.406</td>\n",
              "      <td>NaN</td>\n",
              "      <td>64.851997</td>\n",
              "    </tr>\n",
              "    <tr>\n",
              "      <th>173</th>\n",
              "      <td>881</td>\n",
              "      <td>Chad</td>\n",
              "      <td>2015</td>\n",
              "      <td>Sub-Saharan Africa</td>\n",
              "      <td>Low income</td>\n",
              "      <td>TCD</td>\n",
              "      <td>6.049</td>\n",
              "      <td>187.0</td>\n",
              "      <td>0.403</td>\n",
              "      <td>NaN</td>\n",
              "      <td>64.828003</td>\n",
              "    </tr>\n",
              "    <tr>\n",
              "      <th>174</th>\n",
              "      <td>882</td>\n",
              "      <td>Chad</td>\n",
              "      <td>2016</td>\n",
              "      <td>Sub-Saharan Africa</td>\n",
              "      <td>Low income</td>\n",
              "      <td>TCD</td>\n",
              "      <td>5.947</td>\n",
              "      <td>187.0</td>\n",
              "      <td>0.398</td>\n",
              "      <td>NaN</td>\n",
              "      <td>64.737000</td>\n",
              "    </tr>\n",
              "    <tr>\n",
              "      <th>175</th>\n",
              "      <td>883</td>\n",
              "      <td>Chad</td>\n",
              "      <td>2017</td>\n",
              "      <td>Sub-Saharan Africa</td>\n",
              "      <td>Low income</td>\n",
              "      <td>TCD</td>\n",
              "      <td>5.846</td>\n",
              "      <td>187.0</td>\n",
              "      <td>0.401</td>\n",
              "      <td>NaN</td>\n",
              "      <td>64.773003</td>\n",
              "    </tr>\n",
              "    <tr>\n",
              "      <th>176</th>\n",
              "      <td>884</td>\n",
              "      <td>Chad</td>\n",
              "      <td>2018</td>\n",
              "      <td>Sub-Saharan Africa</td>\n",
              "      <td>Low income</td>\n",
              "      <td>TCD</td>\n",
              "      <td>5.747</td>\n",
              "      <td>187.0</td>\n",
              "      <td>0.401</td>\n",
              "      <td>NaN</td>\n",
              "      <td>NaN</td>\n",
              "    </tr>\n",
              "  </tbody>\n",
              "</table>\n",
              "<p>177 rows × 11 columns</p>\n",
              "</div>"
            ],
            "text/plain": [
              "     Unnamed: 0  ... Labor force participation rate, female (% of female population ages 15+) (modeled ILO estimate)\n",
              "0          2242  ...                                                NaN                                             \n",
              "1          2243  ...                                                NaN                                             \n",
              "2          2244  ...                                                NaN                                             \n",
              "3          2245  ...                                                NaN                                             \n",
              "4          2246  ...                                                NaN                                             \n",
              "..          ...  ...                                                ...                                             \n",
              "172         880  ...                                          64.851997                                             \n",
              "173         881  ...                                          64.828003                                             \n",
              "174         882  ...                                          64.737000                                             \n",
              "175         883  ...                                          64.773003                                             \n",
              "176         884  ...                                                NaN                                             \n",
              "\n",
              "[177 rows x 11 columns]"
            ]
          },
          "metadata": {
            "tags": []
          },
          "execution_count": 13
        }
      ]
    },
    {
      "cell_type": "markdown",
      "metadata": {
        "id": "APimBnMn2dOx"
      },
      "source": [
        "**Getting Values for Analysis**"
      ]
    },
    {
      "cell_type": "code",
      "metadata": {
        "colab": {
          "base_uri": "https://localhost:8080/",
          "height": 110
        },
        "id": "d6w1sCvo0EC_",
        "outputId": "5ed46619-c83f-4896-80df-8a19ea943e75"
      },
      "source": [
        "africa_algeria[africa_algeria['Year']==1960]"
      ],
      "execution_count": 14,
      "outputs": [
        {
          "output_type": "execute_result",
          "data": {
            "text/html": [
              "<div>\n",
              "<style scoped>\n",
              "    .dataframe tbody tr th:only-of-type {\n",
              "        vertical-align: middle;\n",
              "    }\n",
              "\n",
              "    .dataframe tbody tr th {\n",
              "        vertical-align: top;\n",
              "    }\n",
              "\n",
              "    .dataframe thead th {\n",
              "        text-align: right;\n",
              "    }\n",
              "</style>\n",
              "<table border=\"1\" class=\"dataframe\">\n",
              "  <thead>\n",
              "    <tr style=\"text-align: right;\">\n",
              "      <th></th>\n",
              "      <th>Unnamed: 0</th>\n",
              "      <th>Country</th>\n",
              "      <th>Year</th>\n",
              "      <th>Region</th>\n",
              "      <th>IncomeGroup</th>\n",
              "      <th>Country Code</th>\n",
              "      <th>TFR</th>\n",
              "      <th>HDI Rank (2018)</th>\n",
              "      <th>HDI</th>\n",
              "      <th>Females in secondary education (%)</th>\n",
              "      <th>Labor force participation rate, female (% of female population ages 15+) (modeled ILO estimate)</th>\n",
              "    </tr>\n",
              "  </thead>\n",
              "  <tbody>\n",
              "    <tr>\n",
              "      <th>177</th>\n",
              "      <td>177</td>\n",
              "      <td>Algeria</td>\n",
              "      <td>1960</td>\n",
              "      <td>Middle East &amp; North Africa</td>\n",
              "      <td>Lower middle income</td>\n",
              "      <td>DZA</td>\n",
              "      <td>7.524</td>\n",
              "      <td>NaN</td>\n",
              "      <td>NaN</td>\n",
              "      <td>NaN</td>\n",
              "      <td>NaN</td>\n",
              "    </tr>\n",
              "  </tbody>\n",
              "</table>\n",
              "</div>"
            ],
            "text/plain": [
              "     Unnamed: 0  ... Labor force participation rate, female (% of female population ages 15+) (modeled ILO estimate)\n",
              "177         177  ...                                                NaN                                             \n",
              "\n",
              "[1 rows x 11 columns]"
            ]
          },
          "metadata": {
            "tags": []
          },
          "execution_count": 14
        }
      ]
    },
    {
      "cell_type": "code",
      "metadata": {
        "colab": {
          "base_uri": "https://localhost:8080/",
          "height": 110
        },
        "id": "DputRiYCx25x",
        "outputId": "b9a0d34a-e1c9-471d-c688-ac5c09897d21"
      },
      "source": [
        "africa_algeria[africa_algeria['Year']==1990]"
      ],
      "execution_count": 15,
      "outputs": [
        {
          "output_type": "execute_result",
          "data": {
            "text/html": [
              "<div>\n",
              "<style scoped>\n",
              "    .dataframe tbody tr th:only-of-type {\n",
              "        vertical-align: middle;\n",
              "    }\n",
              "\n",
              "    .dataframe tbody tr th {\n",
              "        vertical-align: top;\n",
              "    }\n",
              "\n",
              "    .dataframe thead th {\n",
              "        text-align: right;\n",
              "    }\n",
              "</style>\n",
              "<table border=\"1\" class=\"dataframe\">\n",
              "  <thead>\n",
              "    <tr style=\"text-align: right;\">\n",
              "      <th></th>\n",
              "      <th>Unnamed: 0</th>\n",
              "      <th>Country</th>\n",
              "      <th>Year</th>\n",
              "      <th>Region</th>\n",
              "      <th>IncomeGroup</th>\n",
              "      <th>Country Code</th>\n",
              "      <th>TFR</th>\n",
              "      <th>HDI Rank (2018)</th>\n",
              "      <th>HDI</th>\n",
              "      <th>Females in secondary education (%)</th>\n",
              "      <th>Labor force participation rate, female (% of female population ages 15+) (modeled ILO estimate)</th>\n",
              "    </tr>\n",
              "  </thead>\n",
              "  <tbody>\n",
              "    <tr>\n",
              "      <th>207</th>\n",
              "      <td>207</td>\n",
              "      <td>Algeria</td>\n",
              "      <td>1990</td>\n",
              "      <td>Middle East &amp; North Africa</td>\n",
              "      <td>Lower middle income</td>\n",
              "      <td>DZA</td>\n",
              "      <td>4.726</td>\n",
              "      <td>82.0</td>\n",
              "      <td>0.578</td>\n",
              "      <td>42.61915</td>\n",
              "      <td>11.496</td>\n",
              "    </tr>\n",
              "  </tbody>\n",
              "</table>\n",
              "</div>"
            ],
            "text/plain": [
              "     Unnamed: 0  ... Labor force participation rate, female (% of female population ages 15+) (modeled ILO estimate)\n",
              "207         207  ...                                             11.496                                             \n",
              "\n",
              "[1 rows x 11 columns]"
            ]
          },
          "metadata": {
            "tags": []
          },
          "execution_count": 15
        }
      ]
    },
    {
      "cell_type": "code",
      "metadata": {
        "colab": {
          "base_uri": "https://localhost:8080/",
          "height": 110
        },
        "id": "TlcbJgyc0TNz",
        "outputId": "0fcf5903-3bc8-4853-b9d8-e8a80515d691"
      },
      "source": [
        "africa_algeria[africa_algeria['Year']==2001]"
      ],
      "execution_count": 16,
      "outputs": [
        {
          "output_type": "execute_result",
          "data": {
            "text/html": [
              "<div>\n",
              "<style scoped>\n",
              "    .dataframe tbody tr th:only-of-type {\n",
              "        vertical-align: middle;\n",
              "    }\n",
              "\n",
              "    .dataframe tbody tr th {\n",
              "        vertical-align: top;\n",
              "    }\n",
              "\n",
              "    .dataframe thead th {\n",
              "        text-align: right;\n",
              "    }\n",
              "</style>\n",
              "<table border=\"1\" class=\"dataframe\">\n",
              "  <thead>\n",
              "    <tr style=\"text-align: right;\">\n",
              "      <th></th>\n",
              "      <th>Unnamed: 0</th>\n",
              "      <th>Country</th>\n",
              "      <th>Year</th>\n",
              "      <th>Region</th>\n",
              "      <th>IncomeGroup</th>\n",
              "      <th>Country Code</th>\n",
              "      <th>TFR</th>\n",
              "      <th>HDI Rank (2018)</th>\n",
              "      <th>HDI</th>\n",
              "      <th>Females in secondary education (%)</th>\n",
              "      <th>Labor force participation rate, female (% of female population ages 15+) (modeled ILO estimate)</th>\n",
              "    </tr>\n",
              "  </thead>\n",
              "  <tbody>\n",
              "    <tr>\n",
              "      <th>218</th>\n",
              "      <td>218</td>\n",
              "      <td>Algeria</td>\n",
              "      <td>2001</td>\n",
              "      <td>Middle East &amp; North Africa</td>\n",
              "      <td>Lower middle income</td>\n",
              "      <td>DZA</td>\n",
              "      <td>2.438</td>\n",
              "      <td>82.0</td>\n",
              "      <td>0.655</td>\n",
              "      <td>50.5497</td>\n",
              "      <td>12.007</td>\n",
              "    </tr>\n",
              "  </tbody>\n",
              "</table>\n",
              "</div>"
            ],
            "text/plain": [
              "     Unnamed: 0  ... Labor force participation rate, female (% of female population ages 15+) (modeled ILO estimate)\n",
              "218         218  ...                                             12.007                                             \n",
              "\n",
              "[1 rows x 11 columns]"
            ]
          },
          "metadata": {
            "tags": []
          },
          "execution_count": 16
        }
      ]
    },
    {
      "cell_type": "code",
      "metadata": {
        "colab": {
          "base_uri": "https://localhost:8080/",
          "height": 110
        },
        "id": "k_XQ6jfc0U5S",
        "outputId": "d92bacb3-7a8e-4db6-e52d-d453a171a138"
      },
      "source": [
        "africa_algeria[africa_algeria['Year']==2002]"
      ],
      "execution_count": 17,
      "outputs": [
        {
          "output_type": "execute_result",
          "data": {
            "text/html": [
              "<div>\n",
              "<style scoped>\n",
              "    .dataframe tbody tr th:only-of-type {\n",
              "        vertical-align: middle;\n",
              "    }\n",
              "\n",
              "    .dataframe tbody tr th {\n",
              "        vertical-align: top;\n",
              "    }\n",
              "\n",
              "    .dataframe thead th {\n",
              "        text-align: right;\n",
              "    }\n",
              "</style>\n",
              "<table border=\"1\" class=\"dataframe\">\n",
              "  <thead>\n",
              "    <tr style=\"text-align: right;\">\n",
              "      <th></th>\n",
              "      <th>Unnamed: 0</th>\n",
              "      <th>Country</th>\n",
              "      <th>Year</th>\n",
              "      <th>Region</th>\n",
              "      <th>IncomeGroup</th>\n",
              "      <th>Country Code</th>\n",
              "      <th>TFR</th>\n",
              "      <th>HDI Rank (2018)</th>\n",
              "      <th>HDI</th>\n",
              "      <th>Females in secondary education (%)</th>\n",
              "      <th>Labor force participation rate, female (% of female population ages 15+) (modeled ILO estimate)</th>\n",
              "    </tr>\n",
              "  </thead>\n",
              "  <tbody>\n",
              "    <tr>\n",
              "      <th>219</th>\n",
              "      <td>219</td>\n",
              "      <td>Algeria</td>\n",
              "      <td>2002</td>\n",
              "      <td>Middle East &amp; North Africa</td>\n",
              "      <td>Lower middle income</td>\n",
              "      <td>DZA</td>\n",
              "      <td>2.403</td>\n",
              "      <td>82.0</td>\n",
              "      <td>0.666</td>\n",
              "      <td>50.52748</td>\n",
              "      <td>12.162</td>\n",
              "    </tr>\n",
              "  </tbody>\n",
              "</table>\n",
              "</div>"
            ],
            "text/plain": [
              "     Unnamed: 0  ... Labor force participation rate, female (% of female population ages 15+) (modeled ILO estimate)\n",
              "219         219  ...                                             12.162                                             \n",
              "\n",
              "[1 rows x 11 columns]"
            ]
          },
          "metadata": {
            "tags": []
          },
          "execution_count": 17
        }
      ]
    },
    {
      "cell_type": "code",
      "metadata": {
        "colab": {
          "base_uri": "https://localhost:8080/",
          "height": 110
        },
        "id": "PWsP0chM0YMk",
        "outputId": "4723aeb8-c543-44ad-aeb4-61f9b2434ac5"
      },
      "source": [
        "africa_algeria[africa_algeria['Year']==2003]"
      ],
      "execution_count": 18,
      "outputs": [
        {
          "output_type": "execute_result",
          "data": {
            "text/html": [
              "<div>\n",
              "<style scoped>\n",
              "    .dataframe tbody tr th:only-of-type {\n",
              "        vertical-align: middle;\n",
              "    }\n",
              "\n",
              "    .dataframe tbody tr th {\n",
              "        vertical-align: top;\n",
              "    }\n",
              "\n",
              "    .dataframe thead th {\n",
              "        text-align: right;\n",
              "    }\n",
              "</style>\n",
              "<table border=\"1\" class=\"dataframe\">\n",
              "  <thead>\n",
              "    <tr style=\"text-align: right;\">\n",
              "      <th></th>\n",
              "      <th>Unnamed: 0</th>\n",
              "      <th>Country</th>\n",
              "      <th>Year</th>\n",
              "      <th>Region</th>\n",
              "      <th>IncomeGroup</th>\n",
              "      <th>Country Code</th>\n",
              "      <th>TFR</th>\n",
              "      <th>HDI Rank (2018)</th>\n",
              "      <th>HDI</th>\n",
              "      <th>Females in secondary education (%)</th>\n",
              "      <th>Labor force participation rate, female (% of female population ages 15+) (modeled ILO estimate)</th>\n",
              "    </tr>\n",
              "  </thead>\n",
              "  <tbody>\n",
              "    <tr>\n",
              "      <th>220</th>\n",
              "      <td>220</td>\n",
              "      <td>Algeria</td>\n",
              "      <td>2003</td>\n",
              "      <td>Middle East &amp; North Africa</td>\n",
              "      <td>Lower middle income</td>\n",
              "      <td>DZA</td>\n",
              "      <td>2.405</td>\n",
              "      <td>82.0</td>\n",
              "      <td>0.676</td>\n",
              "      <td>51.05841</td>\n",
              "      <td>12.355</td>\n",
              "    </tr>\n",
              "  </tbody>\n",
              "</table>\n",
              "</div>"
            ],
            "text/plain": [
              "     Unnamed: 0  ... Labor force participation rate, female (% of female population ages 15+) (modeled ILO estimate)\n",
              "220         220  ...                                             12.355                                             \n",
              "\n",
              "[1 rows x 11 columns]"
            ]
          },
          "metadata": {
            "tags": []
          },
          "execution_count": 18
        }
      ]
    },
    {
      "cell_type": "code",
      "metadata": {
        "id": "I5v242Xf6Psr",
        "colab": {
          "base_uri": "https://localhost:8080/",
          "height": 110
        },
        "outputId": "747c2d31-72eb-48e2-9644-4fee573729c7"
      },
      "source": [
        "africa_algeria[africa_algeria['Year']==2017]"
      ],
      "execution_count": 19,
      "outputs": [
        {
          "output_type": "execute_result",
          "data": {
            "text/html": [
              "<div>\n",
              "<style scoped>\n",
              "    .dataframe tbody tr th:only-of-type {\n",
              "        vertical-align: middle;\n",
              "    }\n",
              "\n",
              "    .dataframe tbody tr th {\n",
              "        vertical-align: top;\n",
              "    }\n",
              "\n",
              "    .dataframe thead th {\n",
              "        text-align: right;\n",
              "    }\n",
              "</style>\n",
              "<table border=\"1\" class=\"dataframe\">\n",
              "  <thead>\n",
              "    <tr style=\"text-align: right;\">\n",
              "      <th></th>\n",
              "      <th>Unnamed: 0</th>\n",
              "      <th>Country</th>\n",
              "      <th>Year</th>\n",
              "      <th>Region</th>\n",
              "      <th>IncomeGroup</th>\n",
              "      <th>Country Code</th>\n",
              "      <th>TFR</th>\n",
              "      <th>HDI Rank (2018)</th>\n",
              "      <th>HDI</th>\n",
              "      <th>Females in secondary education (%)</th>\n",
              "      <th>Labor force participation rate, female (% of female population ages 15+) (modeled ILO estimate)</th>\n",
              "    </tr>\n",
              "  </thead>\n",
              "  <tbody>\n",
              "    <tr>\n",
              "      <th>234</th>\n",
              "      <td>234</td>\n",
              "      <td>Algeria</td>\n",
              "      <td>2017</td>\n",
              "      <td>Middle East &amp; North Africa</td>\n",
              "      <td>Lower middle income</td>\n",
              "      <td>DZA</td>\n",
              "      <td>3.045</td>\n",
              "      <td>82.0</td>\n",
              "      <td>0.758</td>\n",
              "      <td>NaN</td>\n",
              "      <td>15.232</td>\n",
              "    </tr>\n",
              "  </tbody>\n",
              "</table>\n",
              "</div>"
            ],
            "text/plain": [
              "     Unnamed: 0  ... Labor force participation rate, female (% of female population ages 15+) (modeled ILO estimate)\n",
              "234         234  ...                                             15.232                                             \n",
              "\n",
              "[1 rows x 11 columns]"
            ]
          },
          "metadata": {
            "tags": []
          },
          "execution_count": 19
        }
      ]
    },
    {
      "cell_type": "code",
      "metadata": {
        "colab": {
          "base_uri": "https://localhost:8080/",
          "height": 110
        },
        "id": "io-DqgrRx_oh",
        "outputId": "05aba1a1-008b-49f9-ddf5-ccaf5bcf0974"
      },
      "source": [
        "africa_algeria[africa_algeria['Year']==2018]"
      ],
      "execution_count": 20,
      "outputs": [
        {
          "output_type": "execute_result",
          "data": {
            "text/html": [
              "<div>\n",
              "<style scoped>\n",
              "    .dataframe tbody tr th:only-of-type {\n",
              "        vertical-align: middle;\n",
              "    }\n",
              "\n",
              "    .dataframe tbody tr th {\n",
              "        vertical-align: top;\n",
              "    }\n",
              "\n",
              "    .dataframe thead th {\n",
              "        text-align: right;\n",
              "    }\n",
              "</style>\n",
              "<table border=\"1\" class=\"dataframe\">\n",
              "  <thead>\n",
              "    <tr style=\"text-align: right;\">\n",
              "      <th></th>\n",
              "      <th>Unnamed: 0</th>\n",
              "      <th>Country</th>\n",
              "      <th>Year</th>\n",
              "      <th>Region</th>\n",
              "      <th>IncomeGroup</th>\n",
              "      <th>Country Code</th>\n",
              "      <th>TFR</th>\n",
              "      <th>HDI Rank (2018)</th>\n",
              "      <th>HDI</th>\n",
              "      <th>Females in secondary education (%)</th>\n",
              "      <th>Labor force participation rate, female (% of female population ages 15+) (modeled ILO estimate)</th>\n",
              "    </tr>\n",
              "  </thead>\n",
              "  <tbody>\n",
              "    <tr>\n",
              "      <th>235</th>\n",
              "      <td>235</td>\n",
              "      <td>Algeria</td>\n",
              "      <td>2018</td>\n",
              "      <td>Middle East &amp; North Africa</td>\n",
              "      <td>Lower middle income</td>\n",
              "      <td>DZA</td>\n",
              "      <td>3.023</td>\n",
              "      <td>82.0</td>\n",
              "      <td>0.759</td>\n",
              "      <td>NaN</td>\n",
              "      <td>NaN</td>\n",
              "    </tr>\n",
              "  </tbody>\n",
              "</table>\n",
              "</div>"
            ],
            "text/plain": [
              "     Unnamed: 0  ... Labor force participation rate, female (% of female population ages 15+) (modeled ILO estimate)\n",
              "235         235  ...                                                NaN                                             \n",
              "\n",
              "[1 rows x 11 columns]"
            ]
          },
          "metadata": {
            "tags": []
          },
          "execution_count": 20
        }
      ]
    },
    {
      "cell_type": "code",
      "metadata": {
        "colab": {
          "base_uri": "https://localhost:8080/",
          "height": 110
        },
        "id": "Dru-EdJp1QK4",
        "outputId": "a1b4163c-91b0-4996-ff95-6a86312860cd"
      },
      "source": [
        "africa_mauritius[africa_mauritius['Year']==1960]"
      ],
      "execution_count": 21,
      "outputs": [
        {
          "output_type": "execute_result",
          "data": {
            "text/html": [
              "<div>\n",
              "<style scoped>\n",
              "    .dataframe tbody tr th:only-of-type {\n",
              "        vertical-align: middle;\n",
              "    }\n",
              "\n",
              "    .dataframe tbody tr th {\n",
              "        vertical-align: top;\n",
              "    }\n",
              "\n",
              "    .dataframe thead th {\n",
              "        text-align: right;\n",
              "    }\n",
              "</style>\n",
              "<table border=\"1\" class=\"dataframe\">\n",
              "  <thead>\n",
              "    <tr style=\"text-align: right;\">\n",
              "      <th></th>\n",
              "      <th>Unnamed: 0</th>\n",
              "      <th>Country</th>\n",
              "      <th>Year</th>\n",
              "      <th>Region</th>\n",
              "      <th>IncomeGroup</th>\n",
              "      <th>Country Code</th>\n",
              "      <th>TFR</th>\n",
              "      <th>HDI Rank (2018)</th>\n",
              "      <th>HDI</th>\n",
              "      <th>Females in secondary education (%)</th>\n",
              "      <th>Labor force participation rate, female (% of female population ages 15+) (modeled ILO estimate)</th>\n",
              "    </tr>\n",
              "  </thead>\n",
              "  <tbody>\n",
              "    <tr>\n",
              "      <th>2065</th>\n",
              "      <td>2065</td>\n",
              "      <td>Mauritius</td>\n",
              "      <td>1960</td>\n",
              "      <td>Sub-Saharan Africa</td>\n",
              "      <td>High income</td>\n",
              "      <td>MUS</td>\n",
              "      <td>6.167</td>\n",
              "      <td>NaN</td>\n",
              "      <td>NaN</td>\n",
              "      <td>NaN</td>\n",
              "      <td>NaN</td>\n",
              "    </tr>\n",
              "  </tbody>\n",
              "</table>\n",
              "</div>"
            ],
            "text/plain": [
              "      Unnamed: 0  ... Labor force participation rate, female (% of female population ages 15+) (modeled ILO estimate)\n",
              "2065        2065  ...                                                NaN                                             \n",
              "\n",
              "[1 rows x 11 columns]"
            ]
          },
          "metadata": {
            "tags": []
          },
          "execution_count": 21
        }
      ]
    },
    {
      "cell_type": "code",
      "metadata": {
        "colab": {
          "base_uri": "https://localhost:8080/",
          "height": 110
        },
        "id": "hR5EDZ8exk-m",
        "outputId": "5f71477d-a80a-4384-af92-1a12c7b63ea1"
      },
      "source": [
        "africa_mauritius[africa_mauritius['Year']==1990]"
      ],
      "execution_count": 22,
      "outputs": [
        {
          "output_type": "execute_result",
          "data": {
            "text/html": [
              "<div>\n",
              "<style scoped>\n",
              "    .dataframe tbody tr th:only-of-type {\n",
              "        vertical-align: middle;\n",
              "    }\n",
              "\n",
              "    .dataframe tbody tr th {\n",
              "        vertical-align: top;\n",
              "    }\n",
              "\n",
              "    .dataframe thead th {\n",
              "        text-align: right;\n",
              "    }\n",
              "</style>\n",
              "<table border=\"1\" class=\"dataframe\">\n",
              "  <thead>\n",
              "    <tr style=\"text-align: right;\">\n",
              "      <th></th>\n",
              "      <th>Unnamed: 0</th>\n",
              "      <th>Country</th>\n",
              "      <th>Year</th>\n",
              "      <th>Region</th>\n",
              "      <th>IncomeGroup</th>\n",
              "      <th>Country Code</th>\n",
              "      <th>TFR</th>\n",
              "      <th>HDI Rank (2018)</th>\n",
              "      <th>HDI</th>\n",
              "      <th>Females in secondary education (%)</th>\n",
              "      <th>Labor force participation rate, female (% of female population ages 15+) (modeled ILO estimate)</th>\n",
              "    </tr>\n",
              "  </thead>\n",
              "  <tbody>\n",
              "    <tr>\n",
              "      <th>2095</th>\n",
              "      <td>2095</td>\n",
              "      <td>Mauritius</td>\n",
              "      <td>1990</td>\n",
              "      <td>Sub-Saharan Africa</td>\n",
              "      <td>High income</td>\n",
              "      <td>MUS</td>\n",
              "      <td>2.32</td>\n",
              "      <td>66.0</td>\n",
              "      <td>0.62</td>\n",
              "      <td>49.67499</td>\n",
              "      <td>38.275002</td>\n",
              "    </tr>\n",
              "  </tbody>\n",
              "</table>\n",
              "</div>"
            ],
            "text/plain": [
              "      Unnamed: 0  ... Labor force participation rate, female (% of female population ages 15+) (modeled ILO estimate)\n",
              "2095        2095  ...                                          38.275002                                             \n",
              "\n",
              "[1 rows x 11 columns]"
            ]
          },
          "metadata": {
            "tags": []
          },
          "execution_count": 22
        }
      ]
    },
    {
      "cell_type": "code",
      "metadata": {
        "colab": {
          "base_uri": "https://localhost:8080/",
          "height": 110
        },
        "id": "ZUf2Z-0R1DUa",
        "outputId": "b15d6ded-a138-4f8b-dae3-61908db0bacc"
      },
      "source": [
        "africa_mauritius[africa_mauritius['Year']==1985]"
      ],
      "execution_count": 23,
      "outputs": [
        {
          "output_type": "execute_result",
          "data": {
            "text/html": [
              "<div>\n",
              "<style scoped>\n",
              "    .dataframe tbody tr th:only-of-type {\n",
              "        vertical-align: middle;\n",
              "    }\n",
              "\n",
              "    .dataframe tbody tr th {\n",
              "        vertical-align: top;\n",
              "    }\n",
              "\n",
              "    .dataframe thead th {\n",
              "        text-align: right;\n",
              "    }\n",
              "</style>\n",
              "<table border=\"1\" class=\"dataframe\">\n",
              "  <thead>\n",
              "    <tr style=\"text-align: right;\">\n",
              "      <th></th>\n",
              "      <th>Unnamed: 0</th>\n",
              "      <th>Country</th>\n",
              "      <th>Year</th>\n",
              "      <th>Region</th>\n",
              "      <th>IncomeGroup</th>\n",
              "      <th>Country Code</th>\n",
              "      <th>TFR</th>\n",
              "      <th>HDI Rank (2018)</th>\n",
              "      <th>HDI</th>\n",
              "      <th>Females in secondary education (%)</th>\n",
              "      <th>Labor force participation rate, female (% of female population ages 15+) (modeled ILO estimate)</th>\n",
              "    </tr>\n",
              "  </thead>\n",
              "  <tbody>\n",
              "    <tr>\n",
              "      <th>2090</th>\n",
              "      <td>2090</td>\n",
              "      <td>Mauritius</td>\n",
              "      <td>1985</td>\n",
              "      <td>Sub-Saharan Africa</td>\n",
              "      <td>High income</td>\n",
              "      <td>MUS</td>\n",
              "      <td>2.02</td>\n",
              "      <td>NaN</td>\n",
              "      <td>NaN</td>\n",
              "      <td>47.18336</td>\n",
              "      <td>NaN</td>\n",
              "    </tr>\n",
              "  </tbody>\n",
              "</table>\n",
              "</div>"
            ],
            "text/plain": [
              "      Unnamed: 0  ... Labor force participation rate, female (% of female population ages 15+) (modeled ILO estimate)\n",
              "2090        2090  ...                                                NaN                                             \n",
              "\n",
              "[1 rows x 11 columns]"
            ]
          },
          "metadata": {
            "tags": []
          },
          "execution_count": 23
        }
      ]
    },
    {
      "cell_type": "code",
      "metadata": {
        "colab": {
          "base_uri": "https://localhost:8080/",
          "height": 110
        },
        "id": "FrvUL6gm08n0",
        "outputId": "4f7b2432-9745-44fa-d344-2f2c0b65172c"
      },
      "source": [
        "africa_mauritius[africa_mauritius['Year']==1986]"
      ],
      "execution_count": 24,
      "outputs": [
        {
          "output_type": "execute_result",
          "data": {
            "text/html": [
              "<div>\n",
              "<style scoped>\n",
              "    .dataframe tbody tr th:only-of-type {\n",
              "        vertical-align: middle;\n",
              "    }\n",
              "\n",
              "    .dataframe tbody tr th {\n",
              "        vertical-align: top;\n",
              "    }\n",
              "\n",
              "    .dataframe thead th {\n",
              "        text-align: right;\n",
              "    }\n",
              "</style>\n",
              "<table border=\"1\" class=\"dataframe\">\n",
              "  <thead>\n",
              "    <tr style=\"text-align: right;\">\n",
              "      <th></th>\n",
              "      <th>Unnamed: 0</th>\n",
              "      <th>Country</th>\n",
              "      <th>Year</th>\n",
              "      <th>Region</th>\n",
              "      <th>IncomeGroup</th>\n",
              "      <th>Country Code</th>\n",
              "      <th>TFR</th>\n",
              "      <th>HDI Rank (2018)</th>\n",
              "      <th>HDI</th>\n",
              "      <th>Females in secondary education (%)</th>\n",
              "      <th>Labor force participation rate, female (% of female population ages 15+) (modeled ILO estimate)</th>\n",
              "    </tr>\n",
              "  </thead>\n",
              "  <tbody>\n",
              "    <tr>\n",
              "      <th>2091</th>\n",
              "      <td>2091</td>\n",
              "      <td>Mauritius</td>\n",
              "      <td>1986</td>\n",
              "      <td>Sub-Saharan Africa</td>\n",
              "      <td>High income</td>\n",
              "      <td>MUS</td>\n",
              "      <td>1.99</td>\n",
              "      <td>NaN</td>\n",
              "      <td>NaN</td>\n",
              "      <td>47.27862</td>\n",
              "      <td>NaN</td>\n",
              "    </tr>\n",
              "  </tbody>\n",
              "</table>\n",
              "</div>"
            ],
            "text/plain": [
              "      Unnamed: 0  ... Labor force participation rate, female (% of female population ages 15+) (modeled ILO estimate)\n",
              "2091        2091  ...                                                NaN                                             \n",
              "\n",
              "[1 rows x 11 columns]"
            ]
          },
          "metadata": {
            "tags": []
          },
          "execution_count": 24
        }
      ]
    },
    {
      "cell_type": "code",
      "metadata": {
        "colab": {
          "base_uri": "https://localhost:8080/",
          "height": 110
        },
        "id": "L_I1jWHo1AfA",
        "outputId": "8b257a5f-b131-41c0-d73f-2b50c18fef58"
      },
      "source": [
        "africa_mauritius[africa_mauritius['Year']==1987]"
      ],
      "execution_count": 25,
      "outputs": [
        {
          "output_type": "execute_result",
          "data": {
            "text/html": [
              "<div>\n",
              "<style scoped>\n",
              "    .dataframe tbody tr th:only-of-type {\n",
              "        vertical-align: middle;\n",
              "    }\n",
              "\n",
              "    .dataframe tbody tr th {\n",
              "        vertical-align: top;\n",
              "    }\n",
              "\n",
              "    .dataframe thead th {\n",
              "        text-align: right;\n",
              "    }\n",
              "</style>\n",
              "<table border=\"1\" class=\"dataframe\">\n",
              "  <thead>\n",
              "    <tr style=\"text-align: right;\">\n",
              "      <th></th>\n",
              "      <th>Unnamed: 0</th>\n",
              "      <th>Country</th>\n",
              "      <th>Year</th>\n",
              "      <th>Region</th>\n",
              "      <th>IncomeGroup</th>\n",
              "      <th>Country Code</th>\n",
              "      <th>TFR</th>\n",
              "      <th>HDI Rank (2018)</th>\n",
              "      <th>HDI</th>\n",
              "      <th>Females in secondary education (%)</th>\n",
              "      <th>Labor force participation rate, female (% of female population ages 15+) (modeled ILO estimate)</th>\n",
              "    </tr>\n",
              "  </thead>\n",
              "  <tbody>\n",
              "    <tr>\n",
              "      <th>2092</th>\n",
              "      <td>2092</td>\n",
              "      <td>Mauritius</td>\n",
              "      <td>1987</td>\n",
              "      <td>Sub-Saharan Africa</td>\n",
              "      <td>High income</td>\n",
              "      <td>MUS</td>\n",
              "      <td>2.05</td>\n",
              "      <td>NaN</td>\n",
              "      <td>NaN</td>\n",
              "      <td>47.66414</td>\n",
              "      <td>NaN</td>\n",
              "    </tr>\n",
              "  </tbody>\n",
              "</table>\n",
              "</div>"
            ],
            "text/plain": [
              "      Unnamed: 0  ... Labor force participation rate, female (% of female population ages 15+) (modeled ILO estimate)\n",
              "2092        2092  ...                                                NaN                                             \n",
              "\n",
              "[1 rows x 11 columns]"
            ]
          },
          "metadata": {
            "tags": []
          },
          "execution_count": 25
        }
      ]
    },
    {
      "cell_type": "code",
      "metadata": {
        "colab": {
          "base_uri": "https://localhost:8080/",
          "height": 110
        },
        "id": "t1tv_yU10-gd",
        "outputId": "d23f43ad-5814-41bc-fff4-d821847ea8b5"
      },
      "source": [
        "africa_mauritius[africa_mauritius['Year']==1989]"
      ],
      "execution_count": 26,
      "outputs": [
        {
          "output_type": "execute_result",
          "data": {
            "text/html": [
              "<div>\n",
              "<style scoped>\n",
              "    .dataframe tbody tr th:only-of-type {\n",
              "        vertical-align: middle;\n",
              "    }\n",
              "\n",
              "    .dataframe tbody tr th {\n",
              "        vertical-align: top;\n",
              "    }\n",
              "\n",
              "    .dataframe thead th {\n",
              "        text-align: right;\n",
              "    }\n",
              "</style>\n",
              "<table border=\"1\" class=\"dataframe\">\n",
              "  <thead>\n",
              "    <tr style=\"text-align: right;\">\n",
              "      <th></th>\n",
              "      <th>Unnamed: 0</th>\n",
              "      <th>Country</th>\n",
              "      <th>Year</th>\n",
              "      <th>Region</th>\n",
              "      <th>IncomeGroup</th>\n",
              "      <th>Country Code</th>\n",
              "      <th>TFR</th>\n",
              "      <th>HDI Rank (2018)</th>\n",
              "      <th>HDI</th>\n",
              "      <th>Females in secondary education (%)</th>\n",
              "      <th>Labor force participation rate, female (% of female population ages 15+) (modeled ILO estimate)</th>\n",
              "    </tr>\n",
              "  </thead>\n",
              "  <tbody>\n",
              "    <tr>\n",
              "      <th>2094</th>\n",
              "      <td>2094</td>\n",
              "      <td>Mauritius</td>\n",
              "      <td>1989</td>\n",
              "      <td>Sub-Saharan Africa</td>\n",
              "      <td>High income</td>\n",
              "      <td>MUS</td>\n",
              "      <td>2.23</td>\n",
              "      <td>NaN</td>\n",
              "      <td>NaN</td>\n",
              "      <td>49.21296</td>\n",
              "      <td>NaN</td>\n",
              "    </tr>\n",
              "  </tbody>\n",
              "</table>\n",
              "</div>"
            ],
            "text/plain": [
              "      Unnamed: 0  ... Labor force participation rate, female (% of female population ages 15+) (modeled ILO estimate)\n",
              "2094        2094  ...                                                NaN                                             \n",
              "\n",
              "[1 rows x 11 columns]"
            ]
          },
          "metadata": {
            "tags": []
          },
          "execution_count": 26
        }
      ]
    },
    {
      "cell_type": "code",
      "metadata": {
        "colab": {
          "base_uri": "https://localhost:8080/",
          "height": 110
        },
        "id": "4sFE_cSk53hj",
        "outputId": "e0eb62cb-415f-4952-efc2-ed37301e057c"
      },
      "source": [
        "africa_mauritius[africa_mauritius['Year']==2017]"
      ],
      "execution_count": 27,
      "outputs": [
        {
          "output_type": "execute_result",
          "data": {
            "text/html": [
              "<div>\n",
              "<style scoped>\n",
              "    .dataframe tbody tr th:only-of-type {\n",
              "        vertical-align: middle;\n",
              "    }\n",
              "\n",
              "    .dataframe tbody tr th {\n",
              "        vertical-align: top;\n",
              "    }\n",
              "\n",
              "    .dataframe thead th {\n",
              "        text-align: right;\n",
              "    }\n",
              "</style>\n",
              "<table border=\"1\" class=\"dataframe\">\n",
              "  <thead>\n",
              "    <tr style=\"text-align: right;\">\n",
              "      <th></th>\n",
              "      <th>Unnamed: 0</th>\n",
              "      <th>Country</th>\n",
              "      <th>Year</th>\n",
              "      <th>Region</th>\n",
              "      <th>IncomeGroup</th>\n",
              "      <th>Country Code</th>\n",
              "      <th>TFR</th>\n",
              "      <th>HDI Rank (2018)</th>\n",
              "      <th>HDI</th>\n",
              "      <th>Females in secondary education (%)</th>\n",
              "      <th>Labor force participation rate, female (% of female population ages 15+) (modeled ILO estimate)</th>\n",
              "    </tr>\n",
              "  </thead>\n",
              "  <tbody>\n",
              "    <tr>\n",
              "      <th>2122</th>\n",
              "      <td>2122</td>\n",
              "      <td>Mauritius</td>\n",
              "      <td>2017</td>\n",
              "      <td>Sub-Saharan Africa</td>\n",
              "      <td>High income</td>\n",
              "      <td>MUS</td>\n",
              "      <td>1.44</td>\n",
              "      <td>66.0</td>\n",
              "      <td>0.793</td>\n",
              "      <td>NaN</td>\n",
              "      <td>45.131001</td>\n",
              "    </tr>\n",
              "  </tbody>\n",
              "</table>\n",
              "</div>"
            ],
            "text/plain": [
              "      Unnamed: 0  ... Labor force participation rate, female (% of female population ages 15+) (modeled ILO estimate)\n",
              "2122        2122  ...                                          45.131001                                             \n",
              "\n",
              "[1 rows x 11 columns]"
            ]
          },
          "metadata": {
            "tags": []
          },
          "execution_count": 27
        }
      ]
    },
    {
      "cell_type": "code",
      "metadata": {
        "colab": {
          "base_uri": "https://localhost:8080/",
          "height": 110
        },
        "id": "blctBbHLx61F",
        "outputId": "7ad0fdac-0f28-43fd-907a-ee8a2a25dfa6"
      },
      "source": [
        "africa_mauritius[africa_mauritius['Year']==2018]"
      ],
      "execution_count": 28,
      "outputs": [
        {
          "output_type": "execute_result",
          "data": {
            "text/html": [
              "<div>\n",
              "<style scoped>\n",
              "    .dataframe tbody tr th:only-of-type {\n",
              "        vertical-align: middle;\n",
              "    }\n",
              "\n",
              "    .dataframe tbody tr th {\n",
              "        vertical-align: top;\n",
              "    }\n",
              "\n",
              "    .dataframe thead th {\n",
              "        text-align: right;\n",
              "    }\n",
              "</style>\n",
              "<table border=\"1\" class=\"dataframe\">\n",
              "  <thead>\n",
              "    <tr style=\"text-align: right;\">\n",
              "      <th></th>\n",
              "      <th>Unnamed: 0</th>\n",
              "      <th>Country</th>\n",
              "      <th>Year</th>\n",
              "      <th>Region</th>\n",
              "      <th>IncomeGroup</th>\n",
              "      <th>Country Code</th>\n",
              "      <th>TFR</th>\n",
              "      <th>HDI Rank (2018)</th>\n",
              "      <th>HDI</th>\n",
              "      <th>Females in secondary education (%)</th>\n",
              "      <th>Labor force participation rate, female (% of female population ages 15+) (modeled ILO estimate)</th>\n",
              "    </tr>\n",
              "  </thead>\n",
              "  <tbody>\n",
              "    <tr>\n",
              "      <th>2123</th>\n",
              "      <td>2123</td>\n",
              "      <td>Mauritius</td>\n",
              "      <td>2018</td>\n",
              "      <td>Sub-Saharan Africa</td>\n",
              "      <td>High income</td>\n",
              "      <td>MUS</td>\n",
              "      <td>1.41</td>\n",
              "      <td>66.0</td>\n",
              "      <td>0.796</td>\n",
              "      <td>NaN</td>\n",
              "      <td>NaN</td>\n",
              "    </tr>\n",
              "  </tbody>\n",
              "</table>\n",
              "</div>"
            ],
            "text/plain": [
              "      Unnamed: 0  ... Labor force participation rate, female (% of female population ages 15+) (modeled ILO estimate)\n",
              "2123        2123  ...                                                NaN                                             \n",
              "\n",
              "[1 rows x 11 columns]"
            ]
          },
          "metadata": {
            "tags": []
          },
          "execution_count": 28
        }
      ]
    },
    {
      "cell_type": "code",
      "metadata": {
        "colab": {
          "base_uri": "https://localhost:8080/",
          "height": 110
        },
        "id": "JKj9KoCqyoyg",
        "outputId": "b758f199-3630-439f-9bb7-6b5f021c9e99"
      },
      "source": [
        "africa_seychelles[africa_seychelles['Year']==1990]"
      ],
      "execution_count": 29,
      "outputs": [
        {
          "output_type": "execute_result",
          "data": {
            "text/html": [
              "<div>\n",
              "<style scoped>\n",
              "    .dataframe tbody tr th:only-of-type {\n",
              "        vertical-align: middle;\n",
              "    }\n",
              "\n",
              "    .dataframe tbody tr th {\n",
              "        vertical-align: top;\n",
              "    }\n",
              "\n",
              "    .dataframe thead th {\n",
              "        text-align: right;\n",
              "    }\n",
              "</style>\n",
              "<table border=\"1\" class=\"dataframe\">\n",
              "  <thead>\n",
              "    <tr style=\"text-align: right;\">\n",
              "      <th></th>\n",
              "      <th>Unnamed: 0</th>\n",
              "      <th>Country</th>\n",
              "      <th>Year</th>\n",
              "      <th>Region</th>\n",
              "      <th>IncomeGroup</th>\n",
              "      <th>Country Code</th>\n",
              "      <th>TFR</th>\n",
              "      <th>HDI Rank (2018)</th>\n",
              "      <th>HDI</th>\n",
              "      <th>Females in secondary education (%)</th>\n",
              "      <th>Labor force participation rate, female (% of female population ages 15+) (modeled ILO estimate)</th>\n",
              "    </tr>\n",
              "  </thead>\n",
              "  <tbody>\n",
              "    <tr>\n",
              "      <th>2567</th>\n",
              "      <td>2567</td>\n",
              "      <td>Seychelles</td>\n",
              "      <td>1990</td>\n",
              "      <td>Sub-Saharan Africa</td>\n",
              "      <td>High income</td>\n",
              "      <td>SYC</td>\n",
              "      <td>NaN</td>\n",
              "      <td>62.0</td>\n",
              "      <td>NaN</td>\n",
              "      <td>NaN</td>\n",
              "      <td>NaN</td>\n",
              "    </tr>\n",
              "  </tbody>\n",
              "</table>\n",
              "</div>"
            ],
            "text/plain": [
              "      Unnamed: 0  ... Labor force participation rate, female (% of female population ages 15+) (modeled ILO estimate)\n",
              "2567        2567  ...                                                NaN                                             \n",
              "\n",
              "[1 rows x 11 columns]"
            ]
          },
          "metadata": {
            "tags": []
          },
          "execution_count": 29
        }
      ]
    },
    {
      "cell_type": "code",
      "metadata": {
        "colab": {
          "base_uri": "https://localhost:8080/",
          "height": 110
        },
        "id": "IC7kBYNUyLZ_",
        "outputId": "1e3c5bec-4da3-4e0e-ef51-41b8c95e0460"
      },
      "source": [
        "africa_seychelles[africa_seychelles['Year']==2018]"
      ],
      "execution_count": 30,
      "outputs": [
        {
          "output_type": "execute_result",
          "data": {
            "text/html": [
              "<div>\n",
              "<style scoped>\n",
              "    .dataframe tbody tr th:only-of-type {\n",
              "        vertical-align: middle;\n",
              "    }\n",
              "\n",
              "    .dataframe tbody tr th {\n",
              "        vertical-align: top;\n",
              "    }\n",
              "\n",
              "    .dataframe thead th {\n",
              "        text-align: right;\n",
              "    }\n",
              "</style>\n",
              "<table border=\"1\" class=\"dataframe\">\n",
              "  <thead>\n",
              "    <tr style=\"text-align: right;\">\n",
              "      <th></th>\n",
              "      <th>Unnamed: 0</th>\n",
              "      <th>Country</th>\n",
              "      <th>Year</th>\n",
              "      <th>Region</th>\n",
              "      <th>IncomeGroup</th>\n",
              "      <th>Country Code</th>\n",
              "      <th>TFR</th>\n",
              "      <th>HDI Rank (2018)</th>\n",
              "      <th>HDI</th>\n",
              "      <th>Females in secondary education (%)</th>\n",
              "      <th>Labor force participation rate, female (% of female population ages 15+) (modeled ILO estimate)</th>\n",
              "    </tr>\n",
              "  </thead>\n",
              "  <tbody>\n",
              "    <tr>\n",
              "      <th>2595</th>\n",
              "      <td>2595</td>\n",
              "      <td>Seychelles</td>\n",
              "      <td>2018</td>\n",
              "      <td>Sub-Saharan Africa</td>\n",
              "      <td>High income</td>\n",
              "      <td>SYC</td>\n",
              "      <td>2.41</td>\n",
              "      <td>62.0</td>\n",
              "      <td>0.801</td>\n",
              "      <td>NaN</td>\n",
              "      <td>NaN</td>\n",
              "    </tr>\n",
              "  </tbody>\n",
              "</table>\n",
              "</div>"
            ],
            "text/plain": [
              "      Unnamed: 0  ... Labor force participation rate, female (% of female population ages 15+) (modeled ILO estimate)\n",
              "2595        2595  ...                                                NaN                                             \n",
              "\n",
              "[1 rows x 11 columns]"
            ]
          },
          "metadata": {
            "tags": []
          },
          "execution_count": 30
        }
      ]
    },
    {
      "cell_type": "code",
      "metadata": {
        "colab": {
          "base_uri": "https://localhost:8080/",
          "height": 110
        },
        "id": "m2NnjfwjyUvE",
        "outputId": "9d81653d-8614-4257-e65c-5e55158e6f13"
      },
      "source": [
        "africa_CAR[africa_CAR['Year']==1990]"
      ],
      "execution_count": 31,
      "outputs": [
        {
          "output_type": "execute_result",
          "data": {
            "text/html": [
              "<div>\n",
              "<style scoped>\n",
              "    .dataframe tbody tr th:only-of-type {\n",
              "        vertical-align: middle;\n",
              "    }\n",
              "\n",
              "    .dataframe tbody tr th {\n",
              "        vertical-align: top;\n",
              "    }\n",
              "\n",
              "    .dataframe thead th {\n",
              "        text-align: right;\n",
              "    }\n",
              "</style>\n",
              "<table border=\"1\" class=\"dataframe\">\n",
              "  <thead>\n",
              "    <tr style=\"text-align: right;\">\n",
              "      <th></th>\n",
              "      <th>Unnamed: 0</th>\n",
              "      <th>Country</th>\n",
              "      <th>Year</th>\n",
              "      <th>Region</th>\n",
              "      <th>IncomeGroup</th>\n",
              "      <th>Country Code</th>\n",
              "      <th>TFR</th>\n",
              "      <th>HDI Rank (2018)</th>\n",
              "      <th>HDI</th>\n",
              "      <th>Females in secondary education (%)</th>\n",
              "      <th>Labor force participation rate, female (% of female population ages 15+) (modeled ILO estimate)</th>\n",
              "    </tr>\n",
              "  </thead>\n",
              "  <tbody>\n",
              "    <tr>\n",
              "      <th>797</th>\n",
              "      <td>797</td>\n",
              "      <td>Central African Republic</td>\n",
              "      <td>1990</td>\n",
              "      <td>Sub-Saharan Africa</td>\n",
              "      <td>Low income</td>\n",
              "      <td>CAF</td>\n",
              "      <td>5.811</td>\n",
              "      <td>188.0</td>\n",
              "      <td>0.32</td>\n",
              "      <td>28.74031</td>\n",
              "      <td>64.554001</td>\n",
              "    </tr>\n",
              "  </tbody>\n",
              "</table>\n",
              "</div>"
            ],
            "text/plain": [
              "     Unnamed: 0  ... Labor force participation rate, female (% of female population ages 15+) (modeled ILO estimate)\n",
              "797         797  ...                                          64.554001                                             \n",
              "\n",
              "[1 rows x 11 columns]"
            ]
          },
          "metadata": {
            "tags": []
          },
          "execution_count": 31
        }
      ]
    },
    {
      "cell_type": "code",
      "metadata": {
        "colab": {
          "base_uri": "https://localhost:8080/",
          "height": 110
        },
        "id": "szMKXqOI2H6m",
        "outputId": "0639b9ff-6b85-4058-d9db-623d0ab845b5"
      },
      "source": [
        "africa_CAR[africa_CAR['Year']==1998]"
      ],
      "execution_count": 32,
      "outputs": [
        {
          "output_type": "execute_result",
          "data": {
            "text/html": [
              "<div>\n",
              "<style scoped>\n",
              "    .dataframe tbody tr th:only-of-type {\n",
              "        vertical-align: middle;\n",
              "    }\n",
              "\n",
              "    .dataframe tbody tr th {\n",
              "        vertical-align: top;\n",
              "    }\n",
              "\n",
              "    .dataframe thead th {\n",
              "        text-align: right;\n",
              "    }\n",
              "</style>\n",
              "<table border=\"1\" class=\"dataframe\">\n",
              "  <thead>\n",
              "    <tr style=\"text-align: right;\">\n",
              "      <th></th>\n",
              "      <th>Unnamed: 0</th>\n",
              "      <th>Country</th>\n",
              "      <th>Year</th>\n",
              "      <th>Region</th>\n",
              "      <th>IncomeGroup</th>\n",
              "      <th>Country Code</th>\n",
              "      <th>TFR</th>\n",
              "      <th>HDI Rank (2018)</th>\n",
              "      <th>HDI</th>\n",
              "      <th>Females in secondary education (%)</th>\n",
              "      <th>Labor force participation rate, female (% of female population ages 15+) (modeled ILO estimate)</th>\n",
              "    </tr>\n",
              "  </thead>\n",
              "  <tbody>\n",
              "    <tr>\n",
              "      <th>805</th>\n",
              "      <td>805</td>\n",
              "      <td>Central African Republic</td>\n",
              "      <td>1998</td>\n",
              "      <td>Sub-Saharan Africa</td>\n",
              "      <td>Low income</td>\n",
              "      <td>CAF</td>\n",
              "      <td>5.541</td>\n",
              "      <td>188.0</td>\n",
              "      <td>0.306</td>\n",
              "      <td>NaN</td>\n",
              "      <td>64.262001</td>\n",
              "    </tr>\n",
              "  </tbody>\n",
              "</table>\n",
              "</div>"
            ],
            "text/plain": [
              "     Unnamed: 0  ... Labor force participation rate, female (% of female population ages 15+) (modeled ILO estimate)\n",
              "805         805  ...                                          64.262001                                             \n",
              "\n",
              "[1 rows x 11 columns]"
            ]
          },
          "metadata": {
            "tags": []
          },
          "execution_count": 32
        }
      ]
    },
    {
      "cell_type": "code",
      "metadata": {
        "colab": {
          "base_uri": "https://localhost:8080/",
          "height": 110
        },
        "id": "y0_w_qXM2G9D",
        "outputId": "1c21fbee-7eb5-448c-9f6a-3b0f52761f20"
      },
      "source": [
        "africa_CAR[africa_CAR['Year']==1999]"
      ],
      "execution_count": 33,
      "outputs": [
        {
          "output_type": "execute_result",
          "data": {
            "text/html": [
              "<div>\n",
              "<style scoped>\n",
              "    .dataframe tbody tr th:only-of-type {\n",
              "        vertical-align: middle;\n",
              "    }\n",
              "\n",
              "    .dataframe tbody tr th {\n",
              "        vertical-align: top;\n",
              "    }\n",
              "\n",
              "    .dataframe thead th {\n",
              "        text-align: right;\n",
              "    }\n",
              "</style>\n",
              "<table border=\"1\" class=\"dataframe\">\n",
              "  <thead>\n",
              "    <tr style=\"text-align: right;\">\n",
              "      <th></th>\n",
              "      <th>Unnamed: 0</th>\n",
              "      <th>Country</th>\n",
              "      <th>Year</th>\n",
              "      <th>Region</th>\n",
              "      <th>IncomeGroup</th>\n",
              "      <th>Country Code</th>\n",
              "      <th>TFR</th>\n",
              "      <th>HDI Rank (2018)</th>\n",
              "      <th>HDI</th>\n",
              "      <th>Females in secondary education (%)</th>\n",
              "      <th>Labor force participation rate, female (% of female population ages 15+) (modeled ILO estimate)</th>\n",
              "    </tr>\n",
              "  </thead>\n",
              "  <tbody>\n",
              "    <tr>\n",
              "      <th>806</th>\n",
              "      <td>806</td>\n",
              "      <td>Central African Republic</td>\n",
              "      <td>1999</td>\n",
              "      <td>Sub-Saharan Africa</td>\n",
              "      <td>Low income</td>\n",
              "      <td>CAF</td>\n",
              "      <td>5.52</td>\n",
              "      <td>188.0</td>\n",
              "      <td>0.308</td>\n",
              "      <td>NaN</td>\n",
              "      <td>64.251999</td>\n",
              "    </tr>\n",
              "  </tbody>\n",
              "</table>\n",
              "</div>"
            ],
            "text/plain": [
              "     Unnamed: 0  ... Labor force participation rate, female (% of female population ages 15+) (modeled ILO estimate)\n",
              "806         806  ...                                          64.251999                                             \n",
              "\n",
              "[1 rows x 11 columns]"
            ]
          },
          "metadata": {
            "tags": []
          },
          "execution_count": 33
        }
      ]
    },
    {
      "cell_type": "code",
      "metadata": {
        "colab": {
          "base_uri": "https://localhost:8080/",
          "height": 110
        },
        "id": "OtZWF03L2JCc",
        "outputId": "e79af779-6b8f-46ef-fa12-bcae17c031ac"
      },
      "source": [
        "africa_CAR[africa_CAR['Year']==2000]"
      ],
      "execution_count": 34,
      "outputs": [
        {
          "output_type": "execute_result",
          "data": {
            "text/html": [
              "<div>\n",
              "<style scoped>\n",
              "    .dataframe tbody tr th:only-of-type {\n",
              "        vertical-align: middle;\n",
              "    }\n",
              "\n",
              "    .dataframe tbody tr th {\n",
              "        vertical-align: top;\n",
              "    }\n",
              "\n",
              "    .dataframe thead th {\n",
              "        text-align: right;\n",
              "    }\n",
              "</style>\n",
              "<table border=\"1\" class=\"dataframe\">\n",
              "  <thead>\n",
              "    <tr style=\"text-align: right;\">\n",
              "      <th></th>\n",
              "      <th>Unnamed: 0</th>\n",
              "      <th>Country</th>\n",
              "      <th>Year</th>\n",
              "      <th>Region</th>\n",
              "      <th>IncomeGroup</th>\n",
              "      <th>Country Code</th>\n",
              "      <th>TFR</th>\n",
              "      <th>HDI Rank (2018)</th>\n",
              "      <th>HDI</th>\n",
              "      <th>Females in secondary education (%)</th>\n",
              "      <th>Labor force participation rate, female (% of female population ages 15+) (modeled ILO estimate)</th>\n",
              "    </tr>\n",
              "  </thead>\n",
              "  <tbody>\n",
              "    <tr>\n",
              "      <th>807</th>\n",
              "      <td>807</td>\n",
              "      <td>Central African Republic</td>\n",
              "      <td>2000</td>\n",
              "      <td>Sub-Saharan Africa</td>\n",
              "      <td>Low income</td>\n",
              "      <td>CAF</td>\n",
              "      <td>5.5</td>\n",
              "      <td>188.0</td>\n",
              "      <td>0.307</td>\n",
              "      <td>NaN</td>\n",
              "      <td>64.211998</td>\n",
              "    </tr>\n",
              "  </tbody>\n",
              "</table>\n",
              "</div>"
            ],
            "text/plain": [
              "     Unnamed: 0  ... Labor force participation rate, female (% of female population ages 15+) (modeled ILO estimate)\n",
              "807         807  ...                                          64.211998                                             \n",
              "\n",
              "[1 rows x 11 columns]"
            ]
          },
          "metadata": {
            "tags": []
          },
          "execution_count": 34
        }
      ]
    },
    {
      "cell_type": "code",
      "metadata": {
        "colab": {
          "base_uri": "https://localhost:8080/",
          "height": 110
        },
        "id": "otGSKwemytah",
        "outputId": "14339837-80a4-4647-8979-6f2aadb4dc67"
      },
      "source": [
        "africa_CAR[africa_CAR['Year']==2018]"
      ],
      "execution_count": 35,
      "outputs": [
        {
          "output_type": "execute_result",
          "data": {
            "text/html": [
              "<div>\n",
              "<style scoped>\n",
              "    .dataframe tbody tr th:only-of-type {\n",
              "        vertical-align: middle;\n",
              "    }\n",
              "\n",
              "    .dataframe tbody tr th {\n",
              "        vertical-align: top;\n",
              "    }\n",
              "\n",
              "    .dataframe thead th {\n",
              "        text-align: right;\n",
              "    }\n",
              "</style>\n",
              "<table border=\"1\" class=\"dataframe\">\n",
              "  <thead>\n",
              "    <tr style=\"text-align: right;\">\n",
              "      <th></th>\n",
              "      <th>Unnamed: 0</th>\n",
              "      <th>Country</th>\n",
              "      <th>Year</th>\n",
              "      <th>Region</th>\n",
              "      <th>IncomeGroup</th>\n",
              "      <th>Country Code</th>\n",
              "      <th>TFR</th>\n",
              "      <th>HDI Rank (2018)</th>\n",
              "      <th>HDI</th>\n",
              "      <th>Females in secondary education (%)</th>\n",
              "      <th>Labor force participation rate, female (% of female population ages 15+) (modeled ILO estimate)</th>\n",
              "    </tr>\n",
              "  </thead>\n",
              "  <tbody>\n",
              "    <tr>\n",
              "      <th>825</th>\n",
              "      <td>825</td>\n",
              "      <td>Central African Republic</td>\n",
              "      <td>2018</td>\n",
              "      <td>Sub-Saharan Africa</td>\n",
              "      <td>Low income</td>\n",
              "      <td>CAF</td>\n",
              "      <td>4.721</td>\n",
              "      <td>188.0</td>\n",
              "      <td>0.381</td>\n",
              "      <td>NaN</td>\n",
              "      <td>NaN</td>\n",
              "    </tr>\n",
              "  </tbody>\n",
              "</table>\n",
              "</div>"
            ],
            "text/plain": [
              "     Unnamed: 0  ... Labor force participation rate, female (% of female population ages 15+) (modeled ILO estimate)\n",
              "825         825  ...                                                NaN                                             \n",
              "\n",
              "[1 rows x 11 columns]"
            ]
          },
          "metadata": {
            "tags": []
          },
          "execution_count": 35
        }
      ]
    },
    {
      "cell_type": "code",
      "metadata": {
        "colab": {
          "base_uri": "https://localhost:8080/",
          "height": 110
        },
        "id": "34CvmIVkyZP8",
        "outputId": "8aaffd52-9758-4947-c679-0d03b062ce0e"
      },
      "source": [
        "africa_chad[africa_chad['Year']==1990]"
      ],
      "execution_count": 36,
      "outputs": [
        {
          "output_type": "execute_result",
          "data": {
            "text/html": [
              "<div>\n",
              "<style scoped>\n",
              "    .dataframe tbody tr th:only-of-type {\n",
              "        vertical-align: middle;\n",
              "    }\n",
              "\n",
              "    .dataframe tbody tr th {\n",
              "        vertical-align: top;\n",
              "    }\n",
              "\n",
              "    .dataframe thead th {\n",
              "        text-align: right;\n",
              "    }\n",
              "</style>\n",
              "<table border=\"1\" class=\"dataframe\">\n",
              "  <thead>\n",
              "    <tr style=\"text-align: right;\">\n",
              "      <th></th>\n",
              "      <th>Unnamed: 0</th>\n",
              "      <th>Country</th>\n",
              "      <th>Year</th>\n",
              "      <th>Region</th>\n",
              "      <th>IncomeGroup</th>\n",
              "      <th>Country Code</th>\n",
              "      <th>TFR</th>\n",
              "      <th>HDI Rank (2018)</th>\n",
              "      <th>HDI</th>\n",
              "      <th>Females in secondary education (%)</th>\n",
              "      <th>Labor force participation rate, female (% of female population ages 15+) (modeled ILO estimate)</th>\n",
              "    </tr>\n",
              "  </thead>\n",
              "  <tbody>\n",
              "    <tr>\n",
              "      <th>856</th>\n",
              "      <td>856</td>\n",
              "      <td>Chad</td>\n",
              "      <td>1990</td>\n",
              "      <td>Sub-Saharan Africa</td>\n",
              "      <td>Low income</td>\n",
              "      <td>TCD</td>\n",
              "      <td>7.313</td>\n",
              "      <td>187.0</td>\n",
              "      <td>NaN</td>\n",
              "      <td>18.12703</td>\n",
              "      <td>64.894997</td>\n",
              "    </tr>\n",
              "  </tbody>\n",
              "</table>\n",
              "</div>"
            ],
            "text/plain": [
              "     Unnamed: 0  ... Labor force participation rate, female (% of female population ages 15+) (modeled ILO estimate)\n",
              "856         856  ...                                          64.894997                                             \n",
              "\n",
              "[1 rows x 11 columns]"
            ]
          },
          "metadata": {
            "tags": []
          },
          "execution_count": 36
        }
      ]
    },
    {
      "cell_type": "code",
      "metadata": {
        "colab": {
          "base_uri": "https://localhost:8080/",
          "height": 110
        },
        "id": "UPfIQuDf2wLU",
        "outputId": "e1e2f060-027b-43a7-9c6d-066e203501c0"
      },
      "source": [
        "africa_chad[africa_chad['Year']==1995]"
      ],
      "execution_count": 37,
      "outputs": [
        {
          "output_type": "execute_result",
          "data": {
            "text/html": [
              "<div>\n",
              "<style scoped>\n",
              "    .dataframe tbody tr th:only-of-type {\n",
              "        vertical-align: middle;\n",
              "    }\n",
              "\n",
              "    .dataframe tbody tr th {\n",
              "        vertical-align: top;\n",
              "    }\n",
              "\n",
              "    .dataframe thead th {\n",
              "        text-align: right;\n",
              "    }\n",
              "</style>\n",
              "<table border=\"1\" class=\"dataframe\">\n",
              "  <thead>\n",
              "    <tr style=\"text-align: right;\">\n",
              "      <th></th>\n",
              "      <th>Unnamed: 0</th>\n",
              "      <th>Country</th>\n",
              "      <th>Year</th>\n",
              "      <th>Region</th>\n",
              "      <th>IncomeGroup</th>\n",
              "      <th>Country Code</th>\n",
              "      <th>TFR</th>\n",
              "      <th>HDI Rank (2018)</th>\n",
              "      <th>HDI</th>\n",
              "      <th>Females in secondary education (%)</th>\n",
              "      <th>Labor force participation rate, female (% of female population ages 15+) (modeled ILO estimate)</th>\n",
              "    </tr>\n",
              "  </thead>\n",
              "  <tbody>\n",
              "    <tr>\n",
              "      <th>861</th>\n",
              "      <td>861</td>\n",
              "      <td>Chad</td>\n",
              "      <td>1995</td>\n",
              "      <td>Sub-Saharan Africa</td>\n",
              "      <td>Low income</td>\n",
              "      <td>TCD</td>\n",
              "      <td>7.425</td>\n",
              "      <td>187.0</td>\n",
              "      <td>NaN</td>\n",
              "      <td>19.06659</td>\n",
              "      <td>64.636002</td>\n",
              "    </tr>\n",
              "  </tbody>\n",
              "</table>\n",
              "</div>"
            ],
            "text/plain": [
              "     Unnamed: 0  ... Labor force participation rate, female (% of female population ages 15+) (modeled ILO estimate)\n",
              "861         861  ...                                          64.636002                                             \n",
              "\n",
              "[1 rows x 11 columns]"
            ]
          },
          "metadata": {
            "tags": []
          },
          "execution_count": 37
        }
      ]
    },
    {
      "cell_type": "code",
      "metadata": {
        "colab": {
          "base_uri": "https://localhost:8080/",
          "height": 110
        },
        "id": "-9rN_2_C2uVa",
        "outputId": "1169d4a8-a351-4ca6-be7c-aff0fd70817b"
      },
      "source": [
        "africa_chad[africa_chad['Year']==1996]"
      ],
      "execution_count": 38,
      "outputs": [
        {
          "output_type": "execute_result",
          "data": {
            "text/html": [
              "<div>\n",
              "<style scoped>\n",
              "    .dataframe tbody tr th:only-of-type {\n",
              "        vertical-align: middle;\n",
              "    }\n",
              "\n",
              "    .dataframe tbody tr th {\n",
              "        vertical-align: top;\n",
              "    }\n",
              "\n",
              "    .dataframe thead th {\n",
              "        text-align: right;\n",
              "    }\n",
              "</style>\n",
              "<table border=\"1\" class=\"dataframe\">\n",
              "  <thead>\n",
              "    <tr style=\"text-align: right;\">\n",
              "      <th></th>\n",
              "      <th>Unnamed: 0</th>\n",
              "      <th>Country</th>\n",
              "      <th>Year</th>\n",
              "      <th>Region</th>\n",
              "      <th>IncomeGroup</th>\n",
              "      <th>Country Code</th>\n",
              "      <th>TFR</th>\n",
              "      <th>HDI Rank (2018)</th>\n",
              "      <th>HDI</th>\n",
              "      <th>Females in secondary education (%)</th>\n",
              "      <th>Labor force participation rate, female (% of female population ages 15+) (modeled ILO estimate)</th>\n",
              "    </tr>\n",
              "  </thead>\n",
              "  <tbody>\n",
              "    <tr>\n",
              "      <th>862</th>\n",
              "      <td>862</td>\n",
              "      <td>Chad</td>\n",
              "      <td>1996</td>\n",
              "      <td>Sub-Saharan Africa</td>\n",
              "      <td>Low income</td>\n",
              "      <td>TCD</td>\n",
              "      <td>7.426</td>\n",
              "      <td>187.0</td>\n",
              "      <td>NaN</td>\n",
              "      <td>19.78372</td>\n",
              "      <td>64.591003</td>\n",
              "    </tr>\n",
              "  </tbody>\n",
              "</table>\n",
              "</div>"
            ],
            "text/plain": [
              "     Unnamed: 0  ... Labor force participation rate, female (% of female population ages 15+) (modeled ILO estimate)\n",
              "862         862  ...                                          64.591003                                             \n",
              "\n",
              "[1 rows x 11 columns]"
            ]
          },
          "metadata": {
            "tags": []
          },
          "execution_count": 38
        }
      ]
    },
    {
      "cell_type": "code",
      "metadata": {
        "colab": {
          "base_uri": "https://localhost:8080/",
          "height": 110
        },
        "id": "iQi9DfB02rFZ",
        "outputId": "d8ab7fc1-bd5d-4f16-9596-767c002d328c"
      },
      "source": [
        "africa_chad[africa_chad['Year']==1997]"
      ],
      "execution_count": 39,
      "outputs": [
        {
          "output_type": "execute_result",
          "data": {
            "text/html": [
              "<div>\n",
              "<style scoped>\n",
              "    .dataframe tbody tr th:only-of-type {\n",
              "        vertical-align: middle;\n",
              "    }\n",
              "\n",
              "    .dataframe tbody tr th {\n",
              "        vertical-align: top;\n",
              "    }\n",
              "\n",
              "    .dataframe thead th {\n",
              "        text-align: right;\n",
              "    }\n",
              "</style>\n",
              "<table border=\"1\" class=\"dataframe\">\n",
              "  <thead>\n",
              "    <tr style=\"text-align: right;\">\n",
              "      <th></th>\n",
              "      <th>Unnamed: 0</th>\n",
              "      <th>Country</th>\n",
              "      <th>Year</th>\n",
              "      <th>Region</th>\n",
              "      <th>IncomeGroup</th>\n",
              "      <th>Country Code</th>\n",
              "      <th>TFR</th>\n",
              "      <th>HDI Rank (2018)</th>\n",
              "      <th>HDI</th>\n",
              "      <th>Females in secondary education (%)</th>\n",
              "      <th>Labor force participation rate, female (% of female population ages 15+) (modeled ILO estimate)</th>\n",
              "    </tr>\n",
              "  </thead>\n",
              "  <tbody>\n",
              "    <tr>\n",
              "      <th>863</th>\n",
              "      <td>863</td>\n",
              "      <td>Chad</td>\n",
              "      <td>1997</td>\n",
              "      <td>Sub-Saharan Africa</td>\n",
              "      <td>Low income</td>\n",
              "      <td>TCD</td>\n",
              "      <td>7.419</td>\n",
              "      <td>187.0</td>\n",
              "      <td>NaN</td>\n",
              "      <td>20.34393</td>\n",
              "      <td>64.583</td>\n",
              "    </tr>\n",
              "  </tbody>\n",
              "</table>\n",
              "</div>"
            ],
            "text/plain": [
              "     Unnamed: 0  ... Labor force participation rate, female (% of female population ages 15+) (modeled ILO estimate)\n",
              "863         863  ...                                             64.583                                             \n",
              "\n",
              "[1 rows x 11 columns]"
            ]
          },
          "metadata": {
            "tags": []
          },
          "execution_count": 39
        }
      ]
    },
    {
      "cell_type": "code",
      "metadata": {
        "colab": {
          "base_uri": "https://localhost:8080/",
          "height": 110
        },
        "id": "Mp7GYxnI2pQP",
        "outputId": "71b0cdc3-e77f-4986-8cb8-9c997a66fd2f"
      },
      "source": [
        "africa_chad[africa_chad['Year']==1998]"
      ],
      "execution_count": 40,
      "outputs": [
        {
          "output_type": "execute_result",
          "data": {
            "text/html": [
              "<div>\n",
              "<style scoped>\n",
              "    .dataframe tbody tr th:only-of-type {\n",
              "        vertical-align: middle;\n",
              "    }\n",
              "\n",
              "    .dataframe tbody tr th {\n",
              "        vertical-align: top;\n",
              "    }\n",
              "\n",
              "    .dataframe thead th {\n",
              "        text-align: right;\n",
              "    }\n",
              "</style>\n",
              "<table border=\"1\" class=\"dataframe\">\n",
              "  <thead>\n",
              "    <tr style=\"text-align: right;\">\n",
              "      <th></th>\n",
              "      <th>Unnamed: 0</th>\n",
              "      <th>Country</th>\n",
              "      <th>Year</th>\n",
              "      <th>Region</th>\n",
              "      <th>IncomeGroup</th>\n",
              "      <th>Country Code</th>\n",
              "      <th>TFR</th>\n",
              "      <th>HDI Rank (2018)</th>\n",
              "      <th>HDI</th>\n",
              "      <th>Females in secondary education (%)</th>\n",
              "      <th>Labor force participation rate, female (% of female population ages 15+) (modeled ILO estimate)</th>\n",
              "    </tr>\n",
              "  </thead>\n",
              "  <tbody>\n",
              "    <tr>\n",
              "      <th>864</th>\n",
              "      <td>864</td>\n",
              "      <td>Chad</td>\n",
              "      <td>1998</td>\n",
              "      <td>Sub-Saharan Africa</td>\n",
              "      <td>Low income</td>\n",
              "      <td>TCD</td>\n",
              "      <td>7.405</td>\n",
              "      <td>187.0</td>\n",
              "      <td>NaN</td>\n",
              "      <td>20.56319</td>\n",
              "      <td>64.589996</td>\n",
              "    </tr>\n",
              "  </tbody>\n",
              "</table>\n",
              "</div>"
            ],
            "text/plain": [
              "     Unnamed: 0  ... Labor force participation rate, female (% of female population ages 15+) (modeled ILO estimate)\n",
              "864         864  ...                                          64.589996                                             \n",
              "\n",
              "[1 rows x 11 columns]"
            ]
          },
          "metadata": {
            "tags": []
          },
          "execution_count": 40
        }
      ]
    },
    {
      "cell_type": "code",
      "metadata": {
        "colab": {
          "base_uri": "https://localhost:8080/",
          "height": 110
        },
        "id": "ghnGmUv_2gY9",
        "outputId": "ed8a64d5-e9e9-47aa-e5e8-b35f7838df72"
      },
      "source": [
        "africa_chad[africa_chad['Year']==1999]"
      ],
      "execution_count": 41,
      "outputs": [
        {
          "output_type": "execute_result",
          "data": {
            "text/html": [
              "<div>\n",
              "<style scoped>\n",
              "    .dataframe tbody tr th:only-of-type {\n",
              "        vertical-align: middle;\n",
              "    }\n",
              "\n",
              "    .dataframe tbody tr th {\n",
              "        vertical-align: top;\n",
              "    }\n",
              "\n",
              "    .dataframe thead th {\n",
              "        text-align: right;\n",
              "    }\n",
              "</style>\n",
              "<table border=\"1\" class=\"dataframe\">\n",
              "  <thead>\n",
              "    <tr style=\"text-align: right;\">\n",
              "      <th></th>\n",
              "      <th>Unnamed: 0</th>\n",
              "      <th>Country</th>\n",
              "      <th>Year</th>\n",
              "      <th>Region</th>\n",
              "      <th>IncomeGroup</th>\n",
              "      <th>Country Code</th>\n",
              "      <th>TFR</th>\n",
              "      <th>HDI Rank (2018)</th>\n",
              "      <th>HDI</th>\n",
              "      <th>Females in secondary education (%)</th>\n",
              "      <th>Labor force participation rate, female (% of female population ages 15+) (modeled ILO estimate)</th>\n",
              "    </tr>\n",
              "  </thead>\n",
              "  <tbody>\n",
              "    <tr>\n",
              "      <th>865</th>\n",
              "      <td>865</td>\n",
              "      <td>Chad</td>\n",
              "      <td>1999</td>\n",
              "      <td>Sub-Saharan Africa</td>\n",
              "      <td>Low income</td>\n",
              "      <td>TCD</td>\n",
              "      <td>7.384</td>\n",
              "      <td>187.0</td>\n",
              "      <td>NaN</td>\n",
              "      <td>20.68748</td>\n",
              "      <td>64.538002</td>\n",
              "    </tr>\n",
              "  </tbody>\n",
              "</table>\n",
              "</div>"
            ],
            "text/plain": [
              "     Unnamed: 0  ... Labor force participation rate, female (% of female population ages 15+) (modeled ILO estimate)\n",
              "865         865  ...                                          64.538002                                             \n",
              "\n",
              "[1 rows x 11 columns]"
            ]
          },
          "metadata": {
            "tags": []
          },
          "execution_count": 41
        }
      ]
    },
    {
      "cell_type": "code",
      "metadata": {
        "colab": {
          "base_uri": "https://localhost:8080/",
          "height": 110
        },
        "id": "aTyU4ahU2kcz",
        "outputId": "6b9a8724-f025-416a-c9a7-c8592c4680e2"
      },
      "source": [
        "africa_chad[africa_chad['Year']==2000]"
      ],
      "execution_count": 42,
      "outputs": [
        {
          "output_type": "execute_result",
          "data": {
            "text/html": [
              "<div>\n",
              "<style scoped>\n",
              "    .dataframe tbody tr th:only-of-type {\n",
              "        vertical-align: middle;\n",
              "    }\n",
              "\n",
              "    .dataframe tbody tr th {\n",
              "        vertical-align: top;\n",
              "    }\n",
              "\n",
              "    .dataframe thead th {\n",
              "        text-align: right;\n",
              "    }\n",
              "</style>\n",
              "<table border=\"1\" class=\"dataframe\">\n",
              "  <thead>\n",
              "    <tr style=\"text-align: right;\">\n",
              "      <th></th>\n",
              "      <th>Unnamed: 0</th>\n",
              "      <th>Country</th>\n",
              "      <th>Year</th>\n",
              "      <th>Region</th>\n",
              "      <th>IncomeGroup</th>\n",
              "      <th>Country Code</th>\n",
              "      <th>TFR</th>\n",
              "      <th>HDI Rank (2018)</th>\n",
              "      <th>HDI</th>\n",
              "      <th>Females in secondary education (%)</th>\n",
              "      <th>Labor force participation rate, female (% of female population ages 15+) (modeled ILO estimate)</th>\n",
              "    </tr>\n",
              "  </thead>\n",
              "  <tbody>\n",
              "    <tr>\n",
              "      <th>866</th>\n",
              "      <td>866</td>\n",
              "      <td>Chad</td>\n",
              "      <td>2000</td>\n",
              "      <td>Sub-Saharan Africa</td>\n",
              "      <td>Low income</td>\n",
              "      <td>TCD</td>\n",
              "      <td>7.354</td>\n",
              "      <td>187.0</td>\n",
              "      <td>0.298</td>\n",
              "      <td>22.10113</td>\n",
              "      <td>64.484001</td>\n",
              "    </tr>\n",
              "  </tbody>\n",
              "</table>\n",
              "</div>"
            ],
            "text/plain": [
              "     Unnamed: 0  ... Labor force participation rate, female (% of female population ages 15+) (modeled ILO estimate)\n",
              "866         866  ...                                          64.484001                                             \n",
              "\n",
              "[1 rows x 11 columns]"
            ]
          },
          "metadata": {
            "tags": []
          },
          "execution_count": 42
        }
      ]
    },
    {
      "cell_type": "code",
      "metadata": {
        "colab": {
          "base_uri": "https://localhost:8080/",
          "height": 110
        },
        "id": "Re9sr0Gnywbg",
        "outputId": "1aabeee6-7c91-467f-beb8-6adf297435d5"
      },
      "source": [
        "africa_chad[africa_chad['Year']==2018]"
      ],
      "execution_count": 43,
      "outputs": [
        {
          "output_type": "execute_result",
          "data": {
            "text/html": [
              "<div>\n",
              "<style scoped>\n",
              "    .dataframe tbody tr th:only-of-type {\n",
              "        vertical-align: middle;\n",
              "    }\n",
              "\n",
              "    .dataframe tbody tr th {\n",
              "        vertical-align: top;\n",
              "    }\n",
              "\n",
              "    .dataframe thead th {\n",
              "        text-align: right;\n",
              "    }\n",
              "</style>\n",
              "<table border=\"1\" class=\"dataframe\">\n",
              "  <thead>\n",
              "    <tr style=\"text-align: right;\">\n",
              "      <th></th>\n",
              "      <th>Unnamed: 0</th>\n",
              "      <th>Country</th>\n",
              "      <th>Year</th>\n",
              "      <th>Region</th>\n",
              "      <th>IncomeGroup</th>\n",
              "      <th>Country Code</th>\n",
              "      <th>TFR</th>\n",
              "      <th>HDI Rank (2018)</th>\n",
              "      <th>HDI</th>\n",
              "      <th>Females in secondary education (%)</th>\n",
              "      <th>Labor force participation rate, female (% of female population ages 15+) (modeled ILO estimate)</th>\n",
              "    </tr>\n",
              "  </thead>\n",
              "  <tbody>\n",
              "    <tr>\n",
              "      <th>884</th>\n",
              "      <td>884</td>\n",
              "      <td>Chad</td>\n",
              "      <td>2018</td>\n",
              "      <td>Sub-Saharan Africa</td>\n",
              "      <td>Low income</td>\n",
              "      <td>TCD</td>\n",
              "      <td>5.747</td>\n",
              "      <td>187.0</td>\n",
              "      <td>0.401</td>\n",
              "      <td>NaN</td>\n",
              "      <td>NaN</td>\n",
              "    </tr>\n",
              "  </tbody>\n",
              "</table>\n",
              "</div>"
            ],
            "text/plain": [
              "     Unnamed: 0  ... Labor force participation rate, female (% of female population ages 15+) (modeled ILO estimate)\n",
              "884         884  ...                                                NaN                                             \n",
              "\n",
              "[1 rows x 11 columns]"
            ]
          },
          "metadata": {
            "tags": []
          },
          "execution_count": 43
        }
      ]
    },
    {
      "cell_type": "code",
      "metadata": {
        "colab": {
          "base_uri": "https://localhost:8080/",
          "height": 110
        },
        "id": "qYJ4aBk9ygoB",
        "outputId": "6bb77400-850a-426f-84d1-758e8fdc923e"
      },
      "source": [
        "africa_niger[africa_niger['Year']==1990]"
      ],
      "execution_count": 44,
      "outputs": [
        {
          "output_type": "execute_result",
          "data": {
            "text/html": [
              "<div>\n",
              "<style scoped>\n",
              "    .dataframe tbody tr th:only-of-type {\n",
              "        vertical-align: middle;\n",
              "    }\n",
              "\n",
              "    .dataframe tbody tr th {\n",
              "        vertical-align: top;\n",
              "    }\n",
              "\n",
              "    .dataframe thead th {\n",
              "        text-align: right;\n",
              "    }\n",
              "</style>\n",
              "<table border=\"1\" class=\"dataframe\">\n",
              "  <thead>\n",
              "    <tr style=\"text-align: right;\">\n",
              "      <th></th>\n",
              "      <th>Unnamed: 0</th>\n",
              "      <th>Country</th>\n",
              "      <th>Year</th>\n",
              "      <th>Region</th>\n",
              "      <th>IncomeGroup</th>\n",
              "      <th>Country Code</th>\n",
              "      <th>TFR</th>\n",
              "      <th>HDI Rank (2018)</th>\n",
              "      <th>HDI</th>\n",
              "      <th>Females in secondary education (%)</th>\n",
              "      <th>Labor force participation rate, female (% of female population ages 15+) (modeled ILO estimate)</th>\n",
              "    </tr>\n",
              "  </thead>\n",
              "  <tbody>\n",
              "    <tr>\n",
              "      <th>2272</th>\n",
              "      <td>2272</td>\n",
              "      <td>Niger</td>\n",
              "      <td>1990</td>\n",
              "      <td>Sub-Saharan Africa</td>\n",
              "      <td>Low income</td>\n",
              "      <td>NER</td>\n",
              "      <td>7.772</td>\n",
              "      <td>189.0</td>\n",
              "      <td>0.213</td>\n",
              "      <td>29.25152</td>\n",
              "      <td>68.133003</td>\n",
              "    </tr>\n",
              "  </tbody>\n",
              "</table>\n",
              "</div>"
            ],
            "text/plain": [
              "      Unnamed: 0  ... Labor force participation rate, female (% of female population ages 15+) (modeled ILO estimate)\n",
              "2272        2272  ...                                          68.133003                                             \n",
              "\n",
              "[1 rows x 11 columns]"
            ]
          },
          "metadata": {
            "tags": []
          },
          "execution_count": 44
        }
      ]
    },
    {
      "cell_type": "code",
      "metadata": {
        "colab": {
          "base_uri": "https://localhost:8080/",
          "height": 110
        },
        "id": "BGAf_WbMyza6",
        "outputId": "454aa441-369b-4c80-d2ea-e64bf4da9855"
      },
      "source": [
        "africa_niger[africa_niger['Year']==2018]"
      ],
      "execution_count": 45,
      "outputs": [
        {
          "output_type": "execute_result",
          "data": {
            "text/html": [
              "<div>\n",
              "<style scoped>\n",
              "    .dataframe tbody tr th:only-of-type {\n",
              "        vertical-align: middle;\n",
              "    }\n",
              "\n",
              "    .dataframe tbody tr th {\n",
              "        vertical-align: top;\n",
              "    }\n",
              "\n",
              "    .dataframe thead th {\n",
              "        text-align: right;\n",
              "    }\n",
              "</style>\n",
              "<table border=\"1\" class=\"dataframe\">\n",
              "  <thead>\n",
              "    <tr style=\"text-align: right;\">\n",
              "      <th></th>\n",
              "      <th>Unnamed: 0</th>\n",
              "      <th>Country</th>\n",
              "      <th>Year</th>\n",
              "      <th>Region</th>\n",
              "      <th>IncomeGroup</th>\n",
              "      <th>Country Code</th>\n",
              "      <th>TFR</th>\n",
              "      <th>HDI Rank (2018)</th>\n",
              "      <th>HDI</th>\n",
              "      <th>Females in secondary education (%)</th>\n",
              "      <th>Labor force participation rate, female (% of female population ages 15+) (modeled ILO estimate)</th>\n",
              "    </tr>\n",
              "  </thead>\n",
              "  <tbody>\n",
              "    <tr>\n",
              "      <th>2300</th>\n",
              "      <td>2300</td>\n",
              "      <td>Niger</td>\n",
              "      <td>2018</td>\n",
              "      <td>Sub-Saharan Africa</td>\n",
              "      <td>Low income</td>\n",
              "      <td>NER</td>\n",
              "      <td>6.913</td>\n",
              "      <td>189.0</td>\n",
              "      <td>0.377</td>\n",
              "      <td>NaN</td>\n",
              "      <td>NaN</td>\n",
              "    </tr>\n",
              "  </tbody>\n",
              "</table>\n",
              "</div>"
            ],
            "text/plain": [
              "      Unnamed: 0  ... Labor force participation rate, female (% of female population ages 15+) (modeled ILO estimate)\n",
              "2300        2300  ...                                                NaN                                             \n",
              "\n",
              "[1 rows x 11 columns]"
            ]
          },
          "metadata": {
            "tags": []
          },
          "execution_count": 45
        }
      ]
    },
    {
      "cell_type": "markdown",
      "metadata": {
        "id": "JWLVanqdaJgY"
      },
      "source": [
        "**Creating Visualisations**\r\n",
        "\r\n",
        "The darker the colour, the higher the HDI\r\n",
        "Red = highest HDI countries\r\n",
        "Blue = lowest HDI countries"
      ]
    },
    {
      "cell_type": "markdown",
      "metadata": {
        "id": "GWfImhSxk8yE"
      },
      "source": [
        "3 Highest HDI Countries"
      ]
    },
    {
      "cell_type": "code",
      "metadata": {
        "colab": {
          "base_uri": "https://localhost:8080/",
          "height": 513
        },
        "id": "aDvcqUpxj1C5",
        "outputId": "a4362ce0-2d31-4b2a-fc5b-2326a1f81d18"
      },
      "source": [
        "ax = africa_high.loc[africa_high['Country']=='Seychelles'].plot(x='Year', y= 'TFR', kind='scatter', c = 'maroon', label = 'Seychelles')\r\n",
        "africa_high.loc[africa_high['Country']=='Mauritius'].plot(x='Year', y= 'TFR', kind='scatter', c = 'red', ax=ax, label = 'Mauritius')\r\n",
        "africa_high.loc[africa_high['Country']=='Algeria'].plot(x='Year', y= 'TFR', kind='scatter', c = 'lightcoral', ax=ax, label = 'Algeria')\r\n",
        "ax.legend(loc='upper right')\r\n",
        "ax.set_title('3 Highest HDI Countries: TFR 1960-2018')\r\n",
        "ax.figure.savefig('Scatter Plot 3 Highest HDI Countries: TFR 1960-2018.png')\r\n",
        "#TFR of 3 highest HDI countries"
      ],
      "execution_count": 139,
      "outputs": [
        {
          "output_type": "display_data",
          "data": {
            "image/png": "[encoded data removed]",
            "text/plain": [
              "<Figure size 720x576 with 1 Axes>"
            ]
          },
          "metadata": {
            "tags": [],
            "needs_background": "light"
          }
        }
      ]
    },
    {
      "cell_type": "code",
      "metadata": {
        "colab": {
          "base_uri": "https://localhost:8080/",
          "height": 513
        },
        "id": "GlISz511kAj_",
        "outputId": "303ab857-ccc7-4919-f21f-8fc192c1d889"
      },
      "source": [
        "ax = africa_high.loc[africa_high['Country']=='Seychelles'].plot(x='Year', y='TFR', kind='line', c = 'maroon', label = 'Seychelles')\r\n",
        "africa_high.loc[africa_high['Country']=='Mauritius'].plot(x='Year', y='TFR', kind='line', c = 'red', ax=ax, label = 'Mauritius')\r\n",
        "africa_high.loc[africa_high['Country']=='Algeria'].plot(x='Year', y='TFR', kind='line', c = 'lightcoral', ax=ax, label = 'Algeria')\r\n",
        "ax.set_ylabel('TFR')\r\n",
        "ax.legend(loc='upper right')\r\n",
        "ax.set_title('3 Highest HDI Countries: TFR 1960-2020')\r\n",
        "ax.figure.savefig('Line Plot 3 Highest HDI Countries: TFR 1960-2018.png')\r\n",
        "#TFR of 3 highest HDI countries"
      ],
      "execution_count": 140,
      "outputs": [
        {
          "output_type": "display_data",
          "data": {
            "image/png": "[encoded data removed]",
            "text/plain": [
              "<Figure size 720x576 with 1 Axes>"
            ]
          },
          "metadata": {
            "tags": [],
            "needs_background": "light"
          }
        }
      ]
    },
    {
      "cell_type": "code",
      "metadata": {
        "colab": {
          "base_uri": "https://localhost:8080/",
          "height": 522
        },
        "id": "ulMhw8uDlGR3",
        "outputId": "636175bb-2541-4c27-bab3-dfecd09ab2ba"
      },
      "source": [
        "ax = africa_high.loc[africa_high['Country']=='Seychelles'].plot(x='Year', y= 'Labor force participation rate, female (% of female population ages 15+) (modeled ILO estimate)', kind='scatter', c = 'maroon', label = 'Seychelles')\r\n",
        "africa_high.loc[africa_high['Country']=='Mauritius'].plot(x='Year', y= 'Labor force participation rate, female (% of female population ages 15+) (modeled ILO estimate)', kind='scatter', c = 'red', ax=ax, label = 'Mauritius')\r\n",
        "africa_high.loc[africa_high['Country']=='Algeria'].plot(x='Year', y= 'Labor force participation rate, female (% of female population ages 15+) (modeled ILO estimate)', kind='scatter', c = 'lightcoral', ax=ax, label = 'Algeria')\r\n",
        "ax.legend(loc='best')\r\n",
        "ax.set_title('3 Highest HDI Countries: FLPR 1990-2017')\r\n",
        "ax.figure.savefig('Scatter Plot 3 Highest HDI Countries: FLPR 1990-2017.png')\r\n",
        "#FLPR of 3 highest HDI countries"
      ],
      "execution_count": 142,
      "outputs": [
        {
          "output_type": "display_data",
          "data": {
            "image/png": "[encoded data removed]",
            "text/plain": [
              "<Figure size 720x576 with 1 Axes>"
            ]
          },
          "metadata": {
            "tags": [],
            "needs_background": "light"
          }
        }
      ]
    },
    {
      "cell_type": "code",
      "metadata": {
        "colab": {
          "base_uri": "https://localhost:8080/",
          "height": 522
        },
        "id": "ueq4e785lZgj",
        "outputId": "1abdccb0-f6bc-4cf4-909b-509330ec24d6"
      },
      "source": [
        "ax = africa_high.loc[africa_high['Country']=='Seychelles'].plot(x='Year', y= 'Labor force participation rate, female (% of female population ages 15+) (modeled ILO estimate)', kind='line', c = 'maroon', label = 'Seychelles')\r\n",
        "africa_high.loc[africa_high['Country']=='Mauritius'].plot(x='Year', y= 'Labor force participation rate, female (% of female population ages 15+) (modeled ILO estimate)', kind='line', c = 'red', ax=ax, label = 'Mauritius')\r\n",
        "africa_high.loc[africa_high['Country']=='Algeria'].plot(x='Year', y= 'Labor force participation rate, female (% of female population ages 15+) (modeled ILO estimate)', kind='line', c = 'lightcoral', ax=ax, label = 'Algeria')\r\n",
        "ax.set_ylabel('Labor force participation rate, female (% of female population ages 15+) (modeled ILO estimate)')\r\n",
        "ax.legend(loc='best')\r\n",
        "ax.set_title('3 Highest HDI Countries: FLPR 1990-2017')\r\n",
        "ax.figure.savefig('Line Plot 3 Highest HDI Countries: FLPR 1990-2017.png')\r\n",
        "#FLPR of 3 highest HDI countries"
      ],
      "execution_count": 144,
      "outputs": [
        {
          "output_type": "display_data",
          "data": {
            "image/png": "[encoded data removed]",
            "text/plain": [
              "<Figure size 720x576 with 1 Axes>"
            ]
          },
          "metadata": {
            "tags": [],
            "needs_background": "light"
          }
        }
      ]
    },
    {
      "cell_type": "code",
      "metadata": {
        "colab": {
          "base_uri": "https://localhost:8080/",
          "height": 513
        },
        "id": "_bJJVeC8n4Ik",
        "outputId": "7b1ee0f2-3c70-413b-e71c-a8ebd1dc00e3"
      },
      "source": [
        "ax = africa_high.loc[africa_high['Country']=='Seychelles'].plot(x='Year', y= 'HDI', kind='scatter', c = 'maroon', label = 'Seychelles')\r\n",
        "africa_high.loc[africa_high['Country']=='Mauritius'].plot(x='Year', y= 'HDI', kind='scatter', c = 'red', ax=ax, label = 'Mauritius')\r\n",
        "africa_high.loc[africa_high['Country']=='Algeria'].plot(x='Year', y= 'HDI', kind='scatter', c = 'lightcoral', ax=ax, label = 'Algeria')\r\n",
        "ax.legend(loc='best')\r\n",
        "ax.set_title('3 Highest HDI Countries: HDI 1990-2018')\r\n",
        "ax.figure.savefig('Scatter Plot 3 Highest HDI Countries: HDI 1990-2018.png')\r\n",
        "#HDI of 3 highest HDI countries"
      ],
      "execution_count": 145,
      "outputs": [
        {
          "output_type": "display_data",
          "data": {
            "image/png": "[encoded data removed]",
            "text/plain": [
              "<Figure size 720x576 with 1 Axes>"
            ]
          },
          "metadata": {
            "tags": [],
            "needs_background": "light"
          }
        }
      ]
    },
    {
      "cell_type": "code",
      "metadata": {
        "colab": {
          "base_uri": "https://localhost:8080/",
          "height": 513
        },
        "id": "4zDQR3Cu04JV",
        "outputId": "8a03467d-805d-47a6-c19d-666c5d1dbd94"
      },
      "source": [
        "ax = africa_high.loc[africa_high['Country']=='Seychelles'].plot(x='Year', y= 'HDI', kind='line', c = 'maroon', label = 'Seychelles')\r\n",
        "africa_high.loc[africa_high['Country']=='Mauritius'].plot(x='Year', y= 'HDI', kind='line', c = 'red', ax=ax, label = 'Mauritius')\r\n",
        "africa_high.loc[africa_high['Country']=='Algeria'].plot(x='Year', y= 'HDI', kind='line', c = 'lightcoral', ax=ax, label = 'Algeria')\r\n",
        "ax.set_ylabel('HDI')\r\n",
        "ax.legend(loc='best')\r\n",
        "ax.set_title('3 Highest HDI Countries: HDI 1990-2018')\r\n",
        "ax.figure.savefig('Line Plot 3 Highest HDI Countries: HDI 1990-2018.png')\r\n",
        "#HDI of 3 highest HDI countries"
      ],
      "execution_count": 146,
      "outputs": [
        {
          "output_type": "display_data",
          "data": {
            "image/png": "[encoded data removed]",
            "text/plain": [
              "<Figure size 720x576 with 1 Axes>"
            ]
          },
          "metadata": {
            "tags": [],
            "needs_background": "light"
          }
        }
      ]
    },
    {
      "cell_type": "code",
      "metadata": {
        "colab": {
          "base_uri": "https://localhost:8080/",
          "height": 513
        },
        "id": "0yxBKJrl1wZF",
        "outputId": "e0cc3483-7029-4a38-ec24-661b3a00163e"
      },
      "source": [
        "ax = africa_high.loc[africa_high['Country']=='Seychelles'].plot(x='HDI', y= 'TFR', kind='scatter', c = 'maroon', label = 'Seychelles')\r\n",
        "africa_high.loc[africa_high['Country']=='Mauritius'].plot(x='HDI', y= 'TFR', kind='scatter', c = 'red', ax=ax, label = 'Mauritius')\r\n",
        "africa_high.loc[africa_high['Country']=='Algeria'].plot(x='HDI', y= 'TFR', kind='scatter', c = 'lightcoral', ax=ax, label = 'Algeria')\r\n",
        "ax.legend(loc='best')\r\n",
        "ax.set_title('3 Highest HDI Countries: HDI vs TFR')\r\n",
        "ax.figure.savefig('Scatter Plot 3 Highest HDI Countries: HDI vs TFR.png')\r\n",
        "#HDI vs TFR of 3 highest HDI countries"
      ],
      "execution_count": 147,
      "outputs": [
        {
          "output_type": "display_data",
          "data": {
            "image/png": "[encoded data removed]",
            "text/plain": [
              "<Figure size 720x576 with 1 Axes>"
            ]
          },
          "metadata": {
            "tags": [],
            "needs_background": "light"
          }
        }
      ]
    },
    {
      "cell_type": "code",
      "metadata": {
        "colab": {
          "base_uri": "https://localhost:8080/",
          "height": 513
        },
        "id": "-d6QlwYT17Sp",
        "outputId": "af80e723-87d9-4d0e-89ac-d43fef48786d"
      },
      "source": [
        "ax = africa_high.loc[africa_high['Country']=='Seychelles'].plot(x='HDI', y= 'TFR', kind='line', c = 'maroon', label = 'Seychelles')\r\n",
        "africa_high.loc[africa_high['Country']=='Mauritius'].plot(x='HDI', y= 'TFR', kind='line', c = 'red', ax=ax, label = 'Mauritius')\r\n",
        "africa_high.loc[africa_high['Country']=='Algeria'].plot(x='HDI', y= 'TFR', kind='line', c = 'lightcoral', ax=ax, label = 'Algeria')\r\n",
        "ax.set_ylabel('TFR')\r\n",
        "ax.legend(loc='best')\r\n",
        "ax.set_title('3 Highest HDI Countries: HDI vs TFR')\r\n",
        "ax.figure.savefig('Line Plot 3 Highest HDI Countries: HDI vs TFR.png')\r\n",
        "#HDI vs TFR of 3 highest HDI countries"
      ],
      "execution_count": 148,
      "outputs": [
        {
          "output_type": "display_data",
          "data": {
            "image/png": "[encoded data removed]",
            "text/plain": [
              "<Figure size 720x576 with 1 Axes>"
            ]
          },
          "metadata": {
            "tags": [],
            "needs_background": "light"
          }
        }
      ]
    },
    {
      "cell_type": "code",
      "metadata": {
        "colab": {
          "base_uri": "https://localhost:8080/",
          "height": 522
        },
        "id": "Zwq_rKd-2FIM",
        "outputId": "9f4a50ba-8ade-4111-8bb2-da2c12fb34eb"
      },
      "source": [
        "ax = africa_high.loc[africa_high['Country']=='Seychelles'].plot(x='HDI', y= 'Labor force participation rate, female (% of female population ages 15+) (modeled ILO estimate)', kind='scatter', c = 'maroon', label = 'Seychelles')\r\n",
        "africa_high.loc[africa_high['Country']=='Mauritius'].plot(x='HDI', y= 'Labor force participation rate, female (% of female population ages 15+) (modeled ILO estimate)', kind='scatter', c = 'red', ax=ax, label = 'Mauritius')\r\n",
        "africa_high.loc[africa_high['Country']=='Algeria'].plot(x='HDI', y= 'Labor force participation rate, female (% of female population ages 15+) (modeled ILO estimate)', kind='scatter', c = 'lightcoral', ax=ax, label = 'Algeria')\r\n",
        "ax.legend(loc='best')\r\n",
        "ax.set_title('3 Highest HDI Countries: HDI vs FLPR')\r\n",
        "ax.figure.savefig('Scatter Plot 3 Highest HDI Countries: HDI vs FLPR.png')\r\n",
        "#HDI vs FLPR of 3 highest HDI countries"
      ],
      "execution_count": 149,
      "outputs": [
        {
          "output_type": "display_data",
          "data": {
            "image/png": "[encoded data removed]",
            "text/plain": [
              "<Figure size 720x576 with 1 Axes>"
            ]
          },
          "metadata": {
            "tags": [],
            "needs_background": "light"
          }
        }
      ]
    },
    {
      "cell_type": "code",
      "metadata": {
        "colab": {
          "base_uri": "https://localhost:8080/",
          "height": 522
        },
        "id": "MBg6ttI12MhA",
        "outputId": "b2d32bfc-bc42-4562-e8db-943cd025e8d2"
      },
      "source": [
        "ax = africa_high.loc[africa_high['Country']=='Seychelles'].plot(x='HDI', y= 'Labor force participation rate, female (% of female population ages 15+) (modeled ILO estimate)', kind='line', c = 'maroon', label = 'Seychelles')\r\n",
        "africa_high.loc[africa_high['Country']=='Mauritius'].plot(x='HDI', y= 'Labor force participation rate, female (% of female population ages 15+) (modeled ILO estimate)', kind='line', c = 'red', ax=ax, label = 'Mauritius')\r\n",
        "africa_high.loc[africa_high['Country']=='Algeria'].plot(x='HDI', y= 'Labor force participation rate, female (% of female population ages 15+) (modeled ILO estimate)', kind='line', c = 'lightcoral', ax=ax, label = 'Algeria')\r\n",
        "ax.set_ylabel('Labor force participation rate, female (% of female population ages 15+) (modeled ILO estimate)')\r\n",
        "ax.legend(loc='best')\r\n",
        "ax.set_title('3 Highest HDI Countries: HDI vs FLPR')\r\n",
        "ax.figure.savefig('Line Plot 3 Highest HDI Countries: HDI vs FLPR.png')\r\n",
        "#HDI vs FLPR of 3 highest HDI countries"
      ],
      "execution_count": 150,
      "outputs": [
        {
          "output_type": "display_data",
          "data": {
            "image/png": "[encoded data removed]",
            "text/plain": [
              "<Figure size 720x576 with 1 Axes>"
            ]
          },
          "metadata": {
            "tags": [],
            "needs_background": "light"
          }
        }
      ]
    },
    {
      "cell_type": "code",
      "metadata": {
        "colab": {
          "base_uri": "https://localhost:8080/",
          "height": 522
        },
        "id": "Ph-Ks0Ks2U4-",
        "outputId": "0cf84413-04b6-4b89-fadb-bf3dee2998eb"
      },
      "source": [
        "ax = africa_high.loc[africa_high['Country']=='Seychelles'].plot(x='TFR', y= 'Labor force participation rate, female (% of female population ages 15+) (modeled ILO estimate)', kind='scatter', c = 'maroon', label = 'Seychelles')\r\n",
        "africa_high.loc[africa_high['Country']=='Mauritius'].plot(x='TFR', y= 'Labor force participation rate, female (% of female population ages 15+) (modeled ILO estimate)', kind='scatter', c = 'red', ax=ax, label = 'Mauritius')\r\n",
        "africa_high.loc[africa_high['Country']=='Algeria'].plot(x='TFR', y= 'Labor force participation rate, female (% of female population ages 15+) (modeled ILO estimate)', kind='scatter', c = 'lightcoral', ax=ax, label = 'Algeria')\r\n",
        "ax.legend(loc='best')\r\n",
        "ax.set_title('3 Highest HDI Countries: TFR vs FLPR')\r\n",
        "ax.figure.savefig('Scatter Plot 3 Highest HDI Countries: TFR vs FLPR.png')\r\n",
        "#TFR vs FLPR of 3 highest HDI countries"
      ],
      "execution_count": 151,
      "outputs": [
        {
          "output_type": "display_data",
          "data": {
            "image/png": "[encoded data removed]",
            "text/plain": [
              "<Figure size 720x576 with 1 Axes>"
            ]
          },
          "metadata": {
            "tags": [],
            "needs_background": "light"
          }
        }
      ]
    },
    {
      "cell_type": "code",
      "metadata": {
        "colab": {
          "base_uri": "https://localhost:8080/",
          "height": 522
        },
        "id": "9EH3Gpt52WCj",
        "outputId": "eb050116-be4b-4d6e-cf42-2958c99a3e4b"
      },
      "source": [
        "ax = africa_high.loc[africa_high['Country']=='Seychelles'].plot(x='TFR', y= 'Labor force participation rate, female (% of female population ages 15+) (modeled ILO estimate)', kind='line', c = 'maroon', label = 'Seychelles')\r\n",
        "africa_high.loc[africa_high['Country']=='Mauritius'].plot(x='TFR', y= 'Labor force participation rate, female (% of female population ages 15+) (modeled ILO estimate)', kind='line', c = 'red', ax=ax, label = 'Mauritius')\r\n",
        "africa_high.loc[africa_high['Country']=='Algeria'].plot(x='TFR', y= 'Labor force participation rate, female (% of female population ages 15+) (modeled ILO estimate)', kind='line', c = 'lightcoral', ax=ax, label = 'Algeria')\r\n",
        "ax.set_ylabel('Labor force participation rate, female (% of female population ages 15+) (modeled ILO estimate)')\r\n",
        "ax.legend(loc='best')\r\n",
        "ax.set_title('3 Highest HDI Countries: TFR vs FLPR')\r\n",
        "ax.figure.savefig('Line Plot 3 Highest HDI Countries: TFR vs FLPR.png')\r\n",
        "#TFR vs FLPR of 3 highest HDI countries"
      ],
      "execution_count": 153,
      "outputs": [
        {
          "output_type": "display_data",
          "data": {
            "image/png": "[encoded data removed]",
            "text/plain": [
              "<Figure size 720x576 with 1 Axes>"
            ]
          },
          "metadata": {
            "tags": [],
            "needs_background": "light"
          }
        }
      ]
    },
    {
      "cell_type": "markdown",
      "metadata": {
        "id": "Cbff4_EmlAxv"
      },
      "source": [
        "3 Lowest HDI Countries"
      ]
    },
    {
      "cell_type": "code",
      "metadata": {
        "colab": {
          "base_uri": "https://localhost:8080/",
          "height": 513
        },
        "id": "26IvYP0BkKHP",
        "outputId": "72713f97-f37c-420c-c66b-5be350cf65ab"
      },
      "source": [
        "ax = africa_low.loc[africa_low['Country']=='Niger'].plot(x='Year', y= 'TFR', kind='scatter', c = 'cornflowerblue', label = 'Niger')\r\n",
        "africa_low.loc[africa_low['Country']=='Central African Republic'].plot(x='Year', y= 'TFR', kind='scatter', c = 'mediumblue', ax=ax, label = 'Central African Republic')\r\n",
        "africa_low.loc[africa_low['Country']=='Chad'].plot(x='Year', y= 'TFR', kind='scatter', c = 'navy', ax=ax, label = 'Chad')\r\n",
        "ax.legend(loc='best')\r\n",
        "ax.set_title('3 Lowest HDI Countries: TFR 1960-2018')\r\n",
        "ax.figure.savefig('Scatter Plot 3 Lowest HDI Countries: TFR 1960-2018.png')\r\n",
        "#TFR of 3 lowest HDI countries"
      ],
      "execution_count": 154,
      "outputs": [
        {
          "output_type": "display_data",
          "data": {
            "image/png": "[encoded data removed]",
            "text/plain": [
              "<Figure size 720x576 with 1 Axes>"
            ]
          },
          "metadata": {
            "tags": [],
            "needs_background": "light"
          }
        }
      ]
    },
    {
      "cell_type": "code",
      "metadata": {
        "colab": {
          "base_uri": "https://localhost:8080/",
          "height": 513
        },
        "id": "wAQ2_-UxkN_h",
        "outputId": "b744236c-d317-4393-c5d7-581e1caebf5a"
      },
      "source": [
        "ax = africa_low.loc[africa_low['Country']=='Niger'].plot(x='Year', y= 'TFR', kind='line', c = 'cornflowerblue', label = 'Niger')\r\n",
        "africa_low.loc[africa_low['Country']=='Central African Republic'].plot(x='Year', y= 'TFR', kind='line', c = 'mediumblue', ax=ax, label = 'Central African Republic')\r\n",
        "africa_low.loc[africa_low['Country']=='Chad'].plot(x='Year', y= 'TFR', kind='line', c = 'navy', ax=ax, label = 'Chad')\r\n",
        "ax.set_ylabel('TFR')\r\n",
        "ax.legend(loc='best')\r\n",
        "ax.set_title('3 Lowest HDI Countries: TFR 1960-2018')\r\n",
        "ax.figure.savefig('Line Plot 3 Lowest HDI Countries: TFR 1960-2018.png')\r\n",
        "#TFR of 3 lowest HDI countries"
      ],
      "execution_count": 155,
      "outputs": [
        {
          "output_type": "display_data",
          "data": {
            "image/png": "[encoded data removed]",
            "text/plain": [
              "<Figure size 720x576 with 1 Axes>"
            ]
          },
          "metadata": {
            "tags": [],
            "needs_background": "light"
          }
        }
      ]
    },
    {
      "cell_type": "code",
      "metadata": {
        "colab": {
          "base_uri": "https://localhost:8080/",
          "height": 522
        },
        "id": "iLNQBdtPk6Zm",
        "outputId": "cc5477cf-b250-4ba8-e6bd-f08079aef907"
      },
      "source": [
        "ax = africa_low.loc[africa_low['Country']=='Niger'].plot(x='Year', y= 'Labor force participation rate, female (% of female population ages 15+) (modeled ILO estimate)', kind='scatter', c = 'cornflowerblue', label = 'Niger')\r\n",
        "africa_low.loc[africa_low['Country']=='Central African Republic'].plot(x='Year', y= 'Labor force participation rate, female (% of female population ages 15+) (modeled ILO estimate)', kind='scatter', c = 'mediumblue', ax=ax, label = 'Central African Republic')\r\n",
        "africa_low.loc[africa_low['Country']=='Chad'].plot(x='Year', y= 'Labor force participation rate, female (% of female population ages 15+) (modeled ILO estimate)', kind='scatter', c = 'navy', ax=ax, label = 'Chad')\r\n",
        "ax.legend(loc='best')\r\n",
        "ax.set_title('3 Lowest HDI Countries: FLPR 1990-2017')\r\n",
        "ax.figure.savefig('Scatter Plot 3 Lowest HDI Countries: FLPR 1990-2017.png')\r\n",
        "#FLPR of 3 lowest HDI countries"
      ],
      "execution_count": 156,
      "outputs": [
        {
          "output_type": "display_data",
          "data": {
            "image/png": "[encoded data removed]",
            "text/plain": [
              "<Figure size 720x576 with 1 Axes>"
            ]
          },
          "metadata": {
            "tags": [],
            "needs_background": "light"
          }
        }
      ]
    },
    {
      "cell_type": "code",
      "metadata": {
        "colab": {
          "base_uri": "https://localhost:8080/",
          "height": 522
        },
        "id": "ftzYjSkPloId",
        "outputId": "c9598b1b-7569-48c3-87e3-77e8d7fd166a"
      },
      "source": [
        "ax = africa_low.loc[africa_low['Country']=='Niger'].plot(x='Year', y= 'Labor force participation rate, female (% of female population ages 15+) (modeled ILO estimate)', kind='line', c = 'cornflowerblue', label = 'Niger')\r\n",
        "africa_low.loc[africa_low['Country']=='Central African Republic'].plot(x='Year', y= 'Labor force participation rate, female (% of female population ages 15+) (modeled ILO estimate)', kind='line', c = 'mediumblue', ax=ax, label = 'Central African Republic')\r\n",
        "africa_low.loc[africa_low['Country']=='Chad'].plot(x='Year', y= 'Labor force participation rate, female (% of female population ages 15+) (modeled ILO estimate)', kind='line', c = 'navy', ax=ax, label = 'Chad')\r\n",
        "ax.set_ylabel('Labor force participation rate, female (% of female population ages 15+) (modeled ILO estimate)')\r\n",
        "ax.legend(loc='best')\r\n",
        "ax.set_title('3 Lowest HDI Countries: FLPR 1990-2017')\r\n",
        "ax.figure.savefig('Line Plot 3 Lowest HDI Countries: FLPR 1990-2017.png')\r\n",
        "#FLPR of 3 lowest HDI countries"
      ],
      "execution_count": 157,
      "outputs": [
        {
          "output_type": "display_data",
          "data": {
            "image/png": "[encoded data removed]",
            "text/plain": [
              "<Figure size 720x576 with 1 Axes>"
            ]
          },
          "metadata": {
            "tags": [],
            "needs_background": "light"
          }
        }
      ]
    },
    {
      "cell_type": "code",
      "metadata": {
        "colab": {
          "base_uri": "https://localhost:8080/",
          "height": 513
        },
        "id": "kCgSdjC80-vS",
        "outputId": "6e863dcb-494b-4fbf-fa67-0012358f7bc4"
      },
      "source": [
        "ax = africa_low.loc[africa_low['Country']=='Niger'].plot(x='Year', y= 'HDI', kind='scatter', c = 'cornflowerblue', label = 'Niger')\r\n",
        "africa_low.loc[africa_low['Country']=='Central African Republic'].plot(x='Year', y= 'HDI', kind='scatter', c = 'mediumblue', ax=ax, label = 'Central African Republic')\r\n",
        "africa_low.loc[africa_low['Country']=='Chad'].plot(x='Year', y= 'HDI', kind='scatter', c = 'navy', ax=ax, label = 'Chad')\r\n",
        "ax.set_ylabel('HDI')\r\n",
        "ax.legend(loc='lower right')\r\n",
        "ax.set_title('3 Lowest HDI Countries: HDI 1990-2018')\r\n",
        "ax.figure.savefig('Scatter Plot 3 Lowest HDI Countries: HDI 1990-2018.png')\r\n",
        "#HDI of 3 lowest HDI countries"
      ],
      "execution_count": 158,
      "outputs": [
        {
          "output_type": "display_data",
          "data": {
            "image/png": "[encoded data removed]",
            "text/plain": [
              "<Figure size 720x576 with 1 Axes>"
            ]
          },
          "metadata": {
            "tags": [],
            "needs_background": "light"
          }
        }
      ]
    },
    {
      "cell_type": "code",
      "metadata": {
        "colab": {
          "base_uri": "https://localhost:8080/",
          "height": 513
        },
        "id": "ILggSMwA0_Dq",
        "outputId": "61b4df90-9a89-4e1f-cbfe-9ee4c069a119"
      },
      "source": [
        "ax = africa_low.loc[africa_low['Country']=='Niger'].plot(x='Year', y= 'HDI', kind='line', c = 'cornflowerblue', label = 'Niger')\r\n",
        "africa_low.loc[africa_low['Country']=='Central African Republic'].plot(x='Year', y= 'HDI', kind='line', c = 'mediumblue', ax=ax, label = 'Central African Republic')\r\n",
        "africa_low.loc[africa_low['Country']=='Chad'].plot(x='Year', y= 'HDI', kind='line', c = 'navy', ax=ax, label = 'Chad')\r\n",
        "ax.set_ylabel('HDI')\r\n",
        "ax.legend(loc='lower right')\r\n",
        "ax.set_title('3 Lowest HDI Countries: HDI 1990-2018')\r\n",
        "ax.figure.savefig('Line Plot 3 Lowest HDI Countries: HDI 1990-2018.png')\r\n",
        "#HDI of 3 lowest HDI countries"
      ],
      "execution_count": 159,
      "outputs": [
        {
          "output_type": "display_data",
          "data": {
            "image/png": "[encoded data removed]",
            "text/plain": [
              "<Figure size 720x576 with 1 Axes>"
            ]
          },
          "metadata": {
            "tags": [],
            "needs_background": "light"
          }
        }
      ]
    },
    {
      "cell_type": "code",
      "metadata": {
        "colab": {
          "base_uri": "https://localhost:8080/",
          "height": 513
        },
        "id": "dT6IX2RH1N58",
        "outputId": "8e9ada19-727f-4bd6-bed9-4896ecac2beb"
      },
      "source": [
        "ax = africa_low.loc[africa_low['Country']=='Niger'].plot(x='HDI', y= 'TFR', kind='scatter', c = 'cornflowerblue', label = 'Niger')\r\n",
        "africa_low.loc[africa_low['Country']=='Central African Republic'].plot(x='HDI', y= 'TFR', kind='scatter', c = 'mediumblue', ax=ax, label = 'Central African Republic')\r\n",
        "africa_low.loc[africa_low['Country']=='Chad'].plot(x='HDI', y= 'TFR', kind='scatter', c = 'navy', ax=ax, label = 'Chad')\r\n",
        "ax.legend(loc='best')\r\n",
        "ax.set_title('3 Lowest HDI Countries: HDI vs TFR')\r\n",
        "ax.figure.savefig('Scatter Plot 3 Lowest HDI Countries: HDI vs TFR.png')\r\n",
        "#HDI vs TFR of 3 lowest HDI countries"
      ],
      "execution_count": 160,
      "outputs": [
        {
          "output_type": "display_data",
          "data": {
            "image/png": "[encoded data removed]",
            "text/plain": [
              "<Figure size 720x576 with 1 Axes>"
            ]
          },
          "metadata": {
            "tags": [],
            "needs_background": "light"
          }
        }
      ]
    },
    {
      "cell_type": "code",
      "metadata": {
        "colab": {
          "base_uri": "https://localhost:8080/",
          "height": 513
        },
        "id": "ZI0oM7Yn1Ryl",
        "outputId": "edf91931-4684-4d9e-9c12-51a54dc0dea1"
      },
      "source": [
        "ax = africa_low.loc[africa_low['Country']=='Niger'].plot(x='HDI', y= 'TFR', kind='line', c = 'cornflowerblue', label = 'Niger')\r\n",
        "africa_low.loc[africa_low['Country']=='Central African Republic'].plot(x='HDI', y= 'TFR', kind='line', c = 'mediumblue', ax=ax, label = 'Central African Republic')\r\n",
        "africa_low.loc[africa_low['Country']=='Chad'].plot(x='HDI', y= 'TFR', kind='line', c = 'navy', ax=ax, label = 'Chad')\r\n",
        "ax.set_ylabel('TFR')\r\n",
        "ax.legend(loc='best')\r\n",
        "ax.set_title('3 Lowest HDI Countries: HDI vs TFR')\r\n",
        "ax.figure.savefig('Line Plot 3 Lowest HDI Countries: TFR vs HDI.png')\r\n",
        "#HDI vs TFR of 3 lowest HDI countries"
      ],
      "execution_count": 161,
      "outputs": [
        {
          "output_type": "display_data",
          "data": {
            "image/png": "[encoded data removed]",
            "text/plain": [
              "<Figure size 720x576 with 1 Axes>"
            ]
          },
          "metadata": {
            "tags": [],
            "needs_background": "light"
          }
        }
      ]
    },
    {
      "cell_type": "code",
      "metadata": {
        "colab": {
          "base_uri": "https://localhost:8080/",
          "height": 522
        },
        "id": "DrPuKTsP2rWs",
        "outputId": "6bed7a5e-1c8b-4733-ed9a-e04348640330"
      },
      "source": [
        "ax = africa_low.loc[africa_low['Country']=='Niger'].plot(x='HDI', y= 'Labor force participation rate, female (% of female population ages 15+) (modeled ILO estimate)', kind='scatter', c = 'cornflowerblue', label = 'Niger')\r\n",
        "africa_low.loc[africa_low['Country']=='Central African Republic'].plot(x='HDI', y= 'Labor force participation rate, female (% of female population ages 15+) (modeled ILO estimate)', kind='scatter', c = 'mediumblue', ax=ax, label = 'Central African Republic')\r\n",
        "africa_low.loc[africa_low['Country']=='Chad'].plot(x='HDI', y= 'Labor force participation rate, female (% of female population ages 15+) (modeled ILO estimate)', kind='scatter', c = 'navy', ax=ax, label = 'Chad')\r\n",
        "ax.legend(loc='best')\r\n",
        "ax.set_title('3 Lowest HDI Countries: HDI vs FLPR')\r\n",
        "ax.figure.savefig('Scatter Plot 3 Lowest HDI Countries: HDI vs FLPR.png')\r\n",
        "#HDI vs FLPR of 3 lowest HDI countries"
      ],
      "execution_count": 162,
      "outputs": [
        {
          "output_type": "display_data",
          "data": {
            "image/png": "[encoded data removed]",
            "text/plain": [
              "<Figure size 720x576 with 1 Axes>"
            ]
          },
          "metadata": {
            "tags": [],
            "needs_background": "light"
          }
        }
      ]
    },
    {
      "cell_type": "code",
      "metadata": {
        "colab": {
          "base_uri": "https://localhost:8080/",
          "height": 522
        },
        "id": "MWzWiYs12uO2",
        "outputId": "a5adb9fb-9db7-4b05-a110-c2620e5e68ae"
      },
      "source": [
        "ax = africa_low.loc[africa_low['Country']=='Niger'].plot(x='HDI', y= 'Labor force participation rate, female (% of female population ages 15+) (modeled ILO estimate)', kind='line', c = 'cornflowerblue', label = 'Niger')\r\n",
        "africa_low.loc[africa_low['Country']=='Central African Republic'].plot(x='HDI', y= 'Labor force participation rate, female (% of female population ages 15+) (modeled ILO estimate)', kind='line', c = 'mediumblue', ax=ax, label = 'Central African Republic')\r\n",
        "africa_low.loc[africa_low['Country']=='Chad'].plot(x='HDI', y= 'Labor force participation rate, female (% of female population ages 15+) (modeled ILO estimate)', kind='line', c = 'navy', ax=ax, label = 'Chad')\r\n",
        "ax.set_ylabel('Labor force participation rate, female (% of female population ages 15+) (modeled ILO estimate)')\r\n",
        "ax.legend(loc='best')\r\n",
        "ax.set_title('3 Lowest HDI Countries: HDI vs FLPR')\r\n",
        "ax.figure.savefig('Line Plot 3 Lowest HDI Countries: HDI vs FLPR.png')\r\n",
        "#HDI vs FLPR of 3 lowest HDI countries"
      ],
      "execution_count": 163,
      "outputs": [
        {
          "output_type": "display_data",
          "data": {
            "image/png": "[encoded data removed]",
            "text/plain": [
              "<Figure size 720x576 with 1 Axes>"
            ]
          },
          "metadata": {
            "tags": [],
            "needs_background": "light"
          }
        }
      ]
    },
    {
      "cell_type": "code",
      "metadata": {
        "colab": {
          "base_uri": "https://localhost:8080/",
          "height": 522
        },
        "id": "diRegNG-2t3Q",
        "outputId": "f3643bbb-b120-41b0-b7c3-0fd4f12af2db"
      },
      "source": [
        "ax = africa_low.loc[africa_low['Country']=='Niger'].plot(x='TFR', y= 'Labor force participation rate, female (% of female population ages 15+) (modeled ILO estimate)', kind='scatter', c = 'cornflowerblue', label = 'Niger')\r\n",
        "africa_low.loc[africa_low['Country']=='Central African Republic'].plot(x='TFR', y= 'Labor force participation rate, female (% of female population ages 15+) (modeled ILO estimate)', kind='scatter', c = 'mediumblue', ax=ax, label = 'Central African Republic')\r\n",
        "africa_low.loc[africa_low['Country']=='Chad'].plot(x='TFR', y= 'Labor force participation rate, female (% of female population ages 15+) (modeled ILO estimate)', kind='scatter', c = 'navy', ax=ax, label = 'Chad')\r\n",
        "ax.legend(loc='lower right')\r\n",
        "ax.set_title('3 Lowest HDI Countries: TFR vs FLPR')\r\n",
        "ax.figure.savefig('Scatter Plot 3 Lowest HDI Countries: TFR vs FLPR.png')\r\n",
        "#TFR vs FLPR of 3 lowest HDI countries"
      ],
      "execution_count": 164,
      "outputs": [
        {
          "output_type": "display_data",
          "data": {
            "image/png": "[encoded data removed]",
            "text/plain": [
              "<Figure size 720x576 with 1 Axes>"
            ]
          },
          "metadata": {
            "tags": [],
            "needs_background": "light"
          }
        }
      ]
    },
    {
      "cell_type": "code",
      "metadata": {
        "colab": {
          "base_uri": "https://localhost:8080/",
          "height": 522
        },
        "id": "5mjzb8Fg2uhI",
        "outputId": "2c54507b-b6b8-4c67-d449-41cfcb34ba4b"
      },
      "source": [
        "ax = africa_low.loc[africa_low['Country']=='Niger'].plot(x='TFR', y= 'Labor force participation rate, female (% of female population ages 15+) (modeled ILO estimate)', kind='line', c = 'cornflowerblue', label = 'Niger')\r\n",
        "africa_low.loc[africa_low['Country']=='Central African Republic'].plot(x='TFR', y= 'Labor force participation rate, female (% of female population ages 15+) (modeled ILO estimate)', kind='line', c = 'mediumblue', ax=ax, label = 'Central African Republic')\r\n",
        "africa_low.loc[africa_low['Country']=='Chad'].plot(x='TFR', y= 'Labor force participation rate, female (% of female population ages 15+) (modeled ILO estimate)', kind='line', c = 'navy', ax=ax, label = 'Chad')\r\n",
        "ax.set_ylabel('Labor force participation rate, female (% of female population ages 15+) (modeled ILO estimate)')\r\n",
        "ax.legend(loc='lower right')\r\n",
        "ax.set_title('3 Lowest HDI Countries: TFR vs FLPR')\r\n",
        "ax.figure.savefig('Line Plot 3 Lowest HDI Countries: TFR vs FLPR.png')\r\n",
        "#TFR vs FLPR of 3 lowest HDI countries"
      ],
      "execution_count": 165,
      "outputs": [
        {
          "output_type": "display_data",
          "data": {
            "image/png": "[encoded data removed]",
            "text/plain": [
              "<Figure size 720x576 with 1 Axes>"
            ]
          },
          "metadata": {
            "tags": [],
            "needs_background": "light"
          }
        }
      ]
    }
  ]
}